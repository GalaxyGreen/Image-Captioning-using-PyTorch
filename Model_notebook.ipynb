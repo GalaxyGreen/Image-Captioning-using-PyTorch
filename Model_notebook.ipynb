{
  "nbformat": 4,
  "nbformat_minor": 0,
  "metadata": {
    "colab": {
      "name": "Untitled11_(11)_(8) (3).ipynb",
      "provenance": [],
      "collapsed_sections": [],
      "toc_visible": true
    },
    "kernelspec": {
      "display_name": "Python 3",
      "name": "python3"
    },
    "widgets": {
      "application/vnd.jupyter.widget-state+json": {
        "e5a58bb470924b8e931f2c847f73c755": {
          "model_module": "@jupyter-widgets/controls",
          "model_name": "HBoxModel",
          "state": {
            "_view_name": "HBoxView",
            "_dom_classes": [],
            "_model_name": "HBoxModel",
            "_view_module": "@jupyter-widgets/controls",
            "_model_module_version": "1.5.0",
            "_view_count": null,
            "_view_module_version": "1.5.0",
            "box_style": "",
            "layout": "IPY_MODEL_f87f6c2e7ae540eeaef091f141bda14f",
            "_model_module": "@jupyter-widgets/controls",
            "children": [
              "IPY_MODEL_e973914c612d42449938b1d0914a037a",
              "IPY_MODEL_7b672031fed6442993ec44e1187eb098"
            ]
          }
        },
        "f87f6c2e7ae540eeaef091f141bda14f": {
          "model_module": "@jupyter-widgets/base",
          "model_name": "LayoutModel",
          "state": {
            "_view_name": "LayoutView",
            "grid_template_rows": null,
            "right": null,
            "justify_content": null,
            "_view_module": "@jupyter-widgets/base",
            "overflow": null,
            "_model_module_version": "1.2.0",
            "_view_count": null,
            "flex_flow": null,
            "width": null,
            "min_width": null,
            "border": null,
            "align_items": null,
            "bottom": null,
            "_model_module": "@jupyter-widgets/base",
            "top": null,
            "grid_column": null,
            "overflow_y": null,
            "overflow_x": null,
            "grid_auto_flow": null,
            "grid_area": null,
            "grid_template_columns": null,
            "flex": null,
            "_model_name": "LayoutModel",
            "justify_items": null,
            "grid_row": null,
            "max_height": null,
            "align_content": null,
            "visibility": null,
            "align_self": null,
            "height": null,
            "min_height": null,
            "padding": null,
            "grid_auto_rows": null,
            "grid_gap": null,
            "max_width": null,
            "order": null,
            "_view_module_version": "1.2.0",
            "grid_template_areas": null,
            "object_position": null,
            "object_fit": null,
            "grid_auto_columns": null,
            "margin": null,
            "display": null,
            "left": null
          }
        },
        "e973914c612d42449938b1d0914a037a": {
          "model_module": "@jupyter-widgets/controls",
          "model_name": "FloatProgressModel",
          "state": {
            "_view_name": "ProgressView",
            "style": "IPY_MODEL_b34bc4e381984921b61e661c33d63e30",
            "_dom_classes": [],
            "description": "100%",
            "_model_name": "FloatProgressModel",
            "bar_style": "success",
            "max": 108857766,
            "_view_module": "@jupyter-widgets/controls",
            "_model_module_version": "1.5.0",
            "value": 108857766,
            "_view_count": null,
            "_view_module_version": "1.5.0",
            "orientation": "horizontal",
            "min": 0,
            "description_tooltip": null,
            "_model_module": "@jupyter-widgets/controls",
            "layout": "IPY_MODEL_31343778655e4b54b76d192640abe0ae"
          }
        },
        "7b672031fed6442993ec44e1187eb098": {
          "model_module": "@jupyter-widgets/controls",
          "model_name": "HTMLModel",
          "state": {
            "_view_name": "HTMLView",
            "style": "IPY_MODEL_6a057a9e466a4670a15d13d5c7116a60",
            "_dom_classes": [],
            "description": "",
            "_model_name": "HTMLModel",
            "placeholder": "​",
            "_view_module": "@jupyter-widgets/controls",
            "_model_module_version": "1.5.0",
            "value": " 104M/104M [00:01&lt;00:00, 68.9MB/s]",
            "_view_count": null,
            "_view_module_version": "1.5.0",
            "description_tooltip": null,
            "_model_module": "@jupyter-widgets/controls",
            "layout": "IPY_MODEL_2a72da6abda14a51a53f8e5469ee396b"
          }
        },
        "b34bc4e381984921b61e661c33d63e30": {
          "model_module": "@jupyter-widgets/controls",
          "model_name": "ProgressStyleModel",
          "state": {
            "_view_name": "StyleView",
            "_model_name": "ProgressStyleModel",
            "description_width": "initial",
            "_view_module": "@jupyter-widgets/base",
            "_model_module_version": "1.5.0",
            "_view_count": null,
            "_view_module_version": "1.2.0",
            "bar_color": null,
            "_model_module": "@jupyter-widgets/controls"
          }
        },
        "31343778655e4b54b76d192640abe0ae": {
          "model_module": "@jupyter-widgets/base",
          "model_name": "LayoutModel",
          "state": {
            "_view_name": "LayoutView",
            "grid_template_rows": null,
            "right": null,
            "justify_content": null,
            "_view_module": "@jupyter-widgets/base",
            "overflow": null,
            "_model_module_version": "1.2.0",
            "_view_count": null,
            "flex_flow": null,
            "width": null,
            "min_width": null,
            "border": null,
            "align_items": null,
            "bottom": null,
            "_model_module": "@jupyter-widgets/base",
            "top": null,
            "grid_column": null,
            "overflow_y": null,
            "overflow_x": null,
            "grid_auto_flow": null,
            "grid_area": null,
            "grid_template_columns": null,
            "flex": null,
            "_model_name": "LayoutModel",
            "justify_items": null,
            "grid_row": null,
            "max_height": null,
            "align_content": null,
            "visibility": null,
            "align_self": null,
            "height": null,
            "min_height": null,
            "padding": null,
            "grid_auto_rows": null,
            "grid_gap": null,
            "max_width": null,
            "order": null,
            "_view_module_version": "1.2.0",
            "grid_template_areas": null,
            "object_position": null,
            "object_fit": null,
            "grid_auto_columns": null,
            "margin": null,
            "display": null,
            "left": null
          }
        },
        "6a057a9e466a4670a15d13d5c7116a60": {
          "model_module": "@jupyter-widgets/controls",
          "model_name": "DescriptionStyleModel",
          "state": {
            "_view_name": "StyleView",
            "_model_name": "DescriptionStyleModel",
            "description_width": "",
            "_view_module": "@jupyter-widgets/base",
            "_model_module_version": "1.5.0",
            "_view_count": null,
            "_view_module_version": "1.2.0",
            "_model_module": "@jupyter-widgets/controls"
          }
        },
        "2a72da6abda14a51a53f8e5469ee396b": {
          "model_module": "@jupyter-widgets/base",
          "model_name": "LayoutModel",
          "state": {
            "_view_name": "LayoutView",
            "grid_template_rows": null,
            "right": null,
            "justify_content": null,
            "_view_module": "@jupyter-widgets/base",
            "overflow": null,
            "_model_module_version": "1.2.0",
            "_view_count": null,
            "flex_flow": null,
            "width": null,
            "min_width": null,
            "border": null,
            "align_items": null,
            "bottom": null,
            "_model_module": "@jupyter-widgets/base",
            "top": null,
            "grid_column": null,
            "overflow_y": null,
            "overflow_x": null,
            "grid_auto_flow": null,
            "grid_area": null,
            "grid_template_columns": null,
            "flex": null,
            "_model_name": "LayoutModel",
            "justify_items": null,
            "grid_row": null,
            "max_height": null,
            "align_content": null,
            "visibility": null,
            "align_self": null,
            "height": null,
            "min_height": null,
            "padding": null,
            "grid_auto_rows": null,
            "grid_gap": null,
            "max_width": null,
            "order": null,
            "_view_module_version": "1.2.0",
            "grid_template_areas": null,
            "object_position": null,
            "object_fit": null,
            "grid_auto_columns": null,
            "margin": null,
            "display": null,
            "left": null
          }
        },
        "16e7c11fca9b41838ff91a1c30d96a4a": {
          "model_module": "@jupyter-widgets/controls",
          "model_name": "HBoxModel",
          "state": {
            "_view_name": "HBoxView",
            "_dom_classes": [],
            "_model_name": "HBoxModel",
            "_view_module": "@jupyter-widgets/controls",
            "_model_module_version": "1.5.0",
            "_view_count": null,
            "_view_module_version": "1.5.0",
            "box_style": "",
            "layout": "IPY_MODEL_2d075aae33bc4f25b14685d6be0efe6e",
            "_model_module": "@jupyter-widgets/controls",
            "children": [
              "IPY_MODEL_e93377615b024da297a896042f1fa9ee",
              "IPY_MODEL_62e730e67cba4d6b974b08922ff4117f"
            ]
          }
        },
        "2d075aae33bc4f25b14685d6be0efe6e": {
          "model_module": "@jupyter-widgets/base",
          "model_name": "LayoutModel",
          "state": {
            "_view_name": "LayoutView",
            "grid_template_rows": null,
            "right": null,
            "justify_content": null,
            "_view_module": "@jupyter-widgets/base",
            "overflow": null,
            "_model_module_version": "1.2.0",
            "_view_count": null,
            "flex_flow": null,
            "width": null,
            "min_width": null,
            "border": null,
            "align_items": null,
            "bottom": null,
            "_model_module": "@jupyter-widgets/base",
            "top": null,
            "grid_column": null,
            "overflow_y": null,
            "overflow_x": null,
            "grid_auto_flow": null,
            "grid_area": null,
            "grid_template_columns": null,
            "flex": null,
            "_model_name": "LayoutModel",
            "justify_items": null,
            "grid_row": null,
            "max_height": null,
            "align_content": null,
            "visibility": null,
            "align_self": null,
            "height": null,
            "min_height": null,
            "padding": null,
            "grid_auto_rows": null,
            "grid_gap": null,
            "max_width": null,
            "order": null,
            "_view_module_version": "1.2.0",
            "grid_template_areas": null,
            "object_position": null,
            "object_fit": null,
            "grid_auto_columns": null,
            "margin": null,
            "display": null,
            "left": null
          }
        },
        "e93377615b024da297a896042f1fa9ee": {
          "model_module": "@jupyter-widgets/controls",
          "model_name": "FloatProgressModel",
          "state": {
            "_view_name": "ProgressView",
            "style": "IPY_MODEL_dd049bdf764242e59568afd70bf701f0",
            "_dom_classes": [],
            "description": "",
            "_model_name": "FloatProgressModel",
            "bar_style": "success",
            "max": 1034,
            "_view_module": "@jupyter-widgets/controls",
            "_model_module_version": "1.5.0",
            "value": 1034,
            "_view_count": null,
            "_view_module_version": "1.5.0",
            "orientation": "horizontal",
            "min": 0,
            "description_tooltip": null,
            "_model_module": "@jupyter-widgets/controls",
            "layout": "IPY_MODEL_61dfa6178660447ead5c005a439dc6cc"
          }
        },
        "62e730e67cba4d6b974b08922ff4117f": {
          "model_module": "@jupyter-widgets/controls",
          "model_name": "HTMLModel",
          "state": {
            "_view_name": "HTMLView",
            "style": "IPY_MODEL_6096df7989dc43838b175c6191e8728f",
            "_dom_classes": [],
            "description": "",
            "_model_name": "HTMLModel",
            "placeholder": "​",
            "_view_module": "@jupyter-widgets/controls",
            "_model_module_version": "1.5.0",
            "value": " 1035/? [41:59&lt;00:00,  2.43s/it]",
            "_view_count": null,
            "_view_module_version": "1.5.0",
            "description_tooltip": null,
            "_model_module": "@jupyter-widgets/controls",
            "layout": "IPY_MODEL_a1eaf2f4264e4eb59eb83cb87557eb9e"
          }
        },
        "dd049bdf764242e59568afd70bf701f0": {
          "model_module": "@jupyter-widgets/controls",
          "model_name": "ProgressStyleModel",
          "state": {
            "_view_name": "StyleView",
            "_model_name": "ProgressStyleModel",
            "description_width": "initial",
            "_view_module": "@jupyter-widgets/base",
            "_model_module_version": "1.5.0",
            "_view_count": null,
            "_view_module_version": "1.2.0",
            "bar_color": null,
            "_model_module": "@jupyter-widgets/controls"
          }
        },
        "61dfa6178660447ead5c005a439dc6cc": {
          "model_module": "@jupyter-widgets/base",
          "model_name": "LayoutModel",
          "state": {
            "_view_name": "LayoutView",
            "grid_template_rows": null,
            "right": null,
            "justify_content": null,
            "_view_module": "@jupyter-widgets/base",
            "overflow": null,
            "_model_module_version": "1.2.0",
            "_view_count": null,
            "flex_flow": null,
            "width": null,
            "min_width": null,
            "border": null,
            "align_items": null,
            "bottom": null,
            "_model_module": "@jupyter-widgets/base",
            "top": null,
            "grid_column": null,
            "overflow_y": null,
            "overflow_x": null,
            "grid_auto_flow": null,
            "grid_area": null,
            "grid_template_columns": null,
            "flex": null,
            "_model_name": "LayoutModel",
            "justify_items": null,
            "grid_row": null,
            "max_height": null,
            "align_content": null,
            "visibility": null,
            "align_self": null,
            "height": null,
            "min_height": null,
            "padding": null,
            "grid_auto_rows": null,
            "grid_gap": null,
            "max_width": null,
            "order": null,
            "_view_module_version": "1.2.0",
            "grid_template_areas": null,
            "object_position": null,
            "object_fit": null,
            "grid_auto_columns": null,
            "margin": null,
            "display": null,
            "left": null
          }
        },
        "6096df7989dc43838b175c6191e8728f": {
          "model_module": "@jupyter-widgets/controls",
          "model_name": "DescriptionStyleModel",
          "state": {
            "_view_name": "StyleView",
            "_model_name": "DescriptionStyleModel",
            "description_width": "",
            "_view_module": "@jupyter-widgets/base",
            "_model_module_version": "1.5.0",
            "_view_count": null,
            "_view_module_version": "1.2.0",
            "_model_module": "@jupyter-widgets/controls"
          }
        },
        "a1eaf2f4264e4eb59eb83cb87557eb9e": {
          "model_module": "@jupyter-widgets/base",
          "model_name": "LayoutModel",
          "state": {
            "_view_name": "LayoutView",
            "grid_template_rows": null,
            "right": null,
            "justify_content": null,
            "_view_module": "@jupyter-widgets/base",
            "overflow": null,
            "_model_module_version": "1.2.0",
            "_view_count": null,
            "flex_flow": null,
            "width": null,
            "min_width": null,
            "border": null,
            "align_items": null,
            "bottom": null,
            "_model_module": "@jupyter-widgets/base",
            "top": null,
            "grid_column": null,
            "overflow_y": null,
            "overflow_x": null,
            "grid_auto_flow": null,
            "grid_area": null,
            "grid_template_columns": null,
            "flex": null,
            "_model_name": "LayoutModel",
            "justify_items": null,
            "grid_row": null,
            "max_height": null,
            "align_content": null,
            "visibility": null,
            "align_self": null,
            "height": null,
            "min_height": null,
            "padding": null,
            "grid_auto_rows": null,
            "grid_gap": null,
            "max_width": null,
            "order": null,
            "_view_module_version": "1.2.0",
            "grid_template_areas": null,
            "object_position": null,
            "object_fit": null,
            "grid_auto_columns": null,
            "margin": null,
            "display": null,
            "left": null
          }
        },
        "02c2078e783c4c10864fc1161f3b3ddd": {
          "model_module": "@jupyter-widgets/controls",
          "model_name": "HBoxModel",
          "state": {
            "_view_name": "HBoxView",
            "_dom_classes": [],
            "_model_name": "HBoxModel",
            "_view_module": "@jupyter-widgets/controls",
            "_model_module_version": "1.5.0",
            "_view_count": null,
            "_view_module_version": "1.5.0",
            "box_style": "",
            "layout": "IPY_MODEL_033ec1c3a2f24bce93a898ab1a468b36",
            "_model_module": "@jupyter-widgets/controls",
            "children": [
              "IPY_MODEL_ae14d363fd8747d69b3e7af78239434b",
              "IPY_MODEL_e66f691a943d4902b878cc5adf1315bb"
            ]
          }
        },
        "033ec1c3a2f24bce93a898ab1a468b36": {
          "model_module": "@jupyter-widgets/base",
          "model_name": "LayoutModel",
          "state": {
            "_view_name": "LayoutView",
            "grid_template_rows": null,
            "right": null,
            "justify_content": null,
            "_view_module": "@jupyter-widgets/base",
            "overflow": null,
            "_model_module_version": "1.2.0",
            "_view_count": null,
            "flex_flow": null,
            "width": null,
            "min_width": null,
            "border": null,
            "align_items": null,
            "bottom": null,
            "_model_module": "@jupyter-widgets/base",
            "top": null,
            "grid_column": null,
            "overflow_y": null,
            "overflow_x": null,
            "grid_auto_flow": null,
            "grid_area": null,
            "grid_template_columns": null,
            "flex": null,
            "_model_name": "LayoutModel",
            "justify_items": null,
            "grid_row": null,
            "max_height": null,
            "align_content": null,
            "visibility": null,
            "align_self": null,
            "height": null,
            "min_height": null,
            "padding": null,
            "grid_auto_rows": null,
            "grid_gap": null,
            "max_width": null,
            "order": null,
            "_view_module_version": "1.2.0",
            "grid_template_areas": null,
            "object_position": null,
            "object_fit": null,
            "grid_auto_columns": null,
            "margin": null,
            "display": null,
            "left": null
          }
        },
        "ae14d363fd8747d69b3e7af78239434b": {
          "model_module": "@jupyter-widgets/controls",
          "model_name": "FloatProgressModel",
          "state": {
            "_view_name": "ProgressView",
            "style": "IPY_MODEL_ea21613b7b4349338a939889e314f10b",
            "_dom_classes": [],
            "description": "",
            "_model_name": "FloatProgressModel",
            "bar_style": "success",
            "max": 129,
            "_view_module": "@jupyter-widgets/controls",
            "_model_module_version": "1.5.0",
            "value": 129,
            "_view_count": null,
            "_view_module_version": "1.5.0",
            "orientation": "horizontal",
            "min": 0,
            "description_tooltip": null,
            "_model_module": "@jupyter-widgets/controls",
            "layout": "IPY_MODEL_a8211b8e29214c0fa914892b12021cc5"
          }
        },
        "e66f691a943d4902b878cc5adf1315bb": {
          "model_module": "@jupyter-widgets/controls",
          "model_name": "HTMLModel",
          "state": {
            "_view_name": "HTMLView",
            "style": "IPY_MODEL_3f5211aee5b44ad7a194fb6eb95a2688",
            "_dom_classes": [],
            "description": "",
            "_model_name": "HTMLModel",
            "placeholder": "​",
            "_view_module": "@jupyter-widgets/controls",
            "_model_module_version": "1.5.0",
            "value": " 130/? [02:38&lt;00:00,  1.22s/it]",
            "_view_count": null,
            "_view_module_version": "1.5.0",
            "description_tooltip": null,
            "_model_module": "@jupyter-widgets/controls",
            "layout": "IPY_MODEL_8225ccd7df8349f798c596be9780c5a5"
          }
        },
        "ea21613b7b4349338a939889e314f10b": {
          "model_module": "@jupyter-widgets/controls",
          "model_name": "ProgressStyleModel",
          "state": {
            "_view_name": "StyleView",
            "_model_name": "ProgressStyleModel",
            "description_width": "initial",
            "_view_module": "@jupyter-widgets/base",
            "_model_module_version": "1.5.0",
            "_view_count": null,
            "_view_module_version": "1.2.0",
            "bar_color": null,
            "_model_module": "@jupyter-widgets/controls"
          }
        },
        "a8211b8e29214c0fa914892b12021cc5": {
          "model_module": "@jupyter-widgets/base",
          "model_name": "LayoutModel",
          "state": {
            "_view_name": "LayoutView",
            "grid_template_rows": null,
            "right": null,
            "justify_content": null,
            "_view_module": "@jupyter-widgets/base",
            "overflow": null,
            "_model_module_version": "1.2.0",
            "_view_count": null,
            "flex_flow": null,
            "width": null,
            "min_width": null,
            "border": null,
            "align_items": null,
            "bottom": null,
            "_model_module": "@jupyter-widgets/base",
            "top": null,
            "grid_column": null,
            "overflow_y": null,
            "overflow_x": null,
            "grid_auto_flow": null,
            "grid_area": null,
            "grid_template_columns": null,
            "flex": null,
            "_model_name": "LayoutModel",
            "justify_items": null,
            "grid_row": null,
            "max_height": null,
            "align_content": null,
            "visibility": null,
            "align_self": null,
            "height": null,
            "min_height": null,
            "padding": null,
            "grid_auto_rows": null,
            "grid_gap": null,
            "max_width": null,
            "order": null,
            "_view_module_version": "1.2.0",
            "grid_template_areas": null,
            "object_position": null,
            "object_fit": null,
            "grid_auto_columns": null,
            "margin": null,
            "display": null,
            "left": null
          }
        },
        "3f5211aee5b44ad7a194fb6eb95a2688": {
          "model_module": "@jupyter-widgets/controls",
          "model_name": "DescriptionStyleModel",
          "state": {
            "_view_name": "StyleView",
            "_model_name": "DescriptionStyleModel",
            "description_width": "",
            "_view_module": "@jupyter-widgets/base",
            "_model_module_version": "1.5.0",
            "_view_count": null,
            "_view_module_version": "1.2.0",
            "_model_module": "@jupyter-widgets/controls"
          }
        },
        "8225ccd7df8349f798c596be9780c5a5": {
          "model_module": "@jupyter-widgets/base",
          "model_name": "LayoutModel",
          "state": {
            "_view_name": "LayoutView",
            "grid_template_rows": null,
            "right": null,
            "justify_content": null,
            "_view_module": "@jupyter-widgets/base",
            "overflow": null,
            "_model_module_version": "1.2.0",
            "_view_count": null,
            "flex_flow": null,
            "width": null,
            "min_width": null,
            "border": null,
            "align_items": null,
            "bottom": null,
            "_model_module": "@jupyter-widgets/base",
            "top": null,
            "grid_column": null,
            "overflow_y": null,
            "overflow_x": null,
            "grid_auto_flow": null,
            "grid_area": null,
            "grid_template_columns": null,
            "flex": null,
            "_model_name": "LayoutModel",
            "justify_items": null,
            "grid_row": null,
            "max_height": null,
            "align_content": null,
            "visibility": null,
            "align_self": null,
            "height": null,
            "min_height": null,
            "padding": null,
            "grid_auto_rows": null,
            "grid_gap": null,
            "max_width": null,
            "order": null,
            "_view_module_version": "1.2.0",
            "grid_template_areas": null,
            "object_position": null,
            "object_fit": null,
            "grid_auto_columns": null,
            "margin": null,
            "display": null,
            "left": null
          }
        },
        "ea7943ba5cd6404db06d943123d2dd95": {
          "model_module": "@jupyter-widgets/controls",
          "model_name": "HBoxModel",
          "state": {
            "_view_name": "HBoxView",
            "_dom_classes": [],
            "_model_name": "HBoxModel",
            "_view_module": "@jupyter-widgets/controls",
            "_model_module_version": "1.5.0",
            "_view_count": null,
            "_view_module_version": "1.5.0",
            "box_style": "",
            "layout": "IPY_MODEL_012d36b66f9242da817d47d82bc545c1",
            "_model_module": "@jupyter-widgets/controls",
            "children": [
              "IPY_MODEL_0d3df3d08ce54eb788efdb6fc522f09c",
              "IPY_MODEL_4d436dd2ce3149a0a6a44e9d4860d59d"
            ]
          }
        },
        "012d36b66f9242da817d47d82bc545c1": {
          "model_module": "@jupyter-widgets/base",
          "model_name": "LayoutModel",
          "state": {
            "_view_name": "LayoutView",
            "grid_template_rows": null,
            "right": null,
            "justify_content": null,
            "_view_module": "@jupyter-widgets/base",
            "overflow": null,
            "_model_module_version": "1.2.0",
            "_view_count": null,
            "flex_flow": null,
            "width": null,
            "min_width": null,
            "border": null,
            "align_items": null,
            "bottom": null,
            "_model_module": "@jupyter-widgets/base",
            "top": null,
            "grid_column": null,
            "overflow_y": null,
            "overflow_x": null,
            "grid_auto_flow": null,
            "grid_area": null,
            "grid_template_columns": null,
            "flex": null,
            "_model_name": "LayoutModel",
            "justify_items": null,
            "grid_row": null,
            "max_height": null,
            "align_content": null,
            "visibility": null,
            "align_self": null,
            "height": null,
            "min_height": null,
            "padding": null,
            "grid_auto_rows": null,
            "grid_gap": null,
            "max_width": null,
            "order": null,
            "_view_module_version": "1.2.0",
            "grid_template_areas": null,
            "object_position": null,
            "object_fit": null,
            "grid_auto_columns": null,
            "margin": null,
            "display": null,
            "left": null
          }
        },
        "0d3df3d08ce54eb788efdb6fc522f09c": {
          "model_module": "@jupyter-widgets/controls",
          "model_name": "FloatProgressModel",
          "state": {
            "_view_name": "ProgressView",
            "style": "IPY_MODEL_45b82c0f83f24b2a9c82bbd046ee0db6",
            "_dom_classes": [],
            "description": "",
            "_model_name": "FloatProgressModel",
            "bar_style": "success",
            "max": 1034,
            "_view_module": "@jupyter-widgets/controls",
            "_model_module_version": "1.5.0",
            "value": 1034,
            "_view_count": null,
            "_view_module_version": "1.5.0",
            "orientation": "horizontal",
            "min": 0,
            "description_tooltip": null,
            "_model_module": "@jupyter-widgets/controls",
            "layout": "IPY_MODEL_f7299fe4a2f647a784bf308fa2c6b479"
          }
        },
        "4d436dd2ce3149a0a6a44e9d4860d59d": {
          "model_module": "@jupyter-widgets/controls",
          "model_name": "HTMLModel",
          "state": {
            "_view_name": "HTMLView",
            "style": "IPY_MODEL_9a767ffc869d473fa0343b784a54e2ae",
            "_dom_classes": [],
            "description": "",
            "_model_name": "HTMLModel",
            "placeholder": "​",
            "_view_module": "@jupyter-widgets/controls",
            "_model_module_version": "1.5.0",
            "value": " 1035/? [41:41&lt;00:00,  2.42s/it]",
            "_view_count": null,
            "_view_module_version": "1.5.0",
            "description_tooltip": null,
            "_model_module": "@jupyter-widgets/controls",
            "layout": "IPY_MODEL_036eb6374a7f41deb47d896b6cb1ca0b"
          }
        },
        "45b82c0f83f24b2a9c82bbd046ee0db6": {
          "model_module": "@jupyter-widgets/controls",
          "model_name": "ProgressStyleModel",
          "state": {
            "_view_name": "StyleView",
            "_model_name": "ProgressStyleModel",
            "description_width": "initial",
            "_view_module": "@jupyter-widgets/base",
            "_model_module_version": "1.5.0",
            "_view_count": null,
            "_view_module_version": "1.2.0",
            "bar_color": null,
            "_model_module": "@jupyter-widgets/controls"
          }
        },
        "f7299fe4a2f647a784bf308fa2c6b479": {
          "model_module": "@jupyter-widgets/base",
          "model_name": "LayoutModel",
          "state": {
            "_view_name": "LayoutView",
            "grid_template_rows": null,
            "right": null,
            "justify_content": null,
            "_view_module": "@jupyter-widgets/base",
            "overflow": null,
            "_model_module_version": "1.2.0",
            "_view_count": null,
            "flex_flow": null,
            "width": null,
            "min_width": null,
            "border": null,
            "align_items": null,
            "bottom": null,
            "_model_module": "@jupyter-widgets/base",
            "top": null,
            "grid_column": null,
            "overflow_y": null,
            "overflow_x": null,
            "grid_auto_flow": null,
            "grid_area": null,
            "grid_template_columns": null,
            "flex": null,
            "_model_name": "LayoutModel",
            "justify_items": null,
            "grid_row": null,
            "max_height": null,
            "align_content": null,
            "visibility": null,
            "align_self": null,
            "height": null,
            "min_height": null,
            "padding": null,
            "grid_auto_rows": null,
            "grid_gap": null,
            "max_width": null,
            "order": null,
            "_view_module_version": "1.2.0",
            "grid_template_areas": null,
            "object_position": null,
            "object_fit": null,
            "grid_auto_columns": null,
            "margin": null,
            "display": null,
            "left": null
          }
        },
        "9a767ffc869d473fa0343b784a54e2ae": {
          "model_module": "@jupyter-widgets/controls",
          "model_name": "DescriptionStyleModel",
          "state": {
            "_view_name": "StyleView",
            "_model_name": "DescriptionStyleModel",
            "description_width": "",
            "_view_module": "@jupyter-widgets/base",
            "_model_module_version": "1.5.0",
            "_view_count": null,
            "_view_module_version": "1.2.0",
            "_model_module": "@jupyter-widgets/controls"
          }
        },
        "036eb6374a7f41deb47d896b6cb1ca0b": {
          "model_module": "@jupyter-widgets/base",
          "model_name": "LayoutModel",
          "state": {
            "_view_name": "LayoutView",
            "grid_template_rows": null,
            "right": null,
            "justify_content": null,
            "_view_module": "@jupyter-widgets/base",
            "overflow": null,
            "_model_module_version": "1.2.0",
            "_view_count": null,
            "flex_flow": null,
            "width": null,
            "min_width": null,
            "border": null,
            "align_items": null,
            "bottom": null,
            "_model_module": "@jupyter-widgets/base",
            "top": null,
            "grid_column": null,
            "overflow_y": null,
            "overflow_x": null,
            "grid_auto_flow": null,
            "grid_area": null,
            "grid_template_columns": null,
            "flex": null,
            "_model_name": "LayoutModel",
            "justify_items": null,
            "grid_row": null,
            "max_height": null,
            "align_content": null,
            "visibility": null,
            "align_self": null,
            "height": null,
            "min_height": null,
            "padding": null,
            "grid_auto_rows": null,
            "grid_gap": null,
            "max_width": null,
            "order": null,
            "_view_module_version": "1.2.0",
            "grid_template_areas": null,
            "object_position": null,
            "object_fit": null,
            "grid_auto_columns": null,
            "margin": null,
            "display": null,
            "left": null
          }
        },
        "0c2f31204eae4be8be427ac7087a8155": {
          "model_module": "@jupyter-widgets/controls",
          "model_name": "HBoxModel",
          "state": {
            "_view_name": "HBoxView",
            "_dom_classes": [],
            "_model_name": "HBoxModel",
            "_view_module": "@jupyter-widgets/controls",
            "_model_module_version": "1.5.0",
            "_view_count": null,
            "_view_module_version": "1.5.0",
            "box_style": "",
            "layout": "IPY_MODEL_d10b80791e374626ac3e95c7c6805cad",
            "_model_module": "@jupyter-widgets/controls",
            "children": [
              "IPY_MODEL_5a840588aa3943758c92b69d280327e9",
              "IPY_MODEL_da0fdd0813ea470c9c81cc3951b5f5c9"
            ]
          }
        },
        "d10b80791e374626ac3e95c7c6805cad": {
          "model_module": "@jupyter-widgets/base",
          "model_name": "LayoutModel",
          "state": {
            "_view_name": "LayoutView",
            "grid_template_rows": null,
            "right": null,
            "justify_content": null,
            "_view_module": "@jupyter-widgets/base",
            "overflow": null,
            "_model_module_version": "1.2.0",
            "_view_count": null,
            "flex_flow": null,
            "width": null,
            "min_width": null,
            "border": null,
            "align_items": null,
            "bottom": null,
            "_model_module": "@jupyter-widgets/base",
            "top": null,
            "grid_column": null,
            "overflow_y": null,
            "overflow_x": null,
            "grid_auto_flow": null,
            "grid_area": null,
            "grid_template_columns": null,
            "flex": null,
            "_model_name": "LayoutModel",
            "justify_items": null,
            "grid_row": null,
            "max_height": null,
            "align_content": null,
            "visibility": null,
            "align_self": null,
            "height": null,
            "min_height": null,
            "padding": null,
            "grid_auto_rows": null,
            "grid_gap": null,
            "max_width": null,
            "order": null,
            "_view_module_version": "1.2.0",
            "grid_template_areas": null,
            "object_position": null,
            "object_fit": null,
            "grid_auto_columns": null,
            "margin": null,
            "display": null,
            "left": null
          }
        },
        "5a840588aa3943758c92b69d280327e9": {
          "model_module": "@jupyter-widgets/controls",
          "model_name": "FloatProgressModel",
          "state": {
            "_view_name": "ProgressView",
            "style": "IPY_MODEL_6a45f67563b0458d81e09d0261b17dcd",
            "_dom_classes": [],
            "description": "",
            "_model_name": "FloatProgressModel",
            "bar_style": "success",
            "max": 129,
            "_view_module": "@jupyter-widgets/controls",
            "_model_module_version": "1.5.0",
            "value": 129,
            "_view_count": null,
            "_view_module_version": "1.5.0",
            "orientation": "horizontal",
            "min": 0,
            "description_tooltip": null,
            "_model_module": "@jupyter-widgets/controls",
            "layout": "IPY_MODEL_96cbc897f343401cb10af097bf5f11b2"
          }
        },
        "da0fdd0813ea470c9c81cc3951b5f5c9": {
          "model_module": "@jupyter-widgets/controls",
          "model_name": "HTMLModel",
          "state": {
            "_view_name": "HTMLView",
            "style": "IPY_MODEL_38ff0101533b415987584acf81aa9a75",
            "_dom_classes": [],
            "description": "",
            "_model_name": "HTMLModel",
            "placeholder": "​",
            "_view_module": "@jupyter-widgets/controls",
            "_model_module_version": "1.5.0",
            "value": " 130/? [02:40&lt;00:00,  1.23s/it]",
            "_view_count": null,
            "_view_module_version": "1.5.0",
            "description_tooltip": null,
            "_model_module": "@jupyter-widgets/controls",
            "layout": "IPY_MODEL_8eee92e21b724bc9a673c9d549e8ca6f"
          }
        },
        "6a45f67563b0458d81e09d0261b17dcd": {
          "model_module": "@jupyter-widgets/controls",
          "model_name": "ProgressStyleModel",
          "state": {
            "_view_name": "StyleView",
            "_model_name": "ProgressStyleModel",
            "description_width": "initial",
            "_view_module": "@jupyter-widgets/base",
            "_model_module_version": "1.5.0",
            "_view_count": null,
            "_view_module_version": "1.2.0",
            "bar_color": null,
            "_model_module": "@jupyter-widgets/controls"
          }
        },
        "96cbc897f343401cb10af097bf5f11b2": {
          "model_module": "@jupyter-widgets/base",
          "model_name": "LayoutModel",
          "state": {
            "_view_name": "LayoutView",
            "grid_template_rows": null,
            "right": null,
            "justify_content": null,
            "_view_module": "@jupyter-widgets/base",
            "overflow": null,
            "_model_module_version": "1.2.0",
            "_view_count": null,
            "flex_flow": null,
            "width": null,
            "min_width": null,
            "border": null,
            "align_items": null,
            "bottom": null,
            "_model_module": "@jupyter-widgets/base",
            "top": null,
            "grid_column": null,
            "overflow_y": null,
            "overflow_x": null,
            "grid_auto_flow": null,
            "grid_area": null,
            "grid_template_columns": null,
            "flex": null,
            "_model_name": "LayoutModel",
            "justify_items": null,
            "grid_row": null,
            "max_height": null,
            "align_content": null,
            "visibility": null,
            "align_self": null,
            "height": null,
            "min_height": null,
            "padding": null,
            "grid_auto_rows": null,
            "grid_gap": null,
            "max_width": null,
            "order": null,
            "_view_module_version": "1.2.0",
            "grid_template_areas": null,
            "object_position": null,
            "object_fit": null,
            "grid_auto_columns": null,
            "margin": null,
            "display": null,
            "left": null
          }
        },
        "38ff0101533b415987584acf81aa9a75": {
          "model_module": "@jupyter-widgets/controls",
          "model_name": "DescriptionStyleModel",
          "state": {
            "_view_name": "StyleView",
            "_model_name": "DescriptionStyleModel",
            "description_width": "",
            "_view_module": "@jupyter-widgets/base",
            "_model_module_version": "1.5.0",
            "_view_count": null,
            "_view_module_version": "1.2.0",
            "_model_module": "@jupyter-widgets/controls"
          }
        },
        "8eee92e21b724bc9a673c9d549e8ca6f": {
          "model_module": "@jupyter-widgets/base",
          "model_name": "LayoutModel",
          "state": {
            "_view_name": "LayoutView",
            "grid_template_rows": null,
            "right": null,
            "justify_content": null,
            "_view_module": "@jupyter-widgets/base",
            "overflow": null,
            "_model_module_version": "1.2.0",
            "_view_count": null,
            "flex_flow": null,
            "width": null,
            "min_width": null,
            "border": null,
            "align_items": null,
            "bottom": null,
            "_model_module": "@jupyter-widgets/base",
            "top": null,
            "grid_column": null,
            "overflow_y": null,
            "overflow_x": null,
            "grid_auto_flow": null,
            "grid_area": null,
            "grid_template_columns": null,
            "flex": null,
            "_model_name": "LayoutModel",
            "justify_items": null,
            "grid_row": null,
            "max_height": null,
            "align_content": null,
            "visibility": null,
            "align_self": null,
            "height": null,
            "min_height": null,
            "padding": null,
            "grid_auto_rows": null,
            "grid_gap": null,
            "max_width": null,
            "order": null,
            "_view_module_version": "1.2.0",
            "grid_template_areas": null,
            "object_position": null,
            "object_fit": null,
            "grid_auto_columns": null,
            "margin": null,
            "display": null,
            "left": null
          }
        },
        "e28e68d667c14f60b0827930ab304eca": {
          "model_module": "@jupyter-widgets/controls",
          "model_name": "HBoxModel",
          "state": {
            "_view_name": "HBoxView",
            "_dom_classes": [],
            "_model_name": "HBoxModel",
            "_view_module": "@jupyter-widgets/controls",
            "_model_module_version": "1.5.0",
            "_view_count": null,
            "_view_module_version": "1.5.0",
            "box_style": "",
            "layout": "IPY_MODEL_e920fc0c94554b8ba76a78d38602e8bf",
            "_model_module": "@jupyter-widgets/controls",
            "children": [
              "IPY_MODEL_2b6f5851256440a89afa3ef2e761927f",
              "IPY_MODEL_c0cedba8009842cc9d227822b94b5714"
            ]
          }
        },
        "e920fc0c94554b8ba76a78d38602e8bf": {
          "model_module": "@jupyter-widgets/base",
          "model_name": "LayoutModel",
          "state": {
            "_view_name": "LayoutView",
            "grid_template_rows": null,
            "right": null,
            "justify_content": null,
            "_view_module": "@jupyter-widgets/base",
            "overflow": null,
            "_model_module_version": "1.2.0",
            "_view_count": null,
            "flex_flow": null,
            "width": null,
            "min_width": null,
            "border": null,
            "align_items": null,
            "bottom": null,
            "_model_module": "@jupyter-widgets/base",
            "top": null,
            "grid_column": null,
            "overflow_y": null,
            "overflow_x": null,
            "grid_auto_flow": null,
            "grid_area": null,
            "grid_template_columns": null,
            "flex": null,
            "_model_name": "LayoutModel",
            "justify_items": null,
            "grid_row": null,
            "max_height": null,
            "align_content": null,
            "visibility": null,
            "align_self": null,
            "height": null,
            "min_height": null,
            "padding": null,
            "grid_auto_rows": null,
            "grid_gap": null,
            "max_width": null,
            "order": null,
            "_view_module_version": "1.2.0",
            "grid_template_areas": null,
            "object_position": null,
            "object_fit": null,
            "grid_auto_columns": null,
            "margin": null,
            "display": null,
            "left": null
          }
        },
        "2b6f5851256440a89afa3ef2e761927f": {
          "model_module": "@jupyter-widgets/controls",
          "model_name": "FloatProgressModel",
          "state": {
            "_view_name": "ProgressView",
            "style": "IPY_MODEL_7afcc8ff370346a5a67afced8206e471",
            "_dom_classes": [],
            "description": "",
            "_model_name": "FloatProgressModel",
            "bar_style": "success",
            "max": 1034,
            "_view_module": "@jupyter-widgets/controls",
            "_model_module_version": "1.5.0",
            "value": 1034,
            "_view_count": null,
            "_view_module_version": "1.5.0",
            "orientation": "horizontal",
            "min": 0,
            "description_tooltip": null,
            "_model_module": "@jupyter-widgets/controls",
            "layout": "IPY_MODEL_de9dfa0d4e384188ae997242426d2bc2"
          }
        },
        "c0cedba8009842cc9d227822b94b5714": {
          "model_module": "@jupyter-widgets/controls",
          "model_name": "HTMLModel",
          "state": {
            "_view_name": "HTMLView",
            "style": "IPY_MODEL_7d38b9fbe50345eb8d10fb95d2a4200a",
            "_dom_classes": [],
            "description": "",
            "_model_name": "HTMLModel",
            "placeholder": "​",
            "_view_module": "@jupyter-widgets/controls",
            "_model_module_version": "1.5.0",
            "value": " 1035/? [41:43&lt;00:00,  2.42s/it]",
            "_view_count": null,
            "_view_module_version": "1.5.0",
            "description_tooltip": null,
            "_model_module": "@jupyter-widgets/controls",
            "layout": "IPY_MODEL_bae26ba4a35040f18a4c6d0a4a01480b"
          }
        },
        "7afcc8ff370346a5a67afced8206e471": {
          "model_module": "@jupyter-widgets/controls",
          "model_name": "ProgressStyleModel",
          "state": {
            "_view_name": "StyleView",
            "_model_name": "ProgressStyleModel",
            "description_width": "initial",
            "_view_module": "@jupyter-widgets/base",
            "_model_module_version": "1.5.0",
            "_view_count": null,
            "_view_module_version": "1.2.0",
            "bar_color": null,
            "_model_module": "@jupyter-widgets/controls"
          }
        },
        "de9dfa0d4e384188ae997242426d2bc2": {
          "model_module": "@jupyter-widgets/base",
          "model_name": "LayoutModel",
          "state": {
            "_view_name": "LayoutView",
            "grid_template_rows": null,
            "right": null,
            "justify_content": null,
            "_view_module": "@jupyter-widgets/base",
            "overflow": null,
            "_model_module_version": "1.2.0",
            "_view_count": null,
            "flex_flow": null,
            "width": null,
            "min_width": null,
            "border": null,
            "align_items": null,
            "bottom": null,
            "_model_module": "@jupyter-widgets/base",
            "top": null,
            "grid_column": null,
            "overflow_y": null,
            "overflow_x": null,
            "grid_auto_flow": null,
            "grid_area": null,
            "grid_template_columns": null,
            "flex": null,
            "_model_name": "LayoutModel",
            "justify_items": null,
            "grid_row": null,
            "max_height": null,
            "align_content": null,
            "visibility": null,
            "align_self": null,
            "height": null,
            "min_height": null,
            "padding": null,
            "grid_auto_rows": null,
            "grid_gap": null,
            "max_width": null,
            "order": null,
            "_view_module_version": "1.2.0",
            "grid_template_areas": null,
            "object_position": null,
            "object_fit": null,
            "grid_auto_columns": null,
            "margin": null,
            "display": null,
            "left": null
          }
        },
        "7d38b9fbe50345eb8d10fb95d2a4200a": {
          "model_module": "@jupyter-widgets/controls",
          "model_name": "DescriptionStyleModel",
          "state": {
            "_view_name": "StyleView",
            "_model_name": "DescriptionStyleModel",
            "description_width": "",
            "_view_module": "@jupyter-widgets/base",
            "_model_module_version": "1.5.0",
            "_view_count": null,
            "_view_module_version": "1.2.0",
            "_model_module": "@jupyter-widgets/controls"
          }
        },
        "bae26ba4a35040f18a4c6d0a4a01480b": {
          "model_module": "@jupyter-widgets/base",
          "model_name": "LayoutModel",
          "state": {
            "_view_name": "LayoutView",
            "grid_template_rows": null,
            "right": null,
            "justify_content": null,
            "_view_module": "@jupyter-widgets/base",
            "overflow": null,
            "_model_module_version": "1.2.0",
            "_view_count": null,
            "flex_flow": null,
            "width": null,
            "min_width": null,
            "border": null,
            "align_items": null,
            "bottom": null,
            "_model_module": "@jupyter-widgets/base",
            "top": null,
            "grid_column": null,
            "overflow_y": null,
            "overflow_x": null,
            "grid_auto_flow": null,
            "grid_area": null,
            "grid_template_columns": null,
            "flex": null,
            "_model_name": "LayoutModel",
            "justify_items": null,
            "grid_row": null,
            "max_height": null,
            "align_content": null,
            "visibility": null,
            "align_self": null,
            "height": null,
            "min_height": null,
            "padding": null,
            "grid_auto_rows": null,
            "grid_gap": null,
            "max_width": null,
            "order": null,
            "_view_module_version": "1.2.0",
            "grid_template_areas": null,
            "object_position": null,
            "object_fit": null,
            "grid_auto_columns": null,
            "margin": null,
            "display": null,
            "left": null
          }
        },
        "e91689a2109f434b8e04405f9134df36": {
          "model_module": "@jupyter-widgets/controls",
          "model_name": "HBoxModel",
          "state": {
            "_view_name": "HBoxView",
            "_dom_classes": [],
            "_model_name": "HBoxModel",
            "_view_module": "@jupyter-widgets/controls",
            "_model_module_version": "1.5.0",
            "_view_count": null,
            "_view_module_version": "1.5.0",
            "box_style": "",
            "layout": "IPY_MODEL_49e05c3866b44e2bab54ee883b9de7bf",
            "_model_module": "@jupyter-widgets/controls",
            "children": [
              "IPY_MODEL_042795708ba64f98a1885491854b610a",
              "IPY_MODEL_3d8ac76f9ae34f99a75f80aaf0d78d40"
            ]
          }
        },
        "49e05c3866b44e2bab54ee883b9de7bf": {
          "model_module": "@jupyter-widgets/base",
          "model_name": "LayoutModel",
          "state": {
            "_view_name": "LayoutView",
            "grid_template_rows": null,
            "right": null,
            "justify_content": null,
            "_view_module": "@jupyter-widgets/base",
            "overflow": null,
            "_model_module_version": "1.2.0",
            "_view_count": null,
            "flex_flow": null,
            "width": null,
            "min_width": null,
            "border": null,
            "align_items": null,
            "bottom": null,
            "_model_module": "@jupyter-widgets/base",
            "top": null,
            "grid_column": null,
            "overflow_y": null,
            "overflow_x": null,
            "grid_auto_flow": null,
            "grid_area": null,
            "grid_template_columns": null,
            "flex": null,
            "_model_name": "LayoutModel",
            "justify_items": null,
            "grid_row": null,
            "max_height": null,
            "align_content": null,
            "visibility": null,
            "align_self": null,
            "height": null,
            "min_height": null,
            "padding": null,
            "grid_auto_rows": null,
            "grid_gap": null,
            "max_width": null,
            "order": null,
            "_view_module_version": "1.2.0",
            "grid_template_areas": null,
            "object_position": null,
            "object_fit": null,
            "grid_auto_columns": null,
            "margin": null,
            "display": null,
            "left": null
          }
        },
        "042795708ba64f98a1885491854b610a": {
          "model_module": "@jupyter-widgets/controls",
          "model_name": "FloatProgressModel",
          "state": {
            "_view_name": "ProgressView",
            "style": "IPY_MODEL_f2649d09ad5f46b8a1dbeb1036f4478a",
            "_dom_classes": [],
            "description": "",
            "_model_name": "FloatProgressModel",
            "bar_style": "success",
            "max": 129,
            "_view_module": "@jupyter-widgets/controls",
            "_model_module_version": "1.5.0",
            "value": 129,
            "_view_count": null,
            "_view_module_version": "1.5.0",
            "orientation": "horizontal",
            "min": 0,
            "description_tooltip": null,
            "_model_module": "@jupyter-widgets/controls",
            "layout": "IPY_MODEL_cd85d1b6614f4cbeba5940361016a806"
          }
        },
        "3d8ac76f9ae34f99a75f80aaf0d78d40": {
          "model_module": "@jupyter-widgets/controls",
          "model_name": "HTMLModel",
          "state": {
            "_view_name": "HTMLView",
            "style": "IPY_MODEL_a76e22c001a647ffb3594205b96c09c0",
            "_dom_classes": [],
            "description": "",
            "_model_name": "HTMLModel",
            "placeholder": "​",
            "_view_module": "@jupyter-widgets/controls",
            "_model_module_version": "1.5.0",
            "value": " 130/? [02:39&lt;00:00,  1.23s/it]",
            "_view_count": null,
            "_view_module_version": "1.5.0",
            "description_tooltip": null,
            "_model_module": "@jupyter-widgets/controls",
            "layout": "IPY_MODEL_facd5bcbb1e34fde99765bb29bda2e8d"
          }
        },
        "f2649d09ad5f46b8a1dbeb1036f4478a": {
          "model_module": "@jupyter-widgets/controls",
          "model_name": "ProgressStyleModel",
          "state": {
            "_view_name": "StyleView",
            "_model_name": "ProgressStyleModel",
            "description_width": "initial",
            "_view_module": "@jupyter-widgets/base",
            "_model_module_version": "1.5.0",
            "_view_count": null,
            "_view_module_version": "1.2.0",
            "bar_color": null,
            "_model_module": "@jupyter-widgets/controls"
          }
        },
        "cd85d1b6614f4cbeba5940361016a806": {
          "model_module": "@jupyter-widgets/base",
          "model_name": "LayoutModel",
          "state": {
            "_view_name": "LayoutView",
            "grid_template_rows": null,
            "right": null,
            "justify_content": null,
            "_view_module": "@jupyter-widgets/base",
            "overflow": null,
            "_model_module_version": "1.2.0",
            "_view_count": null,
            "flex_flow": null,
            "width": null,
            "min_width": null,
            "border": null,
            "align_items": null,
            "bottom": null,
            "_model_module": "@jupyter-widgets/base",
            "top": null,
            "grid_column": null,
            "overflow_y": null,
            "overflow_x": null,
            "grid_auto_flow": null,
            "grid_area": null,
            "grid_template_columns": null,
            "flex": null,
            "_model_name": "LayoutModel",
            "justify_items": null,
            "grid_row": null,
            "max_height": null,
            "align_content": null,
            "visibility": null,
            "align_self": null,
            "height": null,
            "min_height": null,
            "padding": null,
            "grid_auto_rows": null,
            "grid_gap": null,
            "max_width": null,
            "order": null,
            "_view_module_version": "1.2.0",
            "grid_template_areas": null,
            "object_position": null,
            "object_fit": null,
            "grid_auto_columns": null,
            "margin": null,
            "display": null,
            "left": null
          }
        },
        "a76e22c001a647ffb3594205b96c09c0": {
          "model_module": "@jupyter-widgets/controls",
          "model_name": "DescriptionStyleModel",
          "state": {
            "_view_name": "StyleView",
            "_model_name": "DescriptionStyleModel",
            "description_width": "",
            "_view_module": "@jupyter-widgets/base",
            "_model_module_version": "1.5.0",
            "_view_count": null,
            "_view_module_version": "1.2.0",
            "_model_module": "@jupyter-widgets/controls"
          }
        },
        "facd5bcbb1e34fde99765bb29bda2e8d": {
          "model_module": "@jupyter-widgets/base",
          "model_name": "LayoutModel",
          "state": {
            "_view_name": "LayoutView",
            "grid_template_rows": null,
            "right": null,
            "justify_content": null,
            "_view_module": "@jupyter-widgets/base",
            "overflow": null,
            "_model_module_version": "1.2.0",
            "_view_count": null,
            "flex_flow": null,
            "width": null,
            "min_width": null,
            "border": null,
            "align_items": null,
            "bottom": null,
            "_model_module": "@jupyter-widgets/base",
            "top": null,
            "grid_column": null,
            "overflow_y": null,
            "overflow_x": null,
            "grid_auto_flow": null,
            "grid_area": null,
            "grid_template_columns": null,
            "flex": null,
            "_model_name": "LayoutModel",
            "justify_items": null,
            "grid_row": null,
            "max_height": null,
            "align_content": null,
            "visibility": null,
            "align_self": null,
            "height": null,
            "min_height": null,
            "padding": null,
            "grid_auto_rows": null,
            "grid_gap": null,
            "max_width": null,
            "order": null,
            "_view_module_version": "1.2.0",
            "grid_template_areas": null,
            "object_position": null,
            "object_fit": null,
            "grid_auto_columns": null,
            "margin": null,
            "display": null,
            "left": null
          }
        },
        "38ccf425ee9f4d048c775e6d47bb5580": {
          "model_module": "@jupyter-widgets/controls",
          "model_name": "HBoxModel",
          "state": {
            "_view_name": "HBoxView",
            "_dom_classes": [],
            "_model_name": "HBoxModel",
            "_view_module": "@jupyter-widgets/controls",
            "_model_module_version": "1.5.0",
            "_view_count": null,
            "_view_module_version": "1.5.0",
            "box_style": "",
            "layout": "IPY_MODEL_63c20aab82ec41f8bacb49ceac143242",
            "_model_module": "@jupyter-widgets/controls",
            "children": [
              "IPY_MODEL_c8c42f5640404589baa98c8359e0d5a7",
              "IPY_MODEL_26f0c24d7f824c5a89f851ae2bbd5069"
            ]
          }
        },
        "63c20aab82ec41f8bacb49ceac143242": {
          "model_module": "@jupyter-widgets/base",
          "model_name": "LayoutModel",
          "state": {
            "_view_name": "LayoutView",
            "grid_template_rows": null,
            "right": null,
            "justify_content": null,
            "_view_module": "@jupyter-widgets/base",
            "overflow": null,
            "_model_module_version": "1.2.0",
            "_view_count": null,
            "flex_flow": null,
            "width": null,
            "min_width": null,
            "border": null,
            "align_items": null,
            "bottom": null,
            "_model_module": "@jupyter-widgets/base",
            "top": null,
            "grid_column": null,
            "overflow_y": null,
            "overflow_x": null,
            "grid_auto_flow": null,
            "grid_area": null,
            "grid_template_columns": null,
            "flex": null,
            "_model_name": "LayoutModel",
            "justify_items": null,
            "grid_row": null,
            "max_height": null,
            "align_content": null,
            "visibility": null,
            "align_self": null,
            "height": null,
            "min_height": null,
            "padding": null,
            "grid_auto_rows": null,
            "grid_gap": null,
            "max_width": null,
            "order": null,
            "_view_module_version": "1.2.0",
            "grid_template_areas": null,
            "object_position": null,
            "object_fit": null,
            "grid_auto_columns": null,
            "margin": null,
            "display": null,
            "left": null
          }
        },
        "c8c42f5640404589baa98c8359e0d5a7": {
          "model_module": "@jupyter-widgets/controls",
          "model_name": "FloatProgressModel",
          "state": {
            "_view_name": "ProgressView",
            "style": "IPY_MODEL_0a5eb3a96e4a4b8984b18ee7c5e5e454",
            "_dom_classes": [],
            "description": "",
            "_model_name": "FloatProgressModel",
            "bar_style": "success",
            "max": 1034,
            "_view_module": "@jupyter-widgets/controls",
            "_model_module_version": "1.5.0",
            "value": 1034,
            "_view_count": null,
            "_view_module_version": "1.5.0",
            "orientation": "horizontal",
            "min": 0,
            "description_tooltip": null,
            "_model_module": "@jupyter-widgets/controls",
            "layout": "IPY_MODEL_9927972c8a3b4d748a962a63feac3770"
          }
        },
        "26f0c24d7f824c5a89f851ae2bbd5069": {
          "model_module": "@jupyter-widgets/controls",
          "model_name": "HTMLModel",
          "state": {
            "_view_name": "HTMLView",
            "style": "IPY_MODEL_34730b3ac0aa43dca4610c78b9364f43",
            "_dom_classes": [],
            "description": "",
            "_model_name": "HTMLModel",
            "placeholder": "​",
            "_view_module": "@jupyter-widgets/controls",
            "_model_module_version": "1.5.0",
            "value": " 1035/? [41:53&lt;00:00,  2.43s/it]",
            "_view_count": null,
            "_view_module_version": "1.5.0",
            "description_tooltip": null,
            "_model_module": "@jupyter-widgets/controls",
            "layout": "IPY_MODEL_9699847f9f3a4e4eae201ced3506fe75"
          }
        },
        "0a5eb3a96e4a4b8984b18ee7c5e5e454": {
          "model_module": "@jupyter-widgets/controls",
          "model_name": "ProgressStyleModel",
          "state": {
            "_view_name": "StyleView",
            "_model_name": "ProgressStyleModel",
            "description_width": "initial",
            "_view_module": "@jupyter-widgets/base",
            "_model_module_version": "1.5.0",
            "_view_count": null,
            "_view_module_version": "1.2.0",
            "bar_color": null,
            "_model_module": "@jupyter-widgets/controls"
          }
        },
        "9927972c8a3b4d748a962a63feac3770": {
          "model_module": "@jupyter-widgets/base",
          "model_name": "LayoutModel",
          "state": {
            "_view_name": "LayoutView",
            "grid_template_rows": null,
            "right": null,
            "justify_content": null,
            "_view_module": "@jupyter-widgets/base",
            "overflow": null,
            "_model_module_version": "1.2.0",
            "_view_count": null,
            "flex_flow": null,
            "width": null,
            "min_width": null,
            "border": null,
            "align_items": null,
            "bottom": null,
            "_model_module": "@jupyter-widgets/base",
            "top": null,
            "grid_column": null,
            "overflow_y": null,
            "overflow_x": null,
            "grid_auto_flow": null,
            "grid_area": null,
            "grid_template_columns": null,
            "flex": null,
            "_model_name": "LayoutModel",
            "justify_items": null,
            "grid_row": null,
            "max_height": null,
            "align_content": null,
            "visibility": null,
            "align_self": null,
            "height": null,
            "min_height": null,
            "padding": null,
            "grid_auto_rows": null,
            "grid_gap": null,
            "max_width": null,
            "order": null,
            "_view_module_version": "1.2.0",
            "grid_template_areas": null,
            "object_position": null,
            "object_fit": null,
            "grid_auto_columns": null,
            "margin": null,
            "display": null,
            "left": null
          }
        },
        "34730b3ac0aa43dca4610c78b9364f43": {
          "model_module": "@jupyter-widgets/controls",
          "model_name": "DescriptionStyleModel",
          "state": {
            "_view_name": "StyleView",
            "_model_name": "DescriptionStyleModel",
            "description_width": "",
            "_view_module": "@jupyter-widgets/base",
            "_model_module_version": "1.5.0",
            "_view_count": null,
            "_view_module_version": "1.2.0",
            "_model_module": "@jupyter-widgets/controls"
          }
        },
        "9699847f9f3a4e4eae201ced3506fe75": {
          "model_module": "@jupyter-widgets/base",
          "model_name": "LayoutModel",
          "state": {
            "_view_name": "LayoutView",
            "grid_template_rows": null,
            "right": null,
            "justify_content": null,
            "_view_module": "@jupyter-widgets/base",
            "overflow": null,
            "_model_module_version": "1.2.0",
            "_view_count": null,
            "flex_flow": null,
            "width": null,
            "min_width": null,
            "border": null,
            "align_items": null,
            "bottom": null,
            "_model_module": "@jupyter-widgets/base",
            "top": null,
            "grid_column": null,
            "overflow_y": null,
            "overflow_x": null,
            "grid_auto_flow": null,
            "grid_area": null,
            "grid_template_columns": null,
            "flex": null,
            "_model_name": "LayoutModel",
            "justify_items": null,
            "grid_row": null,
            "max_height": null,
            "align_content": null,
            "visibility": null,
            "align_self": null,
            "height": null,
            "min_height": null,
            "padding": null,
            "grid_auto_rows": null,
            "grid_gap": null,
            "max_width": null,
            "order": null,
            "_view_module_version": "1.2.0",
            "grid_template_areas": null,
            "object_position": null,
            "object_fit": null,
            "grid_auto_columns": null,
            "margin": null,
            "display": null,
            "left": null
          }
        },
        "90c8f5f257ea4f0782112a4859f59720": {
          "model_module": "@jupyter-widgets/controls",
          "model_name": "HBoxModel",
          "state": {
            "_view_name": "HBoxView",
            "_dom_classes": [],
            "_model_name": "HBoxModel",
            "_view_module": "@jupyter-widgets/controls",
            "_model_module_version": "1.5.0",
            "_view_count": null,
            "_view_module_version": "1.5.0",
            "box_style": "",
            "layout": "IPY_MODEL_8be533d675bc4597bc5c4a5f0201f501",
            "_model_module": "@jupyter-widgets/controls",
            "children": [
              "IPY_MODEL_3a40b70c183f4b0b971fee5522bed233",
              "IPY_MODEL_c7b2be58f63b484e8d61ddb0aa5fd8e5"
            ]
          }
        },
        "8be533d675bc4597bc5c4a5f0201f501": {
          "model_module": "@jupyter-widgets/base",
          "model_name": "LayoutModel",
          "state": {
            "_view_name": "LayoutView",
            "grid_template_rows": null,
            "right": null,
            "justify_content": null,
            "_view_module": "@jupyter-widgets/base",
            "overflow": null,
            "_model_module_version": "1.2.0",
            "_view_count": null,
            "flex_flow": null,
            "width": null,
            "min_width": null,
            "border": null,
            "align_items": null,
            "bottom": null,
            "_model_module": "@jupyter-widgets/base",
            "top": null,
            "grid_column": null,
            "overflow_y": null,
            "overflow_x": null,
            "grid_auto_flow": null,
            "grid_area": null,
            "grid_template_columns": null,
            "flex": null,
            "_model_name": "LayoutModel",
            "justify_items": null,
            "grid_row": null,
            "max_height": null,
            "align_content": null,
            "visibility": null,
            "align_self": null,
            "height": null,
            "min_height": null,
            "padding": null,
            "grid_auto_rows": null,
            "grid_gap": null,
            "max_width": null,
            "order": null,
            "_view_module_version": "1.2.0",
            "grid_template_areas": null,
            "object_position": null,
            "object_fit": null,
            "grid_auto_columns": null,
            "margin": null,
            "display": null,
            "left": null
          }
        },
        "3a40b70c183f4b0b971fee5522bed233": {
          "model_module": "@jupyter-widgets/controls",
          "model_name": "FloatProgressModel",
          "state": {
            "_view_name": "ProgressView",
            "style": "IPY_MODEL_34bf0d0b02f34cd3bb28192621ec6b27",
            "_dom_classes": [],
            "description": "",
            "_model_name": "FloatProgressModel",
            "bar_style": "success",
            "max": 129,
            "_view_module": "@jupyter-widgets/controls",
            "_model_module_version": "1.5.0",
            "value": 129,
            "_view_count": null,
            "_view_module_version": "1.5.0",
            "orientation": "horizontal",
            "min": 0,
            "description_tooltip": null,
            "_model_module": "@jupyter-widgets/controls",
            "layout": "IPY_MODEL_60de08170dc748ee88855a8bf8858755"
          }
        },
        "c7b2be58f63b484e8d61ddb0aa5fd8e5": {
          "model_module": "@jupyter-widgets/controls",
          "model_name": "HTMLModel",
          "state": {
            "_view_name": "HTMLView",
            "style": "IPY_MODEL_a40316bb3cd045fa85c64b97350c2489",
            "_dom_classes": [],
            "description": "",
            "_model_name": "HTMLModel",
            "placeholder": "​",
            "_view_module": "@jupyter-widgets/controls",
            "_model_module_version": "1.5.0",
            "value": " 130/? [02:40&lt;00:00,  1.24s/it]",
            "_view_count": null,
            "_view_module_version": "1.5.0",
            "description_tooltip": null,
            "_model_module": "@jupyter-widgets/controls",
            "layout": "IPY_MODEL_de877ff97b35419ea0e98d5ed4b76d75"
          }
        },
        "34bf0d0b02f34cd3bb28192621ec6b27": {
          "model_module": "@jupyter-widgets/controls",
          "model_name": "ProgressStyleModel",
          "state": {
            "_view_name": "StyleView",
            "_model_name": "ProgressStyleModel",
            "description_width": "initial",
            "_view_module": "@jupyter-widgets/base",
            "_model_module_version": "1.5.0",
            "_view_count": null,
            "_view_module_version": "1.2.0",
            "bar_color": null,
            "_model_module": "@jupyter-widgets/controls"
          }
        },
        "60de08170dc748ee88855a8bf8858755": {
          "model_module": "@jupyter-widgets/base",
          "model_name": "LayoutModel",
          "state": {
            "_view_name": "LayoutView",
            "grid_template_rows": null,
            "right": null,
            "justify_content": null,
            "_view_module": "@jupyter-widgets/base",
            "overflow": null,
            "_model_module_version": "1.2.0",
            "_view_count": null,
            "flex_flow": null,
            "width": null,
            "min_width": null,
            "border": null,
            "align_items": null,
            "bottom": null,
            "_model_module": "@jupyter-widgets/base",
            "top": null,
            "grid_column": null,
            "overflow_y": null,
            "overflow_x": null,
            "grid_auto_flow": null,
            "grid_area": null,
            "grid_template_columns": null,
            "flex": null,
            "_model_name": "LayoutModel",
            "justify_items": null,
            "grid_row": null,
            "max_height": null,
            "align_content": null,
            "visibility": null,
            "align_self": null,
            "height": null,
            "min_height": null,
            "padding": null,
            "grid_auto_rows": null,
            "grid_gap": null,
            "max_width": null,
            "order": null,
            "_view_module_version": "1.2.0",
            "grid_template_areas": null,
            "object_position": null,
            "object_fit": null,
            "grid_auto_columns": null,
            "margin": null,
            "display": null,
            "left": null
          }
        },
        "a40316bb3cd045fa85c64b97350c2489": {
          "model_module": "@jupyter-widgets/controls",
          "model_name": "DescriptionStyleModel",
          "state": {
            "_view_name": "StyleView",
            "_model_name": "DescriptionStyleModel",
            "description_width": "",
            "_view_module": "@jupyter-widgets/base",
            "_model_module_version": "1.5.0",
            "_view_count": null,
            "_view_module_version": "1.2.0",
            "_model_module": "@jupyter-widgets/controls"
          }
        },
        "de877ff97b35419ea0e98d5ed4b76d75": {
          "model_module": "@jupyter-widgets/base",
          "model_name": "LayoutModel",
          "state": {
            "_view_name": "LayoutView",
            "grid_template_rows": null,
            "right": null,
            "justify_content": null,
            "_view_module": "@jupyter-widgets/base",
            "overflow": null,
            "_model_module_version": "1.2.0",
            "_view_count": null,
            "flex_flow": null,
            "width": null,
            "min_width": null,
            "border": null,
            "align_items": null,
            "bottom": null,
            "_model_module": "@jupyter-widgets/base",
            "top": null,
            "grid_column": null,
            "overflow_y": null,
            "overflow_x": null,
            "grid_auto_flow": null,
            "grid_area": null,
            "grid_template_columns": null,
            "flex": null,
            "_model_name": "LayoutModel",
            "justify_items": null,
            "grid_row": null,
            "max_height": null,
            "align_content": null,
            "visibility": null,
            "align_self": null,
            "height": null,
            "min_height": null,
            "padding": null,
            "grid_auto_rows": null,
            "grid_gap": null,
            "max_width": null,
            "order": null,
            "_view_module_version": "1.2.0",
            "grid_template_areas": null,
            "object_position": null,
            "object_fit": null,
            "grid_auto_columns": null,
            "margin": null,
            "display": null,
            "left": null
          }
        },
        "004297e4c0b14a4789f2fb372e5e5415": {
          "model_module": "@jupyter-widgets/controls",
          "model_name": "HBoxModel",
          "state": {
            "_view_name": "HBoxView",
            "_dom_classes": [],
            "_model_name": "HBoxModel",
            "_view_module": "@jupyter-widgets/controls",
            "_model_module_version": "1.5.0",
            "_view_count": null,
            "_view_module_version": "1.5.0",
            "box_style": "",
            "layout": "IPY_MODEL_73f579c0823740f1b64cd6f9da97c19f",
            "_model_module": "@jupyter-widgets/controls",
            "children": [
              "IPY_MODEL_970959f7f7734542914ab44312eecdd2",
              "IPY_MODEL_acaed01f8c8147899bdbae7e38b1ada0"
            ]
          }
        },
        "73f579c0823740f1b64cd6f9da97c19f": {
          "model_module": "@jupyter-widgets/base",
          "model_name": "LayoutModel",
          "state": {
            "_view_name": "LayoutView",
            "grid_template_rows": null,
            "right": null,
            "justify_content": null,
            "_view_module": "@jupyter-widgets/base",
            "overflow": null,
            "_model_module_version": "1.2.0",
            "_view_count": null,
            "flex_flow": null,
            "width": null,
            "min_width": null,
            "border": null,
            "align_items": null,
            "bottom": null,
            "_model_module": "@jupyter-widgets/base",
            "top": null,
            "grid_column": null,
            "overflow_y": null,
            "overflow_x": null,
            "grid_auto_flow": null,
            "grid_area": null,
            "grid_template_columns": null,
            "flex": null,
            "_model_name": "LayoutModel",
            "justify_items": null,
            "grid_row": null,
            "max_height": null,
            "align_content": null,
            "visibility": null,
            "align_self": null,
            "height": null,
            "min_height": null,
            "padding": null,
            "grid_auto_rows": null,
            "grid_gap": null,
            "max_width": null,
            "order": null,
            "_view_module_version": "1.2.0",
            "grid_template_areas": null,
            "object_position": null,
            "object_fit": null,
            "grid_auto_columns": null,
            "margin": null,
            "display": null,
            "left": null
          }
        },
        "970959f7f7734542914ab44312eecdd2": {
          "model_module": "@jupyter-widgets/controls",
          "model_name": "FloatProgressModel",
          "state": {
            "_view_name": "ProgressView",
            "style": "IPY_MODEL_353a97aba612440bbe39b1ac0f75eaa5",
            "_dom_classes": [],
            "description": "",
            "_model_name": "FloatProgressModel",
            "bar_style": "success",
            "max": 1034,
            "_view_module": "@jupyter-widgets/controls",
            "_model_module_version": "1.5.0",
            "value": 1034,
            "_view_count": null,
            "_view_module_version": "1.5.0",
            "orientation": "horizontal",
            "min": 0,
            "description_tooltip": null,
            "_model_module": "@jupyter-widgets/controls",
            "layout": "IPY_MODEL_aaae2518f5d54f0db5bd732e260e2b18"
          }
        },
        "acaed01f8c8147899bdbae7e38b1ada0": {
          "model_module": "@jupyter-widgets/controls",
          "model_name": "HTMLModel",
          "state": {
            "_view_name": "HTMLView",
            "style": "IPY_MODEL_48839cf4f4d545bbb441a074ed363d39",
            "_dom_classes": [],
            "description": "",
            "_model_name": "HTMLModel",
            "placeholder": "​",
            "_view_module": "@jupyter-widgets/controls",
            "_model_module_version": "1.5.0",
            "value": " 1035/? [42:16&lt;00:00,  2.45s/it]",
            "_view_count": null,
            "_view_module_version": "1.5.0",
            "description_tooltip": null,
            "_model_module": "@jupyter-widgets/controls",
            "layout": "IPY_MODEL_d4b6a92d55d44eec9d6184233f22d424"
          }
        },
        "353a97aba612440bbe39b1ac0f75eaa5": {
          "model_module": "@jupyter-widgets/controls",
          "model_name": "ProgressStyleModel",
          "state": {
            "_view_name": "StyleView",
            "_model_name": "ProgressStyleModel",
            "description_width": "initial",
            "_view_module": "@jupyter-widgets/base",
            "_model_module_version": "1.5.0",
            "_view_count": null,
            "_view_module_version": "1.2.0",
            "bar_color": null,
            "_model_module": "@jupyter-widgets/controls"
          }
        },
        "aaae2518f5d54f0db5bd732e260e2b18": {
          "model_module": "@jupyter-widgets/base",
          "model_name": "LayoutModel",
          "state": {
            "_view_name": "LayoutView",
            "grid_template_rows": null,
            "right": null,
            "justify_content": null,
            "_view_module": "@jupyter-widgets/base",
            "overflow": null,
            "_model_module_version": "1.2.0",
            "_view_count": null,
            "flex_flow": null,
            "width": null,
            "min_width": null,
            "border": null,
            "align_items": null,
            "bottom": null,
            "_model_module": "@jupyter-widgets/base",
            "top": null,
            "grid_column": null,
            "overflow_y": null,
            "overflow_x": null,
            "grid_auto_flow": null,
            "grid_area": null,
            "grid_template_columns": null,
            "flex": null,
            "_model_name": "LayoutModel",
            "justify_items": null,
            "grid_row": null,
            "max_height": null,
            "align_content": null,
            "visibility": null,
            "align_self": null,
            "height": null,
            "min_height": null,
            "padding": null,
            "grid_auto_rows": null,
            "grid_gap": null,
            "max_width": null,
            "order": null,
            "_view_module_version": "1.2.0",
            "grid_template_areas": null,
            "object_position": null,
            "object_fit": null,
            "grid_auto_columns": null,
            "margin": null,
            "display": null,
            "left": null
          }
        },
        "48839cf4f4d545bbb441a074ed363d39": {
          "model_module": "@jupyter-widgets/controls",
          "model_name": "DescriptionStyleModel",
          "state": {
            "_view_name": "StyleView",
            "_model_name": "DescriptionStyleModel",
            "description_width": "",
            "_view_module": "@jupyter-widgets/base",
            "_model_module_version": "1.5.0",
            "_view_count": null,
            "_view_module_version": "1.2.0",
            "_model_module": "@jupyter-widgets/controls"
          }
        },
        "d4b6a92d55d44eec9d6184233f22d424": {
          "model_module": "@jupyter-widgets/base",
          "model_name": "LayoutModel",
          "state": {
            "_view_name": "LayoutView",
            "grid_template_rows": null,
            "right": null,
            "justify_content": null,
            "_view_module": "@jupyter-widgets/base",
            "overflow": null,
            "_model_module_version": "1.2.0",
            "_view_count": null,
            "flex_flow": null,
            "width": null,
            "min_width": null,
            "border": null,
            "align_items": null,
            "bottom": null,
            "_model_module": "@jupyter-widgets/base",
            "top": null,
            "grid_column": null,
            "overflow_y": null,
            "overflow_x": null,
            "grid_auto_flow": null,
            "grid_area": null,
            "grid_template_columns": null,
            "flex": null,
            "_model_name": "LayoutModel",
            "justify_items": null,
            "grid_row": null,
            "max_height": null,
            "align_content": null,
            "visibility": null,
            "align_self": null,
            "height": null,
            "min_height": null,
            "padding": null,
            "grid_auto_rows": null,
            "grid_gap": null,
            "max_width": null,
            "order": null,
            "_view_module_version": "1.2.0",
            "grid_template_areas": null,
            "object_position": null,
            "object_fit": null,
            "grid_auto_columns": null,
            "margin": null,
            "display": null,
            "left": null
          }
        },
        "ea60feb29a5b439091699b526dc32537": {
          "model_module": "@jupyter-widgets/controls",
          "model_name": "HBoxModel",
          "state": {
            "_view_name": "HBoxView",
            "_dom_classes": [],
            "_model_name": "HBoxModel",
            "_view_module": "@jupyter-widgets/controls",
            "_model_module_version": "1.5.0",
            "_view_count": null,
            "_view_module_version": "1.5.0",
            "box_style": "",
            "layout": "IPY_MODEL_491b025724c3496c9c16e87672602431",
            "_model_module": "@jupyter-widgets/controls",
            "children": [
              "IPY_MODEL_7ce167d3f46747548fd1955358c8a5ae",
              "IPY_MODEL_87de3d7178a641cb9299a777cfc9743d"
            ]
          }
        },
        "491b025724c3496c9c16e87672602431": {
          "model_module": "@jupyter-widgets/base",
          "model_name": "LayoutModel",
          "state": {
            "_view_name": "LayoutView",
            "grid_template_rows": null,
            "right": null,
            "justify_content": null,
            "_view_module": "@jupyter-widgets/base",
            "overflow": null,
            "_model_module_version": "1.2.0",
            "_view_count": null,
            "flex_flow": null,
            "width": null,
            "min_width": null,
            "border": null,
            "align_items": null,
            "bottom": null,
            "_model_module": "@jupyter-widgets/base",
            "top": null,
            "grid_column": null,
            "overflow_y": null,
            "overflow_x": null,
            "grid_auto_flow": null,
            "grid_area": null,
            "grid_template_columns": null,
            "flex": null,
            "_model_name": "LayoutModel",
            "justify_items": null,
            "grid_row": null,
            "max_height": null,
            "align_content": null,
            "visibility": null,
            "align_self": null,
            "height": null,
            "min_height": null,
            "padding": null,
            "grid_auto_rows": null,
            "grid_gap": null,
            "max_width": null,
            "order": null,
            "_view_module_version": "1.2.0",
            "grid_template_areas": null,
            "object_position": null,
            "object_fit": null,
            "grid_auto_columns": null,
            "margin": null,
            "display": null,
            "left": null
          }
        },
        "7ce167d3f46747548fd1955358c8a5ae": {
          "model_module": "@jupyter-widgets/controls",
          "model_name": "FloatProgressModel",
          "state": {
            "_view_name": "ProgressView",
            "style": "IPY_MODEL_fbac2e727cfa4f7799d9b4cef50516b4",
            "_dom_classes": [],
            "description": "",
            "_model_name": "FloatProgressModel",
            "bar_style": "success",
            "max": 129,
            "_view_module": "@jupyter-widgets/controls",
            "_model_module_version": "1.5.0",
            "value": 129,
            "_view_count": null,
            "_view_module_version": "1.5.0",
            "orientation": "horizontal",
            "min": 0,
            "description_tooltip": null,
            "_model_module": "@jupyter-widgets/controls",
            "layout": "IPY_MODEL_7cff7a81498b451dae13e1840eb526ab"
          }
        },
        "87de3d7178a641cb9299a777cfc9743d": {
          "model_module": "@jupyter-widgets/controls",
          "model_name": "HTMLModel",
          "state": {
            "_view_name": "HTMLView",
            "style": "IPY_MODEL_32a6ed2f15fe449db1058e2def74f715",
            "_dom_classes": [],
            "description": "",
            "_model_name": "HTMLModel",
            "placeholder": "​",
            "_view_module": "@jupyter-widgets/controls",
            "_model_module_version": "1.5.0",
            "value": " 130/? [02:43&lt;00:00,  1.26s/it]",
            "_view_count": null,
            "_view_module_version": "1.5.0",
            "description_tooltip": null,
            "_model_module": "@jupyter-widgets/controls",
            "layout": "IPY_MODEL_58cb83f566f2473a8f63e638fa3cfb62"
          }
        },
        "fbac2e727cfa4f7799d9b4cef50516b4": {
          "model_module": "@jupyter-widgets/controls",
          "model_name": "ProgressStyleModel",
          "state": {
            "_view_name": "StyleView",
            "_model_name": "ProgressStyleModel",
            "description_width": "initial",
            "_view_module": "@jupyter-widgets/base",
            "_model_module_version": "1.5.0",
            "_view_count": null,
            "_view_module_version": "1.2.0",
            "bar_color": null,
            "_model_module": "@jupyter-widgets/controls"
          }
        },
        "7cff7a81498b451dae13e1840eb526ab": {
          "model_module": "@jupyter-widgets/base",
          "model_name": "LayoutModel",
          "state": {
            "_view_name": "LayoutView",
            "grid_template_rows": null,
            "right": null,
            "justify_content": null,
            "_view_module": "@jupyter-widgets/base",
            "overflow": null,
            "_model_module_version": "1.2.0",
            "_view_count": null,
            "flex_flow": null,
            "width": null,
            "min_width": null,
            "border": null,
            "align_items": null,
            "bottom": null,
            "_model_module": "@jupyter-widgets/base",
            "top": null,
            "grid_column": null,
            "overflow_y": null,
            "overflow_x": null,
            "grid_auto_flow": null,
            "grid_area": null,
            "grid_template_columns": null,
            "flex": null,
            "_model_name": "LayoutModel",
            "justify_items": null,
            "grid_row": null,
            "max_height": null,
            "align_content": null,
            "visibility": null,
            "align_self": null,
            "height": null,
            "min_height": null,
            "padding": null,
            "grid_auto_rows": null,
            "grid_gap": null,
            "max_width": null,
            "order": null,
            "_view_module_version": "1.2.0",
            "grid_template_areas": null,
            "object_position": null,
            "object_fit": null,
            "grid_auto_columns": null,
            "margin": null,
            "display": null,
            "left": null
          }
        },
        "32a6ed2f15fe449db1058e2def74f715": {
          "model_module": "@jupyter-widgets/controls",
          "model_name": "DescriptionStyleModel",
          "state": {
            "_view_name": "StyleView",
            "_model_name": "DescriptionStyleModel",
            "description_width": "",
            "_view_module": "@jupyter-widgets/base",
            "_model_module_version": "1.5.0",
            "_view_count": null,
            "_view_module_version": "1.2.0",
            "_model_module": "@jupyter-widgets/controls"
          }
        },
        "58cb83f566f2473a8f63e638fa3cfb62": {
          "model_module": "@jupyter-widgets/base",
          "model_name": "LayoutModel",
          "state": {
            "_view_name": "LayoutView",
            "grid_template_rows": null,
            "right": null,
            "justify_content": null,
            "_view_module": "@jupyter-widgets/base",
            "overflow": null,
            "_model_module_version": "1.2.0",
            "_view_count": null,
            "flex_flow": null,
            "width": null,
            "min_width": null,
            "border": null,
            "align_items": null,
            "bottom": null,
            "_model_module": "@jupyter-widgets/base",
            "top": null,
            "grid_column": null,
            "overflow_y": null,
            "overflow_x": null,
            "grid_auto_flow": null,
            "grid_area": null,
            "grid_template_columns": null,
            "flex": null,
            "_model_name": "LayoutModel",
            "justify_items": null,
            "grid_row": null,
            "max_height": null,
            "align_content": null,
            "visibility": null,
            "align_self": null,
            "height": null,
            "min_height": null,
            "padding": null,
            "grid_auto_rows": null,
            "grid_gap": null,
            "max_width": null,
            "order": null,
            "_view_module_version": "1.2.0",
            "grid_template_areas": null,
            "object_position": null,
            "object_fit": null,
            "grid_auto_columns": null,
            "margin": null,
            "display": null,
            "left": null
          }
        },
        "105336c16767432eb8b2b69f8423747d": {
          "model_module": "@jupyter-widgets/controls",
          "model_name": "HBoxModel",
          "state": {
            "_view_name": "HBoxView",
            "_dom_classes": [],
            "_model_name": "HBoxModel",
            "_view_module": "@jupyter-widgets/controls",
            "_model_module_version": "1.5.0",
            "_view_count": null,
            "_view_module_version": "1.5.0",
            "box_style": "",
            "layout": "IPY_MODEL_d484a5cc69de43d597cd65422d493641",
            "_model_module": "@jupyter-widgets/controls",
            "children": [
              "IPY_MODEL_526aacb2e2174c1b9745bf684d432c29",
              "IPY_MODEL_97f1fc4917c241469f435ceab73b0949"
            ]
          }
        },
        "d484a5cc69de43d597cd65422d493641": {
          "model_module": "@jupyter-widgets/base",
          "model_name": "LayoutModel",
          "state": {
            "_view_name": "LayoutView",
            "grid_template_rows": null,
            "right": null,
            "justify_content": null,
            "_view_module": "@jupyter-widgets/base",
            "overflow": null,
            "_model_module_version": "1.2.0",
            "_view_count": null,
            "flex_flow": null,
            "width": null,
            "min_width": null,
            "border": null,
            "align_items": null,
            "bottom": null,
            "_model_module": "@jupyter-widgets/base",
            "top": null,
            "grid_column": null,
            "overflow_y": null,
            "overflow_x": null,
            "grid_auto_flow": null,
            "grid_area": null,
            "grid_template_columns": null,
            "flex": null,
            "_model_name": "LayoutModel",
            "justify_items": null,
            "grid_row": null,
            "max_height": null,
            "align_content": null,
            "visibility": null,
            "align_self": null,
            "height": null,
            "min_height": null,
            "padding": null,
            "grid_auto_rows": null,
            "grid_gap": null,
            "max_width": null,
            "order": null,
            "_view_module_version": "1.2.0",
            "grid_template_areas": null,
            "object_position": null,
            "object_fit": null,
            "grid_auto_columns": null,
            "margin": null,
            "display": null,
            "left": null
          }
        },
        "526aacb2e2174c1b9745bf684d432c29": {
          "model_module": "@jupyter-widgets/controls",
          "model_name": "FloatProgressModel",
          "state": {
            "_view_name": "ProgressView",
            "style": "IPY_MODEL_c00df85600ea43d3b30db73916c5d4e9",
            "_dom_classes": [],
            "description": "",
            "_model_name": "FloatProgressModel",
            "bar_style": "success",
            "max": 1034,
            "_view_module": "@jupyter-widgets/controls",
            "_model_module_version": "1.5.0",
            "value": 1034,
            "_view_count": null,
            "_view_module_version": "1.5.0",
            "orientation": "horizontal",
            "min": 0,
            "description_tooltip": null,
            "_model_module": "@jupyter-widgets/controls",
            "layout": "IPY_MODEL_54462bcc3fa44d4b825c9d6a37dc1912"
          }
        },
        "97f1fc4917c241469f435ceab73b0949": {
          "model_module": "@jupyter-widgets/controls",
          "model_name": "HTMLModel",
          "state": {
            "_view_name": "HTMLView",
            "style": "IPY_MODEL_e1c56653ca954209a6c240c595e14670",
            "_dom_classes": [],
            "description": "",
            "_model_name": "HTMLModel",
            "placeholder": "​",
            "_view_module": "@jupyter-widgets/controls",
            "_model_module_version": "1.5.0",
            "value": " 1035/? [42:45&lt;00:00,  2.48s/it]",
            "_view_count": null,
            "_view_module_version": "1.5.0",
            "description_tooltip": null,
            "_model_module": "@jupyter-widgets/controls",
            "layout": "IPY_MODEL_4a07b64028084834aa9b4f44297bf23a"
          }
        },
        "c00df85600ea43d3b30db73916c5d4e9": {
          "model_module": "@jupyter-widgets/controls",
          "model_name": "ProgressStyleModel",
          "state": {
            "_view_name": "StyleView",
            "_model_name": "ProgressStyleModel",
            "description_width": "initial",
            "_view_module": "@jupyter-widgets/base",
            "_model_module_version": "1.5.0",
            "_view_count": null,
            "_view_module_version": "1.2.0",
            "bar_color": null,
            "_model_module": "@jupyter-widgets/controls"
          }
        },
        "54462bcc3fa44d4b825c9d6a37dc1912": {
          "model_module": "@jupyter-widgets/base",
          "model_name": "LayoutModel",
          "state": {
            "_view_name": "LayoutView",
            "grid_template_rows": null,
            "right": null,
            "justify_content": null,
            "_view_module": "@jupyter-widgets/base",
            "overflow": null,
            "_model_module_version": "1.2.0",
            "_view_count": null,
            "flex_flow": null,
            "width": null,
            "min_width": null,
            "border": null,
            "align_items": null,
            "bottom": null,
            "_model_module": "@jupyter-widgets/base",
            "top": null,
            "grid_column": null,
            "overflow_y": null,
            "overflow_x": null,
            "grid_auto_flow": null,
            "grid_area": null,
            "grid_template_columns": null,
            "flex": null,
            "_model_name": "LayoutModel",
            "justify_items": null,
            "grid_row": null,
            "max_height": null,
            "align_content": null,
            "visibility": null,
            "align_self": null,
            "height": null,
            "min_height": null,
            "padding": null,
            "grid_auto_rows": null,
            "grid_gap": null,
            "max_width": null,
            "order": null,
            "_view_module_version": "1.2.0",
            "grid_template_areas": null,
            "object_position": null,
            "object_fit": null,
            "grid_auto_columns": null,
            "margin": null,
            "display": null,
            "left": null
          }
        },
        "e1c56653ca954209a6c240c595e14670": {
          "model_module": "@jupyter-widgets/controls",
          "model_name": "DescriptionStyleModel",
          "state": {
            "_view_name": "StyleView",
            "_model_name": "DescriptionStyleModel",
            "description_width": "",
            "_view_module": "@jupyter-widgets/base",
            "_model_module_version": "1.5.0",
            "_view_count": null,
            "_view_module_version": "1.2.0",
            "_model_module": "@jupyter-widgets/controls"
          }
        },
        "4a07b64028084834aa9b4f44297bf23a": {
          "model_module": "@jupyter-widgets/base",
          "model_name": "LayoutModel",
          "state": {
            "_view_name": "LayoutView",
            "grid_template_rows": null,
            "right": null,
            "justify_content": null,
            "_view_module": "@jupyter-widgets/base",
            "overflow": null,
            "_model_module_version": "1.2.0",
            "_view_count": null,
            "flex_flow": null,
            "width": null,
            "min_width": null,
            "border": null,
            "align_items": null,
            "bottom": null,
            "_model_module": "@jupyter-widgets/base",
            "top": null,
            "grid_column": null,
            "overflow_y": null,
            "overflow_x": null,
            "grid_auto_flow": null,
            "grid_area": null,
            "grid_template_columns": null,
            "flex": null,
            "_model_name": "LayoutModel",
            "justify_items": null,
            "grid_row": null,
            "max_height": null,
            "align_content": null,
            "visibility": null,
            "align_self": null,
            "height": null,
            "min_height": null,
            "padding": null,
            "grid_auto_rows": null,
            "grid_gap": null,
            "max_width": null,
            "order": null,
            "_view_module_version": "1.2.0",
            "grid_template_areas": null,
            "object_position": null,
            "object_fit": null,
            "grid_auto_columns": null,
            "margin": null,
            "display": null,
            "left": null
          }
        },
        "a56caa34531147359e324555b8c4918f": {
          "model_module": "@jupyter-widgets/controls",
          "model_name": "HBoxModel",
          "state": {
            "_view_name": "HBoxView",
            "_dom_classes": [],
            "_model_name": "HBoxModel",
            "_view_module": "@jupyter-widgets/controls",
            "_model_module_version": "1.5.0",
            "_view_count": null,
            "_view_module_version": "1.5.0",
            "box_style": "",
            "layout": "IPY_MODEL_368257e8638e4c3faeaafc44c723138a",
            "_model_module": "@jupyter-widgets/controls",
            "children": [
              "IPY_MODEL_a66c063ef11c42638816953598e0cb1a",
              "IPY_MODEL_b0ecc0a14d3641d591674a7039cce088"
            ]
          }
        },
        "368257e8638e4c3faeaafc44c723138a": {
          "model_module": "@jupyter-widgets/base",
          "model_name": "LayoutModel",
          "state": {
            "_view_name": "LayoutView",
            "grid_template_rows": null,
            "right": null,
            "justify_content": null,
            "_view_module": "@jupyter-widgets/base",
            "overflow": null,
            "_model_module_version": "1.2.0",
            "_view_count": null,
            "flex_flow": null,
            "width": null,
            "min_width": null,
            "border": null,
            "align_items": null,
            "bottom": null,
            "_model_module": "@jupyter-widgets/base",
            "top": null,
            "grid_column": null,
            "overflow_y": null,
            "overflow_x": null,
            "grid_auto_flow": null,
            "grid_area": null,
            "grid_template_columns": null,
            "flex": null,
            "_model_name": "LayoutModel",
            "justify_items": null,
            "grid_row": null,
            "max_height": null,
            "align_content": null,
            "visibility": null,
            "align_self": null,
            "height": null,
            "min_height": null,
            "padding": null,
            "grid_auto_rows": null,
            "grid_gap": null,
            "max_width": null,
            "order": null,
            "_view_module_version": "1.2.0",
            "grid_template_areas": null,
            "object_position": null,
            "object_fit": null,
            "grid_auto_columns": null,
            "margin": null,
            "display": null,
            "left": null
          }
        },
        "a66c063ef11c42638816953598e0cb1a": {
          "model_module": "@jupyter-widgets/controls",
          "model_name": "FloatProgressModel",
          "state": {
            "_view_name": "ProgressView",
            "style": "IPY_MODEL_10ea0f2dd7d54bc3bfeb529886a0bfc4",
            "_dom_classes": [],
            "description": "",
            "_model_name": "FloatProgressModel",
            "bar_style": "success",
            "max": 129,
            "_view_module": "@jupyter-widgets/controls",
            "_model_module_version": "1.5.0",
            "value": 129,
            "_view_count": null,
            "_view_module_version": "1.5.0",
            "orientation": "horizontal",
            "min": 0,
            "description_tooltip": null,
            "_model_module": "@jupyter-widgets/controls",
            "layout": "IPY_MODEL_df39e4d04b3540529fb64c577c28958e"
          }
        },
        "b0ecc0a14d3641d591674a7039cce088": {
          "model_module": "@jupyter-widgets/controls",
          "model_name": "HTMLModel",
          "state": {
            "_view_name": "HTMLView",
            "style": "IPY_MODEL_db43bf8cd3104f19bacc7194359d2dcd",
            "_dom_classes": [],
            "description": "",
            "_model_name": "HTMLModel",
            "placeholder": "​",
            "_view_module": "@jupyter-widgets/controls",
            "_model_module_version": "1.5.0",
            "value": " 130/? [02:47&lt;00:00,  1.28s/it]",
            "_view_count": null,
            "_view_module_version": "1.5.0",
            "description_tooltip": null,
            "_model_module": "@jupyter-widgets/controls",
            "layout": "IPY_MODEL_711cf31e93294bc184df2771a2bb6b57"
          }
        },
        "10ea0f2dd7d54bc3bfeb529886a0bfc4": {
          "model_module": "@jupyter-widgets/controls",
          "model_name": "ProgressStyleModel",
          "state": {
            "_view_name": "StyleView",
            "_model_name": "ProgressStyleModel",
            "description_width": "initial",
            "_view_module": "@jupyter-widgets/base",
            "_model_module_version": "1.5.0",
            "_view_count": null,
            "_view_module_version": "1.2.0",
            "bar_color": null,
            "_model_module": "@jupyter-widgets/controls"
          }
        },
        "df39e4d04b3540529fb64c577c28958e": {
          "model_module": "@jupyter-widgets/base",
          "model_name": "LayoutModel",
          "state": {
            "_view_name": "LayoutView",
            "grid_template_rows": null,
            "right": null,
            "justify_content": null,
            "_view_module": "@jupyter-widgets/base",
            "overflow": null,
            "_model_module_version": "1.2.0",
            "_view_count": null,
            "flex_flow": null,
            "width": null,
            "min_width": null,
            "border": null,
            "align_items": null,
            "bottom": null,
            "_model_module": "@jupyter-widgets/base",
            "top": null,
            "grid_column": null,
            "overflow_y": null,
            "overflow_x": null,
            "grid_auto_flow": null,
            "grid_area": null,
            "grid_template_columns": null,
            "flex": null,
            "_model_name": "LayoutModel",
            "justify_items": null,
            "grid_row": null,
            "max_height": null,
            "align_content": null,
            "visibility": null,
            "align_self": null,
            "height": null,
            "min_height": null,
            "padding": null,
            "grid_auto_rows": null,
            "grid_gap": null,
            "max_width": null,
            "order": null,
            "_view_module_version": "1.2.0",
            "grid_template_areas": null,
            "object_position": null,
            "object_fit": null,
            "grid_auto_columns": null,
            "margin": null,
            "display": null,
            "left": null
          }
        },
        "db43bf8cd3104f19bacc7194359d2dcd": {
          "model_module": "@jupyter-widgets/controls",
          "model_name": "DescriptionStyleModel",
          "state": {
            "_view_name": "StyleView",
            "_model_name": "DescriptionStyleModel",
            "description_width": "",
            "_view_module": "@jupyter-widgets/base",
            "_model_module_version": "1.5.0",
            "_view_count": null,
            "_view_module_version": "1.2.0",
            "_model_module": "@jupyter-widgets/controls"
          }
        },
        "711cf31e93294bc184df2771a2bb6b57": {
          "model_module": "@jupyter-widgets/base",
          "model_name": "LayoutModel",
          "state": {
            "_view_name": "LayoutView",
            "grid_template_rows": null,
            "right": null,
            "justify_content": null,
            "_view_module": "@jupyter-widgets/base",
            "overflow": null,
            "_model_module_version": "1.2.0",
            "_view_count": null,
            "flex_flow": null,
            "width": null,
            "min_width": null,
            "border": null,
            "align_items": null,
            "bottom": null,
            "_model_module": "@jupyter-widgets/base",
            "top": null,
            "grid_column": null,
            "overflow_y": null,
            "overflow_x": null,
            "grid_auto_flow": null,
            "grid_area": null,
            "grid_template_columns": null,
            "flex": null,
            "_model_name": "LayoutModel",
            "justify_items": null,
            "grid_row": null,
            "max_height": null,
            "align_content": null,
            "visibility": null,
            "align_self": null,
            "height": null,
            "min_height": null,
            "padding": null,
            "grid_auto_rows": null,
            "grid_gap": null,
            "max_width": null,
            "order": null,
            "_view_module_version": "1.2.0",
            "grid_template_areas": null,
            "object_position": null,
            "object_fit": null,
            "grid_auto_columns": null,
            "margin": null,
            "display": null,
            "left": null
          }
        },
        "a493c035dca04748a80de775b855be07": {
          "model_module": "@jupyter-widgets/controls",
          "model_name": "HBoxModel",
          "state": {
            "_view_name": "HBoxView",
            "_dom_classes": [],
            "_model_name": "HBoxModel",
            "_view_module": "@jupyter-widgets/controls",
            "_model_module_version": "1.5.0",
            "_view_count": null,
            "_view_module_version": "1.5.0",
            "box_style": "",
            "layout": "IPY_MODEL_d92466f4ec3541489854fdfa2d6bdc78",
            "_model_module": "@jupyter-widgets/controls",
            "children": [
              "IPY_MODEL_3d155aa1f21447ddb5a80f7c34c842a5",
              "IPY_MODEL_55edf2b33abb4985854b4133bfce5efb"
            ]
          }
        },
        "d92466f4ec3541489854fdfa2d6bdc78": {
          "model_module": "@jupyter-widgets/base",
          "model_name": "LayoutModel",
          "state": {
            "_view_name": "LayoutView",
            "grid_template_rows": null,
            "right": null,
            "justify_content": null,
            "_view_module": "@jupyter-widgets/base",
            "overflow": null,
            "_model_module_version": "1.2.0",
            "_view_count": null,
            "flex_flow": null,
            "width": null,
            "min_width": null,
            "border": null,
            "align_items": null,
            "bottom": null,
            "_model_module": "@jupyter-widgets/base",
            "top": null,
            "grid_column": null,
            "overflow_y": null,
            "overflow_x": null,
            "grid_auto_flow": null,
            "grid_area": null,
            "grid_template_columns": null,
            "flex": null,
            "_model_name": "LayoutModel",
            "justify_items": null,
            "grid_row": null,
            "max_height": null,
            "align_content": null,
            "visibility": null,
            "align_self": null,
            "height": null,
            "min_height": null,
            "padding": null,
            "grid_auto_rows": null,
            "grid_gap": null,
            "max_width": null,
            "order": null,
            "_view_module_version": "1.2.0",
            "grid_template_areas": null,
            "object_position": null,
            "object_fit": null,
            "grid_auto_columns": null,
            "margin": null,
            "display": null,
            "left": null
          }
        },
        "3d155aa1f21447ddb5a80f7c34c842a5": {
          "model_module": "@jupyter-widgets/controls",
          "model_name": "FloatProgressModel",
          "state": {
            "_view_name": "ProgressView",
            "style": "IPY_MODEL_d3597efca5464ad89f0cc416c3a81d0a",
            "_dom_classes": [],
            "description": "",
            "_model_name": "FloatProgressModel",
            "bar_style": "success",
            "max": 129,
            "_view_module": "@jupyter-widgets/controls",
            "_model_module_version": "1.5.0",
            "value": 129,
            "_view_count": null,
            "_view_module_version": "1.5.0",
            "orientation": "horizontal",
            "min": 0,
            "description_tooltip": null,
            "_model_module": "@jupyter-widgets/controls",
            "layout": "IPY_MODEL_06ee0f9c3fc34880a9113441a10022de"
          }
        },
        "55edf2b33abb4985854b4133bfce5efb": {
          "model_module": "@jupyter-widgets/controls",
          "model_name": "HTMLModel",
          "state": {
            "_view_name": "HTMLView",
            "style": "IPY_MODEL_be013255485148758b0a3ed8335aed83",
            "_dom_classes": [],
            "description": "",
            "_model_name": "HTMLModel",
            "placeholder": "​",
            "_view_module": "@jupyter-widgets/controls",
            "_model_module_version": "1.5.0",
            "value": " 130/? [36:41&lt;00:00, 16.94s/it]",
            "_view_count": null,
            "_view_module_version": "1.5.0",
            "description_tooltip": null,
            "_model_module": "@jupyter-widgets/controls",
            "layout": "IPY_MODEL_3094c86e81f7410eb1f3d64a05ae2f86"
          }
        },
        "d3597efca5464ad89f0cc416c3a81d0a": {
          "model_module": "@jupyter-widgets/controls",
          "model_name": "ProgressStyleModel",
          "state": {
            "_view_name": "StyleView",
            "_model_name": "ProgressStyleModel",
            "description_width": "initial",
            "_view_module": "@jupyter-widgets/base",
            "_model_module_version": "1.5.0",
            "_view_count": null,
            "_view_module_version": "1.2.0",
            "bar_color": null,
            "_model_module": "@jupyter-widgets/controls"
          }
        },
        "06ee0f9c3fc34880a9113441a10022de": {
          "model_module": "@jupyter-widgets/base",
          "model_name": "LayoutModel",
          "state": {
            "_view_name": "LayoutView",
            "grid_template_rows": null,
            "right": null,
            "justify_content": null,
            "_view_module": "@jupyter-widgets/base",
            "overflow": null,
            "_model_module_version": "1.2.0",
            "_view_count": null,
            "flex_flow": null,
            "width": null,
            "min_width": null,
            "border": null,
            "align_items": null,
            "bottom": null,
            "_model_module": "@jupyter-widgets/base",
            "top": null,
            "grid_column": null,
            "overflow_y": null,
            "overflow_x": null,
            "grid_auto_flow": null,
            "grid_area": null,
            "grid_template_columns": null,
            "flex": null,
            "_model_name": "LayoutModel",
            "justify_items": null,
            "grid_row": null,
            "max_height": null,
            "align_content": null,
            "visibility": null,
            "align_self": null,
            "height": null,
            "min_height": null,
            "padding": null,
            "grid_auto_rows": null,
            "grid_gap": null,
            "max_width": null,
            "order": null,
            "_view_module_version": "1.2.0",
            "grid_template_areas": null,
            "object_position": null,
            "object_fit": null,
            "grid_auto_columns": null,
            "margin": null,
            "display": null,
            "left": null
          }
        },
        "be013255485148758b0a3ed8335aed83": {
          "model_module": "@jupyter-widgets/controls",
          "model_name": "DescriptionStyleModel",
          "state": {
            "_view_name": "StyleView",
            "_model_name": "DescriptionStyleModel",
            "description_width": "",
            "_view_module": "@jupyter-widgets/base",
            "_model_module_version": "1.5.0",
            "_view_count": null,
            "_view_module_version": "1.2.0",
            "_model_module": "@jupyter-widgets/controls"
          }
        },
        "3094c86e81f7410eb1f3d64a05ae2f86": {
          "model_module": "@jupyter-widgets/base",
          "model_name": "LayoutModel",
          "state": {
            "_view_name": "LayoutView",
            "grid_template_rows": null,
            "right": null,
            "justify_content": null,
            "_view_module": "@jupyter-widgets/base",
            "overflow": null,
            "_model_module_version": "1.2.0",
            "_view_count": null,
            "flex_flow": null,
            "width": null,
            "min_width": null,
            "border": null,
            "align_items": null,
            "bottom": null,
            "_model_module": "@jupyter-widgets/base",
            "top": null,
            "grid_column": null,
            "overflow_y": null,
            "overflow_x": null,
            "grid_auto_flow": null,
            "grid_area": null,
            "grid_template_columns": null,
            "flex": null,
            "_model_name": "LayoutModel",
            "justify_items": null,
            "grid_row": null,
            "max_height": null,
            "align_content": null,
            "visibility": null,
            "align_self": null,
            "height": null,
            "min_height": null,
            "padding": null,
            "grid_auto_rows": null,
            "grid_gap": null,
            "max_width": null,
            "order": null,
            "_view_module_version": "1.2.0",
            "grid_template_areas": null,
            "object_position": null,
            "object_fit": null,
            "grid_auto_columns": null,
            "margin": null,
            "display": null,
            "left": null
          }
        }
      }
    },
    "accelerator": "GPU"
  },
  "cells": [
    {
      "cell_type": "code",
      "metadata": {
        "id": "EmeTloXi2axk"
      },
      "source": [
        "!pip install -q Pillow gdown"
      ],
      "execution_count": 1,
      "outputs": []
    },
    {
      "cell_type": "markdown",
      "metadata": {
        "id": "RS4ZSBDYyvzO"
      },
      "source": [
        "### Importing required libraries"
      ]
    },
    {
      "cell_type": "code",
      "metadata": {
        "id": "Ue06QGMF2ctl"
      },
      "source": [
        "import gdown\r\n",
        "from PIL import Image\r\n",
        "from PIL import ImageFile\r\n",
        "ImageFile.LOAD_TRUNCATED_IMAGES = True\r\n",
        "\r\n",
        "import json\r\n",
        "import os\r\n",
        "import shutil\r\n",
        "\r\n",
        "import torchvision\r\n",
        "import numpy as np\r\n",
        "import pandas as pd \r\n",
        "import random\r\n",
        "\r\n",
        "import torch\r\n",
        "import torch.nn as nn\r\n",
        "import torch.nn.functional as F\r\n",
        "from torch.utils.data import Dataset\r\n",
        "from tqdm.notebook import tqdm\r\n",
        "import nltk"
      ],
      "execution_count": 2,
      "outputs": []
    },
    {
      "cell_type": "code",
      "metadata": {
        "id": "uzv5Lx4KN094"
      },
      "source": [
        "def delete_files(arr):\r\n",
        "    for file_path in arr:\r\n",
        "        if os.path.exists(file_path):\r\n",
        "            os.remove(file_path)"
      ],
      "execution_count": 3,
      "outputs": []
    },
    {
      "cell_type": "code",
      "metadata": {
        "id": "rB3X-7GIN4rg"
      },
      "source": [
        "\r\n",
        "def delete_folders(arr):\r\n",
        "    for folder_path in arr:\r\n",
        "        if os.path.exists(folder_path):\r\n",
        "            shutil.rmtree(folder_path)"
      ],
      "execution_count": 4,
      "outputs": []
    },
    {
      "cell_type": "markdown",
      "metadata": {
        "id": "igvOnBEiz601"
      },
      "source": [
        "## Data downloading, preprocessing and analyzing"
      ]
    },
    {
      "cell_type": "markdown",
      "metadata": {
        "id": "_0uN4CZ16dXp"
      },
      "source": [
        "CNN Model"
      ]
    },
    {
      "cell_type": "code",
      "metadata": {
        "colab": {
          "base_uri": "https://localhost:8080/",
          "height": 35
        },
        "id": "YSJtXKslz_f0",
        "outputId": "590ea3c5-c8bc-4cc5-ddf1-5c0c654d3136"
      },
      "source": [
        "gdown.download(\"https://drive.google.com/u/0/uc?export=download&confirm=X2sC&id=1TlNmpLUBw7jJEXgpliy29Am1HpHl-KNJ\", \"beheaded_inception3.py\", True)"
      ],
      "execution_count": 5,
      "outputs": [
        {
          "output_type": "execute_result",
          "data": {
            "application/vnd.google.colaboratory.intrinsic+json": {
              "type": "string"
            },
            "text/plain": [
              "'beheaded_inception3.py'"
            ]
          },
          "metadata": {
            "tags": []
          },
          "execution_count": 5
        }
      ]
    },
    {
      "cell_type": "markdown",
      "metadata": {
        "id": "vImwmfjCKcwx"
      },
      "source": [
        "### Downloading the MS COCO Dataset"
      ]
    },
    {
      "cell_type": "markdown",
      "metadata": {
        "id": "w456kVxtj-oZ"
      },
      "source": [
        "**Images download**"
      ]
    },
    {
      "cell_type": "code",
      "metadata": {
        "id": "kOek7JLuKZkc",
        "colab": {
          "base_uri": "https://localhost:8080/"
        },
        "outputId": "236543fc-e008-4aed-eee7-c22c47abb2bd"
      },
      "source": [
        "%%time\r\n",
        "!wget -q http://images.cocodataset.org/zips/train2014.zip\r\n",
        "print(\"Unzipping...\")\r\n",
        "!unzip -q train2014.zip"
      ],
      "execution_count": 6,
      "outputs": [
        {
          "output_type": "stream",
          "text": [
            "Unzipping...\n",
            "CPU times: user 1.17 s, sys: 204 ms, total: 1.37 s\n",
            "Wall time: 11min 35s\n"
          ],
          "name": "stdout"
        }
      ]
    },
    {
      "cell_type": "code",
      "metadata": {
        "id": "GlOHh2DbNgOH"
      },
      "source": [
        "delete_files([\"/content/train2014.zip\"])"
      ],
      "execution_count": 7,
      "outputs": []
    },
    {
      "cell_type": "markdown",
      "metadata": {
        "id": "OcG3j95fkG8x"
      },
      "source": [
        "**Captions download**"
      ]
    },
    {
      "cell_type": "code",
      "metadata": {
        "id": "duFgjN0aiPy8",
        "colab": {
          "base_uri": "https://localhost:8080/"
        },
        "outputId": "97c9601e-a83b-4c13-ab46-d42495535638"
      },
      "source": [
        "\r\n",
        "%%time\r\n",
        "!wget http://images.cocodataset.org/annotations/annotations_trainval2014.zip\r\n",
        "print(\"Unzipping...\")\r\n",
        "!unzip -q annotations_trainval2014.zip"
      ],
      "execution_count": 8,
      "outputs": [
        {
          "output_type": "stream",
          "text": [
            "--2021-02-05 21:32:46--  http://images.cocodataset.org/annotations/annotations_trainval2014.zip\n",
            "Resolving images.cocodataset.org (images.cocodataset.org)... 52.216.177.123\n",
            "Connecting to images.cocodataset.org (images.cocodataset.org)|52.216.177.123|:80... connected.\n",
            "HTTP request sent, awaiting response... 200 OK\n",
            "Length: 252872794 (241M) [application/zip]\n",
            "Saving to: ‘annotations_trainval2014.zip’\n",
            "\n",
            "annotations_trainva 100%[===================>] 241.16M  44.8MB/s    in 5.8s    \n",
            "\n",
            "2021-02-05 21:32:52 (41.3 MB/s) - ‘annotations_trainval2014.zip’ saved [252872794/252872794]\n",
            "\n",
            "Unzipping...\n",
            "CPU times: user 52.8 ms, sys: 25 ms, total: 77.9 ms\n",
            "Wall time: 13.4 s\n"
          ],
          "name": "stdout"
        }
      ]
    },
    {
      "cell_type": "code",
      "metadata": {
        "id": "aJPFgkj8OM3v"
      },
      "source": [
        "delete_files([\r\n",
        "    \"/content/annotations/instances_train2014.json\",\r\n",
        "    \"/content/annotations/instances_val2014.json\",\r\n",
        "    \"/content/annotations/person_keypoints_train2014.json\",\r\n",
        "    \"/content/annotations/person_keypoints_val2014.json\",\r\n",
        "])"
      ],
      "execution_count": 9,
      "outputs": []
    },
    {
      "cell_type": "markdown",
      "metadata": {
        "id": "jYbugOlGr6Ep"
      },
      "source": [
        "### Data preprocessing"
      ]
    },
    {
      "cell_type": "code",
      "metadata": {
        "id": "Yl2ato4p0qmS"
      },
      "source": [
        "data = json.load(open(\"/content/annotations/captions_train2014.json\"))"
      ],
      "execution_count": 10,
      "outputs": []
    },
    {
      "cell_type": "code",
      "metadata": {
        "id": "AEyJVWIqYvqA"
      },
      "source": [
        "def data_table(keys):\r\n",
        "    dataframes = []\r\n",
        "\r\n",
        "    for key in keys:\r\n",
        "\r\n",
        "        if key == img_key:\r\n",
        "            key_value = \"file_name\"\r\n",
        "            key_id = \"id\"\r\n",
        "        elif key == caption_key:\r\n",
        "            key_value = \"caption\"\r\n",
        "            key_id = \"image_id\"\r\n",
        "\r\n",
        "        data_dict = {}\r\n",
        "        data_dict[key_value] = []\r\n",
        "        data_dict[\"id\"] = []\r\n",
        "\r\n",
        "        for item in data[key]:\r\n",
        "            data_dict[key_value].append(item[key_value])\r\n",
        "            data_dict[\"id\"].append(item[key_id])\r\n",
        "\r\n",
        "        dataframes.append(pd.DataFrame(data=data_dict))\r\n",
        "\r\n",
        "    return pd.merge(dataframes[0], dataframes[1], on=(\"id\"))"
      ],
      "execution_count": 11,
      "outputs": []
    },
    {
      "cell_type": "markdown",
      "metadata": {
        "id": "dLlGNJuZy3vO"
      },
      "source": [
        "**Get rid of redundant data columns**"
      ]
    },
    {
      "cell_type": "code",
      "metadata": {
        "colab": {
          "base_uri": "https://localhost:8080/"
        },
        "id": "Sn8UojZNehyp",
        "outputId": "6b79a0ee-5761-4b77-fec9-a76a24d1d42c"
      },
      "source": [
        "%%time\r\n",
        "img_key = \"images\"\r\n",
        "caption_key = \"annotations\"\r\n",
        "\r\n",
        "df = data_table((img_key, caption_key))"
      ],
      "execution_count": 12,
      "outputs": [
        {
          "output_type": "stream",
          "text": [
            "CPU times: user 392 ms, sys: 13.5 ms, total: 405 ms\n",
            "Wall time: 484 ms\n"
          ],
          "name": "stdout"
        }
      ]
    },
    {
      "cell_type": "code",
      "metadata": {
        "id": "Sv5mkP0yhbO8"
      },
      "source": [
        "df.drop(columns=\"id\", inplace=True)\r\n",
        "df.rename(columns={\"file_name\": \"image\"}, inplace=True)"
      ],
      "execution_count": 13,
      "outputs": []
    },
    {
      "cell_type": "code",
      "metadata": {
        "colab": {
          "base_uri": "https://localhost:8080/",
          "height": 195
        },
        "id": "sExO26-jh6cU",
        "outputId": "145d9395-c160-4b42-b275-192d2c23412f"
      },
      "source": [
        "df.head()"
      ],
      "execution_count": 14,
      "outputs": [
        {
          "output_type": "execute_result",
          "data": {
            "text/html": [
              "<div>\n",
              "<style scoped>\n",
              "    .dataframe tbody tr th:only-of-type {\n",
              "        vertical-align: middle;\n",
              "    }\n",
              "\n",
              "    .dataframe tbody tr th {\n",
              "        vertical-align: top;\n",
              "    }\n",
              "\n",
              "    .dataframe thead th {\n",
              "        text-align: right;\n",
              "    }\n",
              "</style>\n",
              "<table border=\"1\" class=\"dataframe\">\n",
              "  <thead>\n",
              "    <tr style=\"text-align: right;\">\n",
              "      <th></th>\n",
              "      <th>image</th>\n",
              "      <th>caption</th>\n",
              "    </tr>\n",
              "  </thead>\n",
              "  <tbody>\n",
              "    <tr>\n",
              "      <th>0</th>\n",
              "      <td>COCO_train2014_000000057870.jpg</td>\n",
              "      <td>A restaurant has modern wooden tables and chairs.</td>\n",
              "    </tr>\n",
              "    <tr>\n",
              "      <th>1</th>\n",
              "      <td>COCO_train2014_000000057870.jpg</td>\n",
              "      <td>A long restaurant table with rattan rounded ba...</td>\n",
              "    </tr>\n",
              "    <tr>\n",
              "      <th>2</th>\n",
              "      <td>COCO_train2014_000000057870.jpg</td>\n",
              "      <td>a long table with a plant on top of it surroun...</td>\n",
              "    </tr>\n",
              "    <tr>\n",
              "      <th>3</th>\n",
              "      <td>COCO_train2014_000000057870.jpg</td>\n",
              "      <td>A long table with a flower arrangement in the ...</td>\n",
              "    </tr>\n",
              "    <tr>\n",
              "      <th>4</th>\n",
              "      <td>COCO_train2014_000000057870.jpg</td>\n",
              "      <td>A table is adorned with wooden chairs with blu...</td>\n",
              "    </tr>\n",
              "  </tbody>\n",
              "</table>\n",
              "</div>"
            ],
            "text/plain": [
              "                             image                                            caption\n",
              "0  COCO_train2014_000000057870.jpg  A restaurant has modern wooden tables and chairs.\n",
              "1  COCO_train2014_000000057870.jpg  A long restaurant table with rattan rounded ba...\n",
              "2  COCO_train2014_000000057870.jpg  a long table with a plant on top of it surroun...\n",
              "3  COCO_train2014_000000057870.jpg  A long table with a flower arrangement in the ...\n",
              "4  COCO_train2014_000000057870.jpg  A table is adorned with wooden chairs with blu..."
            ]
          },
          "metadata": {
            "tags": []
          },
          "execution_count": 14
        }
      ]
    },
    {
      "cell_type": "code",
      "metadata": {
        "id": "HpAd2b0r1AvJ"
      },
      "source": [
        "df = df[df['image'].isin(os.listdir(\"/content/train2014\"))]\r\n",
        "df.reset_index(drop=True, inplace=True)"
      ],
      "execution_count": 15,
      "outputs": []
    },
    {
      "cell_type": "code",
      "metadata": {
        "colab": {
          "base_uri": "https://localhost:8080/",
          "height": 402
        },
        "id": "r3srKXkW1oMX",
        "outputId": "6e0fa387-2a56-4b51-b467-696b1306e06b"
      },
      "source": [
        "df"
      ],
      "execution_count": 16,
      "outputs": [
        {
          "output_type": "execute_result",
          "data": {
            "text/html": [
              "<div>\n",
              "<style scoped>\n",
              "    .dataframe tbody tr th:only-of-type {\n",
              "        vertical-align: middle;\n",
              "    }\n",
              "\n",
              "    .dataframe tbody tr th {\n",
              "        vertical-align: top;\n",
              "    }\n",
              "\n",
              "    .dataframe thead th {\n",
              "        text-align: right;\n",
              "    }\n",
              "</style>\n",
              "<table border=\"1\" class=\"dataframe\">\n",
              "  <thead>\n",
              "    <tr style=\"text-align: right;\">\n",
              "      <th></th>\n",
              "      <th>image</th>\n",
              "      <th>caption</th>\n",
              "    </tr>\n",
              "  </thead>\n",
              "  <tbody>\n",
              "    <tr>\n",
              "      <th>0</th>\n",
              "      <td>COCO_train2014_000000057870.jpg</td>\n",
              "      <td>A restaurant has modern wooden tables and chairs.</td>\n",
              "    </tr>\n",
              "    <tr>\n",
              "      <th>1</th>\n",
              "      <td>COCO_train2014_000000057870.jpg</td>\n",
              "      <td>A long restaurant table with rattan rounded ba...</td>\n",
              "    </tr>\n",
              "    <tr>\n",
              "      <th>2</th>\n",
              "      <td>COCO_train2014_000000057870.jpg</td>\n",
              "      <td>a long table with a plant on top of it surroun...</td>\n",
              "    </tr>\n",
              "    <tr>\n",
              "      <th>3</th>\n",
              "      <td>COCO_train2014_000000057870.jpg</td>\n",
              "      <td>A long table with a flower arrangement in the ...</td>\n",
              "    </tr>\n",
              "    <tr>\n",
              "      <th>4</th>\n",
              "      <td>COCO_train2014_000000057870.jpg</td>\n",
              "      <td>A table is adorned with wooden chairs with blu...</td>\n",
              "    </tr>\n",
              "    <tr>\n",
              "      <th>...</th>\n",
              "      <td>...</td>\n",
              "      <td>...</td>\n",
              "    </tr>\n",
              "    <tr>\n",
              "      <th>414108</th>\n",
              "      <td>COCO_train2014_000000475546.jpg</td>\n",
              "      <td>The patrons enjoy their beverages at the bar.</td>\n",
              "    </tr>\n",
              "    <tr>\n",
              "      <th>414109</th>\n",
              "      <td>COCO_train2014_000000475546.jpg</td>\n",
              "      <td>People having a drink in a basement bar.</td>\n",
              "    </tr>\n",
              "    <tr>\n",
              "      <th>414110</th>\n",
              "      <td>COCO_train2014_000000475546.jpg</td>\n",
              "      <td>A group of friends enjoys a drink while sittin...</td>\n",
              "    </tr>\n",
              "    <tr>\n",
              "      <th>414111</th>\n",
              "      <td>COCO_train2014_000000475546.jpg</td>\n",
              "      <td>Group of people drinking wine at a public loca...</td>\n",
              "    </tr>\n",
              "    <tr>\n",
              "      <th>414112</th>\n",
              "      <td>COCO_train2014_000000475546.jpg</td>\n",
              "      <td>Three women and a man are sitting at a bar</td>\n",
              "    </tr>\n",
              "  </tbody>\n",
              "</table>\n",
              "<p>414113 rows × 2 columns</p>\n",
              "</div>"
            ],
            "text/plain": [
              "                                  image                                            caption\n",
              "0       COCO_train2014_000000057870.jpg  A restaurant has modern wooden tables and chairs.\n",
              "1       COCO_train2014_000000057870.jpg  A long restaurant table with rattan rounded ba...\n",
              "2       COCO_train2014_000000057870.jpg  a long table with a plant on top of it surroun...\n",
              "3       COCO_train2014_000000057870.jpg  A long table with a flower arrangement in the ...\n",
              "4       COCO_train2014_000000057870.jpg  A table is adorned with wooden chairs with blu...\n",
              "...                                 ...                                                ...\n",
              "414108  COCO_train2014_000000475546.jpg      The patrons enjoy their beverages at the bar.\n",
              "414109  COCO_train2014_000000475546.jpg           People having a drink in a basement bar.\n",
              "414110  COCO_train2014_000000475546.jpg  A group of friends enjoys a drink while sittin...\n",
              "414111  COCO_train2014_000000475546.jpg  Group of people drinking wine at a public loca...\n",
              "414112  COCO_train2014_000000475546.jpg         Three women and a man are sitting at a bar\n",
              "\n",
              "[414113 rows x 2 columns]"
            ]
          },
          "metadata": {
            "tags": []
          },
          "execution_count": 16
        }
      ]
    },
    {
      "cell_type": "markdown",
      "metadata": {
        "id": "8luBEi02p-mg"
      },
      "source": [
        "-- Empty table data check --"
      ]
    },
    {
      "cell_type": "code",
      "metadata": {
        "colab": {
          "base_uri": "https://localhost:8080/"
        },
        "id": "X7xSxI7Nh8G3",
        "outputId": "43dab42e-702a-40b5-8a34-1d7847efa0e8"
      },
      "source": [
        "df.isna().any()"
      ],
      "execution_count": 17,
      "outputs": [
        {
          "output_type": "execute_result",
          "data": {
            "text/plain": [
              "image      False\n",
              "caption    False\n",
              "dtype: bool"
            ]
          },
          "metadata": {
            "tags": []
          },
          "execution_count": 17
        }
      ]
    },
    {
      "cell_type": "markdown",
      "metadata": {
        "id": "_HOkIWEJzOeT"
      },
      "source": [
        "## Creating datasets, iterators"
      ]
    },
    {
      "cell_type": "code",
      "metadata": {
        "id": "SozVMqs62jhb"
      },
      "source": [
        "IMAGE_COL_LABEL = df.columns[0]\r\n",
        "CAPTION_COL_LABEL = df.columns[1]"
      ],
      "execution_count": 18,
      "outputs": []
    },
    {
      "cell_type": "code",
      "metadata": {
        "id": "7OPHdzGms4k-"
      },
      "source": [
        "import string\r\n",
        "\r\n",
        "class TextDataset(Dataset):\r\n",
        "    \r\n",
        "    BOS = \"<BOS>\"\r\n",
        "    EOS = \"<EOS>\"\r\n",
        "    PAD = \"<PAD>\"\r\n",
        "\r\n",
        "    def __init__(self, text_data: pd.Series, min_word_freq=None, max_word_freq=None, max_sentence_len=20, lower=True):\r\n",
        "\r\n",
        "        if min_word_freq is None:\r\n",
        "            self.min_word_freq = -np.inf\r\n",
        "        else:\r\n",
        "            self.min_word_freq = min_word_freq\r\n",
        "\r\n",
        "        if max_word_freq is None:\r\n",
        "            self.max_word_freq = np.inf\r\n",
        "        else:\r\n",
        "            self.max_word_freq = max_word_freq\r\n",
        "\r\n",
        "\r\n",
        "        self.max_sentence_len = max_sentence_len\r\n",
        "        self.lower = lower\r\n",
        "\r\n",
        "        self.tokenizer = nltk.WordPunctTokenizer()\r\n",
        "        self.additional_tokens = set([self.BOS, self.EOS, self.PAD])\r\n",
        "        self.token2idx = {self.BOS: 1, self.EOS: 2, self.PAD: 0}\r\n",
        "\r\n",
        "        self.vocab = set(self.append_words(text_data))\r\n",
        "        self.token2idx.update({token:num + len(self.additional_tokens) for num, token in enumerate(self.vocab) if token not in self.additional_tokens})\r\n",
        "\r\n",
        "        self.idx2token = {num: token for token, num in self.token2idx.items()}\r\n",
        "        self.vocab = self.additional_tokens.union(self.vocab)\r\n",
        "\r\n",
        "    def __len__(self):\r\n",
        "        return len(self.vocab)\r\n",
        "\r\n",
        "    def __getitem__(self, text):            \r\n",
        "        tokens = self.__tokenize(text)\r\n",
        "        text_ids = [token for token in tokens if token in self.vocab]\r\n",
        "        text_ids = self.pad_sequence(text_ids)        \r\n",
        "        text_ids = [self.token2idx[token] for token in text_ids]\r\n",
        "        return text_ids\r\n",
        "\r\n",
        "    def __tokenize(self, row):\r\n",
        "        cut_edge = self.max_sentence_len - 2\r\n",
        "\r\n",
        "        row = row.lower() if self.lower else row\r\n",
        "        tokens = self.tokenizer.tokenize(row)\r\n",
        "        tokens = [token for token in tokens if token not in string.punctuation]\r\n",
        "        tokens = tokens[:cut_edge]\r\n",
        "        tokens = [self.BOS] + tokens + [self.EOS]\r\n",
        "        tokens = self.pad_sequence(tokens)\r\n",
        "        return tokens\r\n",
        "\r\n",
        "    def pad_sequence(self, tokens):\r\n",
        "        padded_sequence = tokens + (self.max_sentence_len - len(tokens)) * [self.PAD]\r\n",
        "        return padded_sequence\r\n",
        "\r\n",
        "    def append_words(self, text: pd.Series):\r\n",
        "        counted_words = text.str.lower().str.split().explode().value_counts()\r\n",
        "        append_list =  [key for key, val in dict(counted_words).items() \r\n",
        "                        if (val > self.min_word_freq and val < self.max_word_freq) and (key not in self.additional_tokens)]\r\n",
        "\r\n",
        "        return append_list"
      ],
      "execution_count": 19,
      "outputs": []
    },
    {
      "cell_type": "code",
      "metadata": {
        "colab": {
          "base_uri": "https://localhost:8080/"
        },
        "id": "zDWz_t8mZnTL",
        "outputId": "4ec4aa52-f58e-48fb-cb04-24eefc152f70"
      },
      "source": [
        "%%time\r\n",
        "text_data = df.iloc[:, 1]\r\n",
        "text_dataset = TextDataset(text_data=text_data, min_word_freq=5, max_sentence_len=20, lower=True)"
      ],
      "execution_count": 20,
      "outputs": [
        {
          "output_type": "stream",
          "text": [
            "CPU times: user 3.07 s, sys: 131 ms, total: 3.2 s\n",
            "Wall time: 3.25 s\n"
          ],
          "name": "stdout"
        }
      ]
    },
    {
      "cell_type": "markdown",
      "metadata": {
        "id": "LqNQuZIKySFc"
      },
      "source": [
        "### Creating text dataset"
      ]
    },
    {
      "cell_type": "markdown",
      "metadata": {
        "id": "VzIvYnxnyLqV"
      },
      "source": [
        "### Applying tokenization for data captions"
      ]
    },
    {
      "cell_type": "code",
      "metadata": {
        "id": "Auu1UEJo3_3V"
      },
      "source": [
        "df[CAPTION_COL_LABEL] = df[CAPTION_COL_LABEL].apply(lambda x: text_dataset[x])"
      ],
      "execution_count": 21,
      "outputs": []
    },
    {
      "cell_type": "markdown",
      "metadata": {
        "id": "JpOOhVu1yDvA"
      },
      "source": [
        "### BatchIterator class for creating data iterators"
      ]
    },
    {
      "cell_type": "code",
      "metadata": {
        "id": "MkV5xezMnaGi"
      },
      "source": [
        "class BatchIterator:\r\n",
        "    def __init__(self, dataframe, image_col_label, caption_col_label, batch_size, image_transformer, main_img_path, shuffle=False):\r\n",
        "        self.dataframe = dataframe\r\n",
        "        self.unique_images = np.unique(dataframe[image_col_label])\r\n",
        "        self.image_col = image_col_label\r\n",
        "        self.caption_col = caption_col_label\r\n",
        "        self.image_transformer = image_transformer\r\n",
        "        self.main_img_path = main_img_path\r\n",
        "\r\n",
        "        self.num_samples = len(self.unique_images)\r\n",
        "        self.batch_size = batch_size\r\n",
        "        self.batches_count =  self.num_samples // self.batch_size\r\n",
        "        self.shuffle = shuffle\r\n",
        "\r\n",
        "    def __len__(self):\r\n",
        "        return self.batches_count\r\n",
        "\r\n",
        "    def __iter__(self):\r\n",
        "        indices = np.arange(self.num_samples)\r\n",
        "\r\n",
        "        if self.shuffle:\r\n",
        "            np.random.shuffle(indices)\r\n",
        "\r\n",
        "        for start in range(0, self.num_samples, self.batch_size):\r\n",
        "            end = min(start + self.batch_size, self.num_samples)\r\n",
        "\r\n",
        "            batch_indices = indices[start:end]\r\n",
        "            batch_images = []\r\n",
        "            batch_captions = []\r\n",
        "\r\n",
        "            for idx in batch_indices:\r\n",
        "                image_name = self.unique_images[idx]\r\n",
        "\r\n",
        "                image = self.__get_image_matrix(image_name)                \r\n",
        "                caption = self.__get_caption(image_name)\r\n",
        "\r\n",
        "                batch_images.append(image)\r\n",
        "                batch_captions.append(caption)\r\n",
        "\r\n",
        "            yield {\r\n",
        "                \"images\": batch_images,\r\n",
        "                \"captions\": torch.tensor(batch_captions)\r\n",
        "            }\r\n",
        "\r\n",
        "    def __get_image_matrix(self, image_name):\r\n",
        "        image = Image.open(os.path.join(self.main_img_path, image_name))\r\n",
        "        image = image.convert(\"RGB\")\r\n",
        "        return self.image_transformer(image)\r\n",
        "\r\n",
        "    def __get_caption(self, image_name):\r\n",
        "        all_captions = np.array(\r\n",
        "                        self.dataframe[self.dataframe[self.image_col] == image_name][self.caption_col]\r\n",
        "                      )\r\n",
        "        return random.choice(all_captions)"
      ],
      "execution_count": 22,
      "outputs": []
    },
    {
      "cell_type": "code",
      "metadata": {
        "id": "nI31TXLTt5nN"
      },
      "source": [
        "def split_data(dataframe, ratios):\r\n",
        "    data_len = dataframe.shape[0]\r\n",
        "\r\n",
        "    lengths = [int(data_len * ratio) for ratio in ratios]\r\n",
        "    if np.sum(lengths) != data_len:\r\n",
        "        lengths[-1] = data_len - np.sum(lengths[:-1])\r\n",
        "    \r\n",
        "    split_indices = [np.sum(lengths[:i+1]) for i in range(len(lengths))]\r\n",
        "    return np.split(df, split_indices)[:len(lengths)]"
      ],
      "execution_count": 23,
      "outputs": []
    },
    {
      "cell_type": "markdown",
      "metadata": {
        "id": "vR7Jmne6x9-2"
      },
      "source": [
        "### Spliting the data"
      ]
    },
    {
      "cell_type": "code",
      "metadata": {
        "id": "UeRZwaiAhdCg"
      },
      "source": [
        "train_data, valid_data, test_data = split_data(df, [0.8, 0.1, 0.1])"
      ],
      "execution_count": 24,
      "outputs": []
    },
    {
      "cell_type": "markdown",
      "metadata": {
        "id": "bpnhls2Qt7qw"
      },
      "source": [
        "### Creating data iterators"
      ]
    },
    {
      "cell_type": "code",
      "metadata": {
        "id": "3I45lfuF2PMM"
      },
      "source": [
        "image_transformer = torchvision.transforms.Compose([\r\n",
        "                          torchvision.transforms.ToTensor(),\r\n",
        "                          torchvision.transforms.Resize((299, 299)),\r\n",
        "                          torchvision.transforms.Normalize([0.485, 0.456, 0.406],\r\n",
        "                                                           [0.229, 0.224, 0.225])\r\n",
        "                    ])"
      ],
      "execution_count": 25,
      "outputs": []
    },
    {
      "cell_type": "code",
      "metadata": {
        "id": "R5PhGf-20hH0"
      },
      "source": [
        "BATCH_SIZE = 64\r\n",
        "main_img_path = \"/content/train2014\""
      ],
      "execution_count": 26,
      "outputs": []
    },
    {
      "cell_type": "code",
      "metadata": {
        "id": "lu1eyytEqymx"
      },
      "source": [
        "train_iterator = BatchIterator(train_data, IMAGE_COL_LABEL, CAPTION_COL_LABEL, BATCH_SIZE, image_transformer, main_img_path)\r\n",
        "valid_iterator = BatchIterator(valid_data, IMAGE_COL_LABEL, CAPTION_COL_LABEL, BATCH_SIZE, image_transformer, main_img_path)\r\n",
        "test_iterator = BatchIterator(test_data, IMAGE_COL_LABEL, CAPTION_COL_LABEL, BATCH_SIZE, image_transformer, main_img_path)"
      ],
      "execution_count": 27,
      "outputs": []
    },
    {
      "cell_type": "markdown",
      "metadata": {
        "id": "zu69FBZQYOzL"
      },
      "source": [
        "# Main Part"
      ]
    },
    {
      "cell_type": "markdown",
      "metadata": {
        "id": "J1QT-hjLzsWD"
      },
      "source": [
        "### Models"
      ]
    },
    {
      "cell_type": "markdown",
      "metadata": {
        "id": "3fo19dru1bh1"
      },
      "source": [
        "**ENCODER**"
      ]
    },
    {
      "cell_type": "code",
      "metadata": {
        "id": "ypRxw45XJqwC"
      },
      "source": [
        "class Encoder(nn.Module):\r\n",
        "    def __init__(self, cnn_model, embedding_size, deny_train_cnn=True):\r\n",
        "        super().__init__()\r\n",
        "        self.cnn_model = cnn_model\r\n",
        "\r\n",
        "        if deny_train_cnn:\r\n",
        "            for param in self.cnn_model.parameters():\r\n",
        "                param.requires_grad = False\r\n",
        "\r\n",
        "        self.fc = nn.Linear(self.cnn_model.fc.in_features, embedding_size)\r\n",
        "\r\n",
        "    def forward(self, images):\r\n",
        "        _, features, _ = self.cnn_model(images)\r\n",
        "        features = self.fc(features)\r\n",
        "        return features "
      ],
      "execution_count": 28,
      "outputs": []
    },
    {
      "cell_type": "markdown",
      "metadata": {
        "id": "UstfHFbjkcwt"
      },
      "source": [
        "**DECODER**"
      ]
    },
    {
      "cell_type": "code",
      "metadata": {
        "id": "azMNeYk2jXl7"
      },
      "source": [
        "class Decoder(nn.Module):\r\n",
        "    def __init__(self, vocab_size, embedding_dim, hidden_dim, dropout=0.3, num_layers=2, bidirectional=True):\r\n",
        "        super().__init__()\r\n",
        "\r\n",
        "        num_directions = 2 if bidirectional else 1\r\n",
        "        assert hidden_dim % num_directions == 0\r\n",
        "        rnn_hidden_dim = hidden_dim // num_directions\r\n",
        "\r\n",
        "        self.vocab_size = vocab_size\r\n",
        "        self.embedding_layer = nn.Embedding(vocab_size, embedding_dim)\r\n",
        "        self.rnn = nn.LSTM(embedding_dim, rnn_hidden_dim, num_layers=num_layers,\r\n",
        "                           dropout=dropout, bidirectional=bidirectional, batch_first=True)\r\n",
        "        \r\n",
        "        self.fc = nn.Linear(hidden_dim, vocab_size)\r\n",
        "\r\n",
        "    def forward(self, image_vectors, captions):\r\n",
        "        captions = captions[:, :-1]\r\n",
        "\r\n",
        "        embedded = self.embedding_layer(captions)\r\n",
        "        concated_data = torch.cat((image_vectors.unsqueeze(1), embedded), dim=1)\r\n",
        "        rnn_output, _ = self.rnn(concated_data)\r\n",
        "        logits = self.fc(rnn_output)\r\n",
        "        return logits "
      ],
      "execution_count": 30,
      "outputs": []
    },
    {
      "cell_type": "markdown",
      "metadata": {
        "id": "cyeX5kVtKXd9"
      },
      "source": [
        "### **SEQ-2-SEQ**"
      ]
    },
    {
      "cell_type": "code",
      "metadata": {
        "id": "7oGjQUedEgYM"
      },
      "source": [
        "class CaptionNet(nn.Module):\r\n",
        "    def __init__(self, encoder, decoder, device):\r\n",
        "        super().__init__()\r\n",
        "\r\n",
        "        self.encoder = encoder\r\n",
        "        self.decoder = decoder\r\n",
        "        self.device = device\r\n",
        "\r\n",
        "    def forward(self, images, captions):\r\n",
        "        features = self.encoder(images)\r\n",
        "        outputs = self.decoder(features, captions)\r\n",
        "        return outputs\r\n",
        "\r\n",
        "    def generate_caption(self, image, max_sen_length):\r\n",
        "        image.unsqueeze_(0)\r\n",
        "        inputs = self.encoder(image).unsqueeze(0)\r\n",
        "        predicted_ids = []\r\n",
        "\r\n",
        "        states = None\r\n",
        "        for i in range(max_sen_length):\r\n",
        "            rnn_output, states = self.decoder.rnn(inputs, states)\r\n",
        "            logits = self.decoder.fc(rnn_output.squeeze(0))\r\n",
        "\r\n",
        "            pred = torch.argmax(logits, dim=1)\r\n",
        "            predicted_ids.append(pred.item())\r\n",
        "\r\n",
        "            inputs = self.decoder.embedding_layer(pred)\r\n",
        "            inputs = inputs.unsqueeze(0)\r\n",
        "\r\n",
        "        return predicted_ids"
      ],
      "execution_count": 38,
      "outputs": []
    },
    {
      "cell_type": "code",
      "metadata": {
        "colab": {
          "base_uri": "https://localhost:8080/"
        },
        "id": "fX1k_gJdQw9L",
        "outputId": "188b76f1-ec0a-42dc-c907-aeda1389debf"
      },
      "source": [
        "#@title Hyperparameters { run: \"auto\" }\r\n",
        "\r\n",
        "device = torch.device(\"cuda\" if torch.cuda.is_available() else \"cpu\")\r\n",
        "print(\"Device: \", device)\r\n",
        "\r\n",
        "VOCAB_SIZE = len(text_dataset)\r\n",
        "EMBEDDING_DIM = 250 #@param {type:\"slider\", min:100, max:1000, step:50}\r\n",
        "HIDDEN_DIM = 256 #@param [\"64\", \"128\", \"256\", \"512\", \"1024\", \"2048\"] {type:\"raw\"}\r\n",
        "DROPOUT = 0.3 #@param {type:\"slider\", min:0, max:1, step:0.1}\r\n",
        "NUM_LAYERS = 2 #@param {type:\"slider\", min:1, max:10, step:1}\r\n",
        "BIDIRECTIONAL = True #@param {type:\"boolean\"}"
      ],
      "execution_count": 32,
      "outputs": [
        {
          "output_type": "stream",
          "text": [
            "Device:  cuda\n"
          ],
          "name": "stdout"
        }
      ]
    },
    {
      "cell_type": "markdown",
      "metadata": {
        "id": "xERVY_VfcP_A"
      },
      "source": [
        "Inception model loading"
      ]
    },
    {
      "cell_type": "code",
      "metadata": {
        "colab": {
          "base_uri": "https://localhost:8080/",
          "height": 170,
          "referenced_widgets": [
            "e5a58bb470924b8e931f2c847f73c755",
            "f87f6c2e7ae540eeaef091f141bda14f",
            "e973914c612d42449938b1d0914a037a",
            "7b672031fed6442993ec44e1187eb098",
            "b34bc4e381984921b61e661c33d63e30",
            "31343778655e4b54b76d192640abe0ae",
            "6a057a9e466a4670a15d13d5c7116a60",
            "2a72da6abda14a51a53f8e5469ee396b"
          ]
        },
        "id": "4ZSuJel6cKs7",
        "outputId": "c195128e-a3a2-4601-94c4-b7f9b9904e97"
      },
      "source": [
        "%%time\r\n",
        "from beheaded_inception3 import beheaded_inception_v3\r\n",
        "inception = beheaded_inception_v3().train(False)"
      ],
      "execution_count": 33,
      "outputs": [
        {
          "output_type": "stream",
          "text": [
            "/usr/local/lib/python3.6/dist-packages/torchvision/models/inception.py:77: FutureWarning: The default weight initialization of inception_v3 will be changed in future releases of torchvision. If you wish to keep the old behavior (which leads to long initialization times due to scipy/scipy#11299), please set init_weights=True.\n",
            "  ' due to scipy/scipy#11299), please set init_weights=True.', FutureWarning)\n",
            "Downloading: \"https://download.pytorch.org/models/inception_v3_google-1a9a5a14.pth\" to /root/.cache/torch/hub/checkpoints/inception_v3_google-1a9a5a14.pth\n"
          ],
          "name": "stderr"
        },
        {
          "output_type": "display_data",
          "data": {
            "application/vnd.jupyter.widget-view+json": {
              "model_id": "e5a58bb470924b8e931f2c847f73c755",
              "version_minor": 0,
              "version_major": 2
            },
            "text/plain": [
              "HBox(children=(FloatProgress(value=0.0, max=108857766.0), HTML(value='')))"
            ]
          },
          "metadata": {
            "tags": []
          }
        },
        {
          "output_type": "stream",
          "text": [
            "\n",
            "CPU times: user 3min 20s, sys: 800 ms, total: 3min 21s\n",
            "Wall time: 3min 22s\n"
          ],
          "name": "stdout"
        }
      ]
    },
    {
      "cell_type": "code",
      "metadata": {
        "id": "armn4FjEYrAP"
      },
      "source": [
        "encoder = Encoder(inception, EMBEDDING_DIM).to(device)\r\n",
        "decoder = Decoder(VOCAB_SIZE, EMBEDDING_DIM, HIDDEN_DIM, DROPOUT, NUM_LAYERS, BIDIRECTIONAL).to(device)\r\n",
        "captionNet = CaptionNet(encoder, decoder, device).to(device)"
      ],
      "execution_count": 39,
      "outputs": []
    },
    {
      "cell_type": "code",
      "metadata": {
        "colab": {
          "base_uri": "https://localhost:8080/"
        },
        "id": "ajGSNly1N3ek",
        "outputId": "5d95762a-14d6-412a-cf43-fd294e53381f"
      },
      "source": [
        "def count_parameters(model):\r\n",
        "    return np.sum([param.numel() for param in model.parameters() if param.requires_grad])\r\n",
        "\r\n",
        "print(f'The model has {count_parameters(captionNet):,} trainable parameters')"
      ],
      "execution_count": 40,
      "outputs": [
        {
          "output_type": "stream",
          "text": [
            "The model has 6,808,738 trainable parameters\n"
          ],
          "name": "stdout"
        }
      ]
    },
    {
      "cell_type": "code",
      "metadata": {
        "id": "RRt_2KeOg1Z7"
      },
      "source": [
        "optimizer = torch.optim.Adam(captionNet.parameters())\r\n",
        "criterion = nn.CrossEntropyLoss(ignore_index=0).to(device)"
      ],
      "execution_count": 41,
      "outputs": []
    },
    {
      "cell_type": "code",
      "metadata": {
        "id": "nWpsLmnogEwD"
      },
      "source": [
        "#@title {run: \"auto\" }\r\n",
        "\r\n",
        "EPOCHS = 6 #@param {type:\"slider\", min:1, max:20, step:1}\r\n",
        "CLIP = 2 #@param {type:\"slider\", min:1, max:10, step:1}"
      ],
      "execution_count": 42,
      "outputs": []
    },
    {
      "cell_type": "markdown",
      "metadata": {
        "id": "LxE6vTE4dxXi"
      },
      "source": [
        "### Training"
      ]
    },
    {
      "cell_type": "code",
      "metadata": {
        "id": "V4zt3rsFb9e9"
      },
      "source": [
        "def iterate_model(mode, model, iterator, optimizer=None, criterion=None, device=None, clip=None):\r\n",
        "    if mode == \"train\":\r\n",
        "        model.train()\r\n",
        "    elif mode in (\"valid\", \"test\"):\r\n",
        "        model.eval()\r\n",
        "    else:\r\n",
        "      raise ValueError(\"Invalid mode, must be 'train', 'valid' or 'test'\")\r\n",
        "\r\n",
        "    epoch_loss = 0\r\n",
        "\r\n",
        "    history = []\r\n",
        "    for iteration, batch in tqdm(enumerate(iterator), total=len(iterator)):\r\n",
        "\r\n",
        "        images = torch.stack(batch[\"images\"]).to(device)\r\n",
        "        captions = batch[\"captions\"].to(device)\r\n",
        "\r\n",
        "        output = model(images, captions)\r\n",
        "        loss = criterion(output.view(-1, output.shape[2]), captions.view(-1))\r\n",
        "\r\n",
        "        if mode == \"train\":\r\n",
        "            optimizer.zero_grad()\r\n",
        "            loss.backward()\r\n",
        "            torch.nn.utils.clip_grad_norm_(model.parameters(), clip)\r\n",
        "            optimizer.step()\r\n",
        "\r\n",
        "        epoch_loss += loss.item()\r\n",
        "\r\n",
        "    epoch_loss /= len(iterator)\r\n",
        "\r\n",
        "    return epoch_loss"
      ],
      "execution_count": 43,
      "outputs": []
    },
    {
      "cell_type": "code",
      "metadata": {
        "id": "ABuLojdttF37"
      },
      "source": [
        "def train(epochs, model, train_iterator, valid_iterator, optimizer, criterion, device, clip, patience, save_epoch):\r\n",
        "    MIN_LOSS = np.inf\r\n",
        "    CUR_PATIENCE = 0\r\n",
        "\r\n",
        "    for epoch in range(epochs):\r\n",
        "            \r\n",
        "        train_loss = iterate_model(\"train\", model, train_iterator, optimizer, criterion, device, clip)\r\n",
        "        valid_loss = iterate_model(\"valid\", model, valid_iterator, criterion=criterion, device=device)\r\n",
        "        \r\n",
        "        if valid_loss < MIN_LOSS:\r\n",
        "            MIN_LOSS = valid_loss\r\n",
        "            best_model = model.state_dict()\r\n",
        "        else:\r\n",
        "            CUR_PATIENCE += 1\r\n",
        "            if CUR_PATIENCE == patience:\r\n",
        "                CUR_PATIENCE = 0\r\n",
        "                break\r\n",
        "\r\n",
        "        if (epoch + 1) % save_epoch == 0:\r\n",
        "            torch.save(best_model, 'best-model.pt')\r\n",
        "\r\n",
        "        print(f\"Train loss: {train_loss} | Train perplexity: {np.exp(train_loss)}\")\r\n",
        "        print(f\"Valid loss: {valid_loss} | Valid perplexity: {np.exp(valid_loss)}\")\r\n",
        "        print(\"\\n\")"
      ],
      "execution_count": 44,
      "outputs": []
    },
    {
      "cell_type": "code",
      "metadata": {
        "id": "twzC_viAPSUJ"
      },
      "source": [
        "PATIENCE = 2\r\n",
        "SAVE_EPOCH = 1"
      ],
      "execution_count": 45,
      "outputs": []
    },
    {
      "cell_type": "code",
      "metadata": {
        "id": "dBjZv2crBi7i",
        "colab": {
          "base_uri": "https://localhost:8080/",
          "height": 1000,
          "referenced_widgets": [
            "16e7c11fca9b41838ff91a1c30d96a4a",
            "2d075aae33bc4f25b14685d6be0efe6e",
            "e93377615b024da297a896042f1fa9ee",
            "62e730e67cba4d6b974b08922ff4117f",
            "dd049bdf764242e59568afd70bf701f0",
            "61dfa6178660447ead5c005a439dc6cc",
            "6096df7989dc43838b175c6191e8728f",
            "a1eaf2f4264e4eb59eb83cb87557eb9e",
            "02c2078e783c4c10864fc1161f3b3ddd",
            "033ec1c3a2f24bce93a898ab1a468b36",
            "ae14d363fd8747d69b3e7af78239434b",
            "e66f691a943d4902b878cc5adf1315bb",
            "ea21613b7b4349338a939889e314f10b",
            "a8211b8e29214c0fa914892b12021cc5",
            "3f5211aee5b44ad7a194fb6eb95a2688",
            "8225ccd7df8349f798c596be9780c5a5",
            "ea7943ba5cd6404db06d943123d2dd95",
            "012d36b66f9242da817d47d82bc545c1",
            "0d3df3d08ce54eb788efdb6fc522f09c",
            "4d436dd2ce3149a0a6a44e9d4860d59d",
            "45b82c0f83f24b2a9c82bbd046ee0db6",
            "f7299fe4a2f647a784bf308fa2c6b479",
            "9a767ffc869d473fa0343b784a54e2ae",
            "036eb6374a7f41deb47d896b6cb1ca0b",
            "0c2f31204eae4be8be427ac7087a8155",
            "d10b80791e374626ac3e95c7c6805cad",
            "5a840588aa3943758c92b69d280327e9",
            "da0fdd0813ea470c9c81cc3951b5f5c9",
            "6a45f67563b0458d81e09d0261b17dcd",
            "96cbc897f343401cb10af097bf5f11b2",
            "38ff0101533b415987584acf81aa9a75",
            "8eee92e21b724bc9a673c9d549e8ca6f",
            "e28e68d667c14f60b0827930ab304eca",
            "e920fc0c94554b8ba76a78d38602e8bf",
            "2b6f5851256440a89afa3ef2e761927f",
            "c0cedba8009842cc9d227822b94b5714",
            "7afcc8ff370346a5a67afced8206e471",
            "de9dfa0d4e384188ae997242426d2bc2",
            "7d38b9fbe50345eb8d10fb95d2a4200a",
            "bae26ba4a35040f18a4c6d0a4a01480b",
            "e91689a2109f434b8e04405f9134df36",
            "49e05c3866b44e2bab54ee883b9de7bf",
            "042795708ba64f98a1885491854b610a",
            "3d8ac76f9ae34f99a75f80aaf0d78d40",
            "f2649d09ad5f46b8a1dbeb1036f4478a",
            "cd85d1b6614f4cbeba5940361016a806",
            "a76e22c001a647ffb3594205b96c09c0",
            "facd5bcbb1e34fde99765bb29bda2e8d",
            "38ccf425ee9f4d048c775e6d47bb5580",
            "63c20aab82ec41f8bacb49ceac143242",
            "c8c42f5640404589baa98c8359e0d5a7",
            "26f0c24d7f824c5a89f851ae2bbd5069",
            "0a5eb3a96e4a4b8984b18ee7c5e5e454",
            "9927972c8a3b4d748a962a63feac3770",
            "34730b3ac0aa43dca4610c78b9364f43",
            "9699847f9f3a4e4eae201ced3506fe75",
            "90c8f5f257ea4f0782112a4859f59720",
            "8be533d675bc4597bc5c4a5f0201f501",
            "3a40b70c183f4b0b971fee5522bed233",
            "c7b2be58f63b484e8d61ddb0aa5fd8e5",
            "34bf0d0b02f34cd3bb28192621ec6b27",
            "60de08170dc748ee88855a8bf8858755",
            "a40316bb3cd045fa85c64b97350c2489",
            "de877ff97b35419ea0e98d5ed4b76d75",
            "004297e4c0b14a4789f2fb372e5e5415",
            "73f579c0823740f1b64cd6f9da97c19f",
            "970959f7f7734542914ab44312eecdd2",
            "acaed01f8c8147899bdbae7e38b1ada0",
            "353a97aba612440bbe39b1ac0f75eaa5",
            "aaae2518f5d54f0db5bd732e260e2b18",
            "48839cf4f4d545bbb441a074ed363d39",
            "d4b6a92d55d44eec9d6184233f22d424",
            "ea60feb29a5b439091699b526dc32537",
            "491b025724c3496c9c16e87672602431",
            "7ce167d3f46747548fd1955358c8a5ae",
            "87de3d7178a641cb9299a777cfc9743d",
            "fbac2e727cfa4f7799d9b4cef50516b4",
            "7cff7a81498b451dae13e1840eb526ab",
            "32a6ed2f15fe449db1058e2def74f715",
            "58cb83f566f2473a8f63e638fa3cfb62",
            "105336c16767432eb8b2b69f8423747d",
            "d484a5cc69de43d597cd65422d493641",
            "526aacb2e2174c1b9745bf684d432c29",
            "97f1fc4917c241469f435ceab73b0949",
            "c00df85600ea43d3b30db73916c5d4e9",
            "54462bcc3fa44d4b825c9d6a37dc1912",
            "e1c56653ca954209a6c240c595e14670",
            "4a07b64028084834aa9b4f44297bf23a",
            "a56caa34531147359e324555b8c4918f",
            "368257e8638e4c3faeaafc44c723138a",
            "a66c063ef11c42638816953598e0cb1a",
            "b0ecc0a14d3641d591674a7039cce088",
            "10ea0f2dd7d54bc3bfeb529886a0bfc4",
            "df39e4d04b3540529fb64c577c28958e",
            "db43bf8cd3104f19bacc7194359d2dcd",
            "711cf31e93294bc184df2771a2bb6b57"
          ]
        },
        "outputId": "e061ee3a-2eb8-4a44-fcca-87e9ee15ce14"
      },
      "source": [
        "train(EPOCHS, captionNet, train_iterator, valid_iterator, optimizer, criterion, device, CLIP, PATIENCE, SAVE_EPOCH)"
      ],
      "execution_count": null,
      "outputs": [
        {
          "output_type": "display_data",
          "data": {
            "application/vnd.jupyter.widget-view+json": {
              "model_id": "16e7c11fca9b41838ff91a1c30d96a4a",
              "version_minor": 0,
              "version_major": 2
            },
            "text/plain": [
              "HBox(children=(FloatProgress(value=0.0, max=1034.0), HTML(value='')))"
            ]
          },
          "metadata": {
            "tags": []
          }
        },
        {
          "output_type": "stream",
          "text": [
            "\n"
          ],
          "name": "stdout"
        },
        {
          "output_type": "display_data",
          "data": {
            "application/vnd.jupyter.widget-view+json": {
              "model_id": "02c2078e783c4c10864fc1161f3b3ddd",
              "version_minor": 0,
              "version_major": 2
            },
            "text/plain": [
              "HBox(children=(FloatProgress(value=0.0, max=129.0), HTML(value='')))"
            ]
          },
          "metadata": {
            "tags": []
          }
        },
        {
          "output_type": "stream",
          "text": [
            "\n",
            "Train loss: 1.9750060137339671 | Train perplexity: 7.206662992644182\n",
            "Valid loss: 0.5837214600670245 | Valid perplexity: 1.7926974844642736\n",
            "\n",
            "\n"
          ],
          "name": "stdout"
        },
        {
          "output_type": "display_data",
          "data": {
            "application/vnd.jupyter.widget-view+json": {
              "model_id": "ea7943ba5cd6404db06d943123d2dd95",
              "version_minor": 0,
              "version_major": 2
            },
            "text/plain": [
              "HBox(children=(FloatProgress(value=0.0, max=1034.0), HTML(value='')))"
            ]
          },
          "metadata": {
            "tags": []
          }
        },
        {
          "output_type": "stream",
          "text": [
            "\n"
          ],
          "name": "stdout"
        },
        {
          "output_type": "display_data",
          "data": {
            "application/vnd.jupyter.widget-view+json": {
              "model_id": "0c2f31204eae4be8be427ac7087a8155",
              "version_minor": 0,
              "version_major": 2
            },
            "text/plain": [
              "HBox(children=(FloatProgress(value=0.0, max=129.0), HTML(value='')))"
            ]
          },
          "metadata": {
            "tags": []
          }
        },
        {
          "output_type": "stream",
          "text": [
            "\n",
            "Train loss: 0.3745233250108171 | Train perplexity: 1.4542980218759953\n",
            "Valid loss: 0.19113576591245887 | Valid perplexity: 1.2106238023696367\n",
            "\n",
            "\n"
          ],
          "name": "stdout"
        },
        {
          "output_type": "display_data",
          "data": {
            "application/vnd.jupyter.widget-view+json": {
              "model_id": "e28e68d667c14f60b0827930ab304eca",
              "version_minor": 0,
              "version_major": 2
            },
            "text/plain": [
              "HBox(children=(FloatProgress(value=0.0, max=1034.0), HTML(value='')))"
            ]
          },
          "metadata": {
            "tags": []
          }
        },
        {
          "output_type": "stream",
          "text": [
            "\n"
          ],
          "name": "stdout"
        },
        {
          "output_type": "display_data",
          "data": {
            "application/vnd.jupyter.widget-view+json": {
              "model_id": "e91689a2109f434b8e04405f9134df36",
              "version_minor": 0,
              "version_major": 2
            },
            "text/plain": [
              "HBox(children=(FloatProgress(value=0.0, max=129.0), HTML(value='')))"
            ]
          },
          "metadata": {
            "tags": []
          }
        },
        {
          "output_type": "stream",
          "text": [
            "\n",
            "Train loss: 0.14234041292904887 | Train perplexity: 1.1529690673183106\n",
            "Valid loss: 0.08103718233200931 | Valid perplexity: 1.0844112167550524\n",
            "\n",
            "\n"
          ],
          "name": "stdout"
        },
        {
          "output_type": "display_data",
          "data": {
            "application/vnd.jupyter.widget-view+json": {
              "model_id": "38ccf425ee9f4d048c775e6d47bb5580",
              "version_minor": 0,
              "version_major": 2
            },
            "text/plain": [
              "HBox(children=(FloatProgress(value=0.0, max=1034.0), HTML(value='')))"
            ]
          },
          "metadata": {
            "tags": []
          }
        },
        {
          "output_type": "stream",
          "text": [
            "\n"
          ],
          "name": "stdout"
        },
        {
          "output_type": "display_data",
          "data": {
            "application/vnd.jupyter.widget-view+json": {
              "model_id": "90c8f5f257ea4f0782112a4859f59720",
              "version_minor": 0,
              "version_major": 2
            },
            "text/plain": [
              "HBox(children=(FloatProgress(value=0.0, max=129.0), HTML(value='')))"
            ]
          },
          "metadata": {
            "tags": []
          }
        },
        {
          "output_type": "stream",
          "text": [
            "\n",
            "Train loss: 0.0641295803328922 | Train perplexity: 1.0662305523202293\n",
            "Valid loss: 0.03542392954316943 | Valid perplexity: 1.0360588316616726\n",
            "\n",
            "\n"
          ],
          "name": "stdout"
        },
        {
          "output_type": "display_data",
          "data": {
            "application/vnd.jupyter.widget-view+json": {
              "model_id": "004297e4c0b14a4789f2fb372e5e5415",
              "version_minor": 0,
              "version_major": 2
            },
            "text/plain": [
              "HBox(children=(FloatProgress(value=0.0, max=1034.0), HTML(value='')))"
            ]
          },
          "metadata": {
            "tags": []
          }
        },
        {
          "output_type": "stream",
          "text": [
            "\n"
          ],
          "name": "stdout"
        },
        {
          "output_type": "display_data",
          "data": {
            "application/vnd.jupyter.widget-view+json": {
              "model_id": "ea60feb29a5b439091699b526dc32537",
              "version_minor": 0,
              "version_major": 2
            },
            "text/plain": [
              "HBox(children=(FloatProgress(value=0.0, max=129.0), HTML(value='')))"
            ]
          },
          "metadata": {
            "tags": []
          }
        },
        {
          "output_type": "stream",
          "text": [
            "\n",
            "Train loss: 0.030346474612520817 | Train perplexity: 1.030811622146313\n",
            "Valid loss: 0.01616753496287405 | Valid perplexity: 1.0162989367488076\n",
            "\n",
            "\n"
          ],
          "name": "stdout"
        },
        {
          "output_type": "display_data",
          "data": {
            "application/vnd.jupyter.widget-view+json": {
              "model_id": "105336c16767432eb8b2b69f8423747d",
              "version_minor": 0,
              "version_major": 2
            },
            "text/plain": [
              "HBox(children=(FloatProgress(value=0.0, max=1034.0), HTML(value='')))"
            ]
          },
          "metadata": {
            "tags": []
          }
        },
        {
          "output_type": "stream",
          "text": [
            "\n"
          ],
          "name": "stdout"
        },
        {
          "output_type": "display_data",
          "data": {
            "application/vnd.jupyter.widget-view+json": {
              "model_id": "a56caa34531147359e324555b8c4918f",
              "version_minor": 0,
              "version_major": 2
            },
            "text/plain": [
              "HBox(children=(FloatProgress(value=0.0, max=129.0), HTML(value='')))"
            ]
          },
          "metadata": {
            "tags": []
          }
        },
        {
          "output_type": "stream",
          "text": [
            "\n",
            "Train loss: 0.015321225646434702 | Train perplexity: 1.0154391973443984\n",
            "Valid loss: 0.009246154267759633 | Valid perplexity: 1.0092890320016248\n",
            "\n",
            "\n"
          ],
          "name": "stdout"
        }
      ]
    },
    {
      "cell_type": "markdown",
      "metadata": {
        "id": "kiRZ2QD2Tvwd"
      },
      "source": [
        "### Loading the model"
      ]
    },
    {
      "cell_type": "code",
      "metadata": {
        "colab": {
          "base_uri": "https://localhost:8080/",
          "height": 35
        },
        "id": "oCyfsiNKIk8I",
        "outputId": "2a1ee596-fc8f-426b-da6e-fc88d2f1488f"
      },
      "source": [
        "gdown.download(\"https://drive.google.com/u/0/uc?export=download&confirm=NgTP&id=1mmG3iopC2t33J2TLZjlJbe8Xorc7RR-a\", \"best-model.pt\", True)"
      ],
      "execution_count": 35,
      "outputs": [
        {
          "output_type": "execute_result",
          "data": {
            "application/vnd.google.colaboratory.intrinsic+json": {
              "type": "string"
            },
            "text/plain": [
              "'best-model.pt'"
            ]
          },
          "metadata": {
            "tags": []
          },
          "execution_count": 35
        }
      ]
    },
    {
      "cell_type": "code",
      "metadata": {
        "id": "0-wsjCGuo5da",
        "colab": {
          "base_uri": "https://localhost:8080/"
        },
        "outputId": "935a060f-7458-429d-d6e4-9eb407c0365c"
      },
      "source": [
        "model_path = \"/content/best-model.pt\"\r\n",
        "\r\n",
        "encoder = Encoder(inception, EMBEDDING_DIM).to(device)\r\n",
        "decoder = Decoder(VOCAB_SIZE, EMBEDDING_DIM, HIDDEN_DIM, DROPOUT, NUM_LAYERS, BIDIRECTIONAL).to(device)\r\n",
        "captionNet = CaptionNet(encoder, decoder, device).to(device)\r\n",
        "\r\n",
        "captionNet.load_state_dict(torch.load(model_path))"
      ],
      "execution_count": 46,
      "outputs": [
        {
          "output_type": "execute_result",
          "data": {
            "text/plain": [
              "<All keys matched successfully>"
            ]
          },
          "metadata": {
            "tags": []
          },
          "execution_count": 46
        }
      ]
    },
    {
      "cell_type": "markdown",
      "metadata": {
        "id": "OLxtDydeTXqP"
      },
      "source": [
        "### Testing"
      ]
    },
    {
      "cell_type": "code",
      "metadata": {
        "id": "VenDjpnmRghp"
      },
      "source": [
        "def test(model, test_iterator, criterion, device):\r\n",
        "    test_loss = iterate_model(\"test\", model, test_iterator, criterion=criterion, device=device)\r\n",
        "    print(f\"Test loss: {test_loss} | Test perplexity: {np.exp(test_loss)}\")  "
      ],
      "execution_count": null,
      "outputs": []
    },
    {
      "cell_type": "code",
      "metadata": {
        "colab": {
          "base_uri": "https://localhost:8080/",
          "height": 82,
          "referenced_widgets": [
            "a493c035dca04748a80de775b855be07",
            "d92466f4ec3541489854fdfa2d6bdc78",
            "3d155aa1f21447ddb5a80f7c34c842a5",
            "55edf2b33abb4985854b4133bfce5efb",
            "d3597efca5464ad89f0cc416c3a81d0a",
            "06ee0f9c3fc34880a9113441a10022de",
            "be013255485148758b0a3ed8335aed83",
            "3094c86e81f7410eb1f3d64a05ae2f86"
          ]
        },
        "id": "UhaxP8oHTQUJ",
        "outputId": "7dd28cdc-4122-4760-985c-ed4aa40d071a"
      },
      "source": [
        "test(captionNet, test_iterator, criterion, device)"
      ],
      "execution_count": null,
      "outputs": [
        {
          "output_type": "display_data",
          "data": {
            "application/vnd.jupyter.widget-view+json": {
              "model_id": "a493c035dca04748a80de775b855be07",
              "version_minor": 0,
              "version_major": 2
            },
            "text/plain": [
              "HBox(children=(FloatProgress(value=0.0, max=129.0), HTML(value='')))"
            ]
          },
          "metadata": {
            "tags": []
          }
        },
        {
          "output_type": "stream",
          "text": [
            "\n",
            "Test loss: 0.009902567765134018 | Test perplexity: 1.00995176043313\n"
          ],
          "name": "stdout"
        }
      ]
    },
    {
      "cell_type": "code",
      "metadata": {
        "id": "Xids8mGiTUrY"
      },
      "source": [
        "def sample(self, features, states=None):\r\n",
        "\r\n",
        "    sampled_ids = []\r\n",
        "    inputs = features.unsqueeze(1)\r\n",
        "    \r\n",
        "    for i in range(self.max_seg_length):\r\n",
        "\r\n",
        "        hiddens, states = self.lstm(inputs, states)\r\n",
        "        outputs = self.linear(hiddens.squeeze(1)) \r\n",
        "        _, predicted = outputs.max(1)          \r\n",
        "        \r\n",
        "        sampled_ids.append(predicted)\r\n",
        "        inputs = self.embed(predicted)          \r\n",
        "        inputs = inputs.unsqueeze(1)       \r\n",
        "    \r\n",
        "    sampled_ids = torch.stack(sampled_ids, 1)     \r\n",
        "    return sampled_ids"
      ],
      "execution_count": null,
      "outputs": []
    },
    {
      "cell_type": "markdown",
      "metadata": {
        "id": "AVoc8Kwhz78n"
      },
      "source": [
        "### Predicting"
      ]
    },
    {
      "cell_type": "code",
      "metadata": {
        "id": "96kseko953NL"
      },
      "source": [
        "import matplotlib.pyplot as plt"
      ],
      "execution_count": 47,
      "outputs": []
    },
    {
      "cell_type": "code",
      "metadata": {
        "id": "Bqvizl09Xm66"
      },
      "source": [
        "def predict_caption(model, image_path, max_seq_length=20) -> None: \r\n",
        "    image = Image.open(image_path)\r\n",
        "    image = image.convert(\"RGB\")\r\n",
        "    transformed_image = image_transformer(image).to(device)\r\n",
        "\r\n",
        "    sample_ids = model.generate_caption(transformed_image, max_seq_length)\r\n",
        "\r\n",
        "    sentence = []\r\n",
        "    for idx in sample_ids:\r\n",
        "        sentence.append(text_dataset.idx2token[idx])\r\n",
        "    \r\n",
        "    plt.imshow(image)\r\n",
        "    print(f\"Caption: {' '.join(sentence)}\")"
      ],
      "execution_count": 48,
      "outputs": []
    },
    {
      "cell_type": "markdown",
      "metadata": {
        "id": "hu4qxnpdJ4yo"
      },
      "source": [
        "### Something went wrong :("
      ]
    },
    {
      "cell_type": "code",
      "metadata": {
        "colab": {
          "base_uri": "https://localhost:8080/",
          "height": 286
        },
        "id": "8BryT7pEvoxy",
        "outputId": "c40998a2-168a-468d-d94f-5db29324e524"
      },
      "source": [
        "img_name = random.choice(os.listdir(\"/content/train2014\"))\r\n",
        "image_path = os.path.join(main_img_path, img_name)\r\n",
        "\r\n",
        "predict_caption(captionNet, image_path)"
      ],
      "execution_count": 49,
      "outputs": [
        {
          "output_type": "stream",
          "text": [
            "Caption: <BOS> skier growth skier growth skier growth skier growth skier growth skier growth skier growth skier growth skier growth skier\n"
          ],
          "name": "stdout"
        },
        {
          "output_type": "display_data",
          "data": {
            "image/png": "[encoded data removed]",
            "text/plain": [
              "<Figure size 432x288 with 1 Axes>"
            ]
          },
          "metadata": {
            "tags": [],
            "needs_background": "light"
          }
        }
      ]
    },
    {
      "cell_type": "code",
      "metadata": {
        "colab": {
          "base_uri": "https://localhost:8080/",
          "height": 286
        },
        "id": "AuBnvQX6Jxv_",
        "outputId": "5cf9123a-2c1e-4851-862e-56f44c1870ea"
      },
      "source": [
        "img_name = random.choice(os.listdir(\"/content/train2014\"))\r\n",
        "image_path = os.path.join(main_img_path, img_name)\r\n",
        "\r\n",
        "predict_caption(captionNet, image_path)"
      ],
      "execution_count": 50,
      "outputs": [
        {
          "output_type": "stream",
          "text": [
            "Caption: <BOS> skier growth skier growth skier growth skier growth skier growth skier growth skier growth skier growth skier growth skier\n"
          ],
          "name": "stdout"
        },
        {
          "output_type": "display_data",
          "data": {
            "image/png": "[encoded data removed]",
            "text/plain": [
              "<Figure size 432x288 with 1 Axes>"
            ]
          },
          "metadata": {
            "tags": [],
            "needs_background": "light"
          }
        }
      ]
    },
    {
      "cell_type": "code",
      "metadata": {
        "id": "IEDFcASiJ1wi"
      },
      "source": [
        ""
      ],
      "execution_count": null,
      "outputs": []
    }
  ]
}