{
  "nbformat": 4,
  "nbformat_minor": 0,
  "metadata": {
    "colab": {
      "name": "Untitled11_(11)_(8) (3).ipynb",
      "provenance": [],
      "collapsed_sections": []
    },
    "kernelspec": {
      "display_name": "Python 3",
      "name": "python3"
    },
    "widgets": {
      "application/vnd.jupyter.widget-state+json": {
        "af1922cfcaec4df48527e7c0da702fea": {
          "model_module": "@jupyter-widgets/controls",
          "model_name": "HBoxModel",
          "state": {
            "_view_name": "HBoxView",
            "_dom_classes": [],
            "_model_name": "HBoxModel",
            "_view_module": "@jupyter-widgets/controls",
            "_model_module_version": "1.5.0",
            "_view_count": null,
            "_view_module_version": "1.5.0",
            "box_style": "",
            "layout": "IPY_MODEL_532c16d2856140f08c85fad4faf5f85d",
            "_model_module": "@jupyter-widgets/controls",
            "children": [
              "IPY_MODEL_fe0aca915ed343efa898b755af69c96c",
              "IPY_MODEL_5c42e65d242f45c78d0320f0609d2969"
            ]
          }
        },
        "532c16d2856140f08c85fad4faf5f85d": {
          "model_module": "@jupyter-widgets/base",
          "model_name": "LayoutModel",
          "state": {
            "_view_name": "LayoutView",
            "grid_template_rows": null,
            "right": null,
            "justify_content": null,
            "_view_module": "@jupyter-widgets/base",
            "overflow": null,
            "_model_module_version": "1.2.0",
            "_view_count": null,
            "flex_flow": null,
            "width": null,
            "min_width": null,
            "border": null,
            "align_items": null,
            "bottom": null,
            "_model_module": "@jupyter-widgets/base",
            "top": null,
            "grid_column": null,
            "overflow_y": null,
            "overflow_x": null,
            "grid_auto_flow": null,
            "grid_area": null,
            "grid_template_columns": null,
            "flex": null,
            "_model_name": "LayoutModel",
            "justify_items": null,
            "grid_row": null,
            "max_height": null,
            "align_content": null,
            "visibility": null,
            "align_self": null,
            "height": null,
            "min_height": null,
            "padding": null,
            "grid_auto_rows": null,
            "grid_gap": null,
            "max_width": null,
            "order": null,
            "_view_module_version": "1.2.0",
            "grid_template_areas": null,
            "object_position": null,
            "object_fit": null,
            "grid_auto_columns": null,
            "margin": null,
            "display": null,
            "left": null
          }
        },
        "fe0aca915ed343efa898b755af69c96c": {
          "model_module": "@jupyter-widgets/controls",
          "model_name": "FloatProgressModel",
          "state": {
            "_view_name": "ProgressView",
            "style": "IPY_MODEL_7594a42ec9ab438688d6c80102058a52",
            "_dom_classes": [],
            "description": "100%",
            "_model_name": "FloatProgressModel",
            "bar_style": "success",
            "max": 108857766,
            "_view_module": "@jupyter-widgets/controls",
            "_model_module_version": "1.5.0",
            "value": 108857766,
            "_view_count": null,
            "_view_module_version": "1.5.0",
            "orientation": "horizontal",
            "min": 0,
            "description_tooltip": null,
            "_model_module": "@jupyter-widgets/controls",
            "layout": "IPY_MODEL_7f572381e1df4a75b4b30c63013cfe69"
          }
        },
        "5c42e65d242f45c78d0320f0609d2969": {
          "model_module": "@jupyter-widgets/controls",
          "model_name": "HTMLModel",
          "state": {
            "_view_name": "HTMLView",
            "style": "IPY_MODEL_b47ec85b64e54b86a4418fc29ffb346e",
            "_dom_classes": [],
            "description": "",
            "_model_name": "HTMLModel",
            "placeholder": "​",
            "_view_module": "@jupyter-widgets/controls",
            "_model_module_version": "1.5.0",
            "value": " 104M/104M [00:01&lt;00:00, 65.7MB/s]",
            "_view_count": null,
            "_view_module_version": "1.5.0",
            "description_tooltip": null,
            "_model_module": "@jupyter-widgets/controls",
            "layout": "IPY_MODEL_1e1133a0796f4be6aa1c1ee5c867e565"
          }
        },
        "7594a42ec9ab438688d6c80102058a52": {
          "model_module": "@jupyter-widgets/controls",
          "model_name": "ProgressStyleModel",
          "state": {
            "_view_name": "StyleView",
            "_model_name": "ProgressStyleModel",
            "description_width": "initial",
            "_view_module": "@jupyter-widgets/base",
            "_model_module_version": "1.5.0",
            "_view_count": null,
            "_view_module_version": "1.2.0",
            "bar_color": null,
            "_model_module": "@jupyter-widgets/controls"
          }
        },
        "7f572381e1df4a75b4b30c63013cfe69": {
          "model_module": "@jupyter-widgets/base",
          "model_name": "LayoutModel",
          "state": {
            "_view_name": "LayoutView",
            "grid_template_rows": null,
            "right": null,
            "justify_content": null,
            "_view_module": "@jupyter-widgets/base",
            "overflow": null,
            "_model_module_version": "1.2.0",
            "_view_count": null,
            "flex_flow": null,
            "width": null,
            "min_width": null,
            "border": null,
            "align_items": null,
            "bottom": null,
            "_model_module": "@jupyter-widgets/base",
            "top": null,
            "grid_column": null,
            "overflow_y": null,
            "overflow_x": null,
            "grid_auto_flow": null,
            "grid_area": null,
            "grid_template_columns": null,
            "flex": null,
            "_model_name": "LayoutModel",
            "justify_items": null,
            "grid_row": null,
            "max_height": null,
            "align_content": null,
            "visibility": null,
            "align_self": null,
            "height": null,
            "min_height": null,
            "padding": null,
            "grid_auto_rows": null,
            "grid_gap": null,
            "max_width": null,
            "order": null,
            "_view_module_version": "1.2.0",
            "grid_template_areas": null,
            "object_position": null,
            "object_fit": null,
            "grid_auto_columns": null,
            "margin": null,
            "display": null,
            "left": null
          }
        },
        "b47ec85b64e54b86a4418fc29ffb346e": {
          "model_module": "@jupyter-widgets/controls",
          "model_name": "DescriptionStyleModel",
          "state": {
            "_view_name": "StyleView",
            "_model_name": "DescriptionStyleModel",
            "description_width": "",
            "_view_module": "@jupyter-widgets/base",
            "_model_module_version": "1.5.0",
            "_view_count": null,
            "_view_module_version": "1.2.0",
            "_model_module": "@jupyter-widgets/controls"
          }
        },
        "1e1133a0796f4be6aa1c1ee5c867e565": {
          "model_module": "@jupyter-widgets/base",
          "model_name": "LayoutModel",
          "state": {
            "_view_name": "LayoutView",
            "grid_template_rows": null,
            "right": null,
            "justify_content": null,
            "_view_module": "@jupyter-widgets/base",
            "overflow": null,
            "_model_module_version": "1.2.0",
            "_view_count": null,
            "flex_flow": null,
            "width": null,
            "min_width": null,
            "border": null,
            "align_items": null,
            "bottom": null,
            "_model_module": "@jupyter-widgets/base",
            "top": null,
            "grid_column": null,
            "overflow_y": null,
            "overflow_x": null,
            "grid_auto_flow": null,
            "grid_area": null,
            "grid_template_columns": null,
            "flex": null,
            "_model_name": "LayoutModel",
            "justify_items": null,
            "grid_row": null,
            "max_height": null,
            "align_content": null,
            "visibility": null,
            "align_self": null,
            "height": null,
            "min_height": null,
            "padding": null,
            "grid_auto_rows": null,
            "grid_gap": null,
            "max_width": null,
            "order": null,
            "_view_module_version": "1.2.0",
            "grid_template_areas": null,
            "object_position": null,
            "object_fit": null,
            "grid_auto_columns": null,
            "margin": null,
            "display": null,
            "left": null
          }
        },
        "795c66f5354b41398aa1d034706c24a8": {
          "model_module": "@jupyter-widgets/controls",
          "model_name": "HBoxModel",
          "state": {
            "_view_name": "HBoxView",
            "_dom_classes": [],
            "_model_name": "HBoxModel",
            "_view_module": "@jupyter-widgets/controls",
            "_model_module_version": "1.5.0",
            "_view_count": null,
            "_view_module_version": "1.5.0",
            "box_style": "",
            "layout": "IPY_MODEL_e2322ba0df05439ea0f758fdab7adc95",
            "_model_module": "@jupyter-widgets/controls",
            "children": [
              "IPY_MODEL_0c57b799909f486abad2b5452a5fc8b5",
              "IPY_MODEL_e64b4aff81d4465c9ba3a93325ca9124"
            ]
          }
        },
        "e2322ba0df05439ea0f758fdab7adc95": {
          "model_module": "@jupyter-widgets/base",
          "model_name": "LayoutModel",
          "state": {
            "_view_name": "LayoutView",
            "grid_template_rows": null,
            "right": null,
            "justify_content": null,
            "_view_module": "@jupyter-widgets/base",
            "overflow": null,
            "_model_module_version": "1.2.0",
            "_view_count": null,
            "flex_flow": null,
            "width": null,
            "min_width": null,
            "border": null,
            "align_items": null,
            "bottom": null,
            "_model_module": "@jupyter-widgets/base",
            "top": null,
            "grid_column": null,
            "overflow_y": null,
            "overflow_x": null,
            "grid_auto_flow": null,
            "grid_area": null,
            "grid_template_columns": null,
            "flex": null,
            "_model_name": "LayoutModel",
            "justify_items": null,
            "grid_row": null,
            "max_height": null,
            "align_content": null,
            "visibility": null,
            "align_self": null,
            "height": null,
            "min_height": null,
            "padding": null,
            "grid_auto_rows": null,
            "grid_gap": null,
            "max_width": null,
            "order": null,
            "_view_module_version": "1.2.0",
            "grid_template_areas": null,
            "object_position": null,
            "object_fit": null,
            "grid_auto_columns": null,
            "margin": null,
            "display": null,
            "left": null
          }
        },
        "0c57b799909f486abad2b5452a5fc8b5": {
          "model_module": "@jupyter-widgets/controls",
          "model_name": "FloatProgressModel",
          "state": {
            "_view_name": "ProgressView",
            "style": "IPY_MODEL_13985d9c48e6454295a81d589c0cfbb4",
            "_dom_classes": [],
            "description": "100%",
            "_model_name": "FloatProgressModel",
            "bar_style": "success",
            "max": 66227,
            "_view_module": "@jupyter-widgets/controls",
            "_model_module_version": "1.5.0",
            "value": 66227,
            "_view_count": null,
            "_view_module_version": "1.5.0",
            "orientation": "horizontal",
            "min": 0,
            "description_tooltip": null,
            "_model_module": "@jupyter-widgets/controls",
            "layout": "IPY_MODEL_b5ff9cfcc0b745258ff3f01bd7e9fa54"
          }
        },
        "e64b4aff81d4465c9ba3a93325ca9124": {
          "model_module": "@jupyter-widgets/controls",
          "model_name": "HTMLModel",
          "state": {
            "_view_name": "HTMLView",
            "style": "IPY_MODEL_fddd083869ba4416912df3976ec57517",
            "_dom_classes": [],
            "description": "",
            "_model_name": "HTMLModel",
            "placeholder": "​",
            "_view_module": "@jupyter-widgets/controls",
            "_model_module_version": "1.5.0",
            "value": " 66227/66227 [1:11:44&lt;00:00, 15.39it/s]",
            "_view_count": null,
            "_view_module_version": "1.5.0",
            "description_tooltip": null,
            "_model_module": "@jupyter-widgets/controls",
            "layout": "IPY_MODEL_974a37b50c99409f9af75b2200438b9b"
          }
        },
        "13985d9c48e6454295a81d589c0cfbb4": {
          "model_module": "@jupyter-widgets/controls",
          "model_name": "ProgressStyleModel",
          "state": {
            "_view_name": "StyleView",
            "_model_name": "ProgressStyleModel",
            "description_width": "initial",
            "_view_module": "@jupyter-widgets/base",
            "_model_module_version": "1.5.0",
            "_view_count": null,
            "_view_module_version": "1.2.0",
            "bar_color": null,
            "_model_module": "@jupyter-widgets/controls"
          }
        },
        "b5ff9cfcc0b745258ff3f01bd7e9fa54": {
          "model_module": "@jupyter-widgets/base",
          "model_name": "LayoutModel",
          "state": {
            "_view_name": "LayoutView",
            "grid_template_rows": null,
            "right": null,
            "justify_content": null,
            "_view_module": "@jupyter-widgets/base",
            "overflow": null,
            "_model_module_version": "1.2.0",
            "_view_count": null,
            "flex_flow": null,
            "width": null,
            "min_width": null,
            "border": null,
            "align_items": null,
            "bottom": null,
            "_model_module": "@jupyter-widgets/base",
            "top": null,
            "grid_column": null,
            "overflow_y": null,
            "overflow_x": null,
            "grid_auto_flow": null,
            "grid_area": null,
            "grid_template_columns": null,
            "flex": null,
            "_model_name": "LayoutModel",
            "justify_items": null,
            "grid_row": null,
            "max_height": null,
            "align_content": null,
            "visibility": null,
            "align_self": null,
            "height": null,
            "min_height": null,
            "padding": null,
            "grid_auto_rows": null,
            "grid_gap": null,
            "max_width": null,
            "order": null,
            "_view_module_version": "1.2.0",
            "grid_template_areas": null,
            "object_position": null,
            "object_fit": null,
            "grid_auto_columns": null,
            "margin": null,
            "display": null,
            "left": null
          }
        },
        "fddd083869ba4416912df3976ec57517": {
          "model_module": "@jupyter-widgets/controls",
          "model_name": "DescriptionStyleModel",
          "state": {
            "_view_name": "StyleView",
            "_model_name": "DescriptionStyleModel",
            "description_width": "",
            "_view_module": "@jupyter-widgets/base",
            "_model_module_version": "1.5.0",
            "_view_count": null,
            "_view_module_version": "1.2.0",
            "_model_module": "@jupyter-widgets/controls"
          }
        },
        "974a37b50c99409f9af75b2200438b9b": {
          "model_module": "@jupyter-widgets/base",
          "model_name": "LayoutModel",
          "state": {
            "_view_name": "LayoutView",
            "grid_template_rows": null,
            "right": null,
            "justify_content": null,
            "_view_module": "@jupyter-widgets/base",
            "overflow": null,
            "_model_module_version": "1.2.0",
            "_view_count": null,
            "flex_flow": null,
            "width": null,
            "min_width": null,
            "border": null,
            "align_items": null,
            "bottom": null,
            "_model_module": "@jupyter-widgets/base",
            "top": null,
            "grid_column": null,
            "overflow_y": null,
            "overflow_x": null,
            "grid_auto_flow": null,
            "grid_area": null,
            "grid_template_columns": null,
            "flex": null,
            "_model_name": "LayoutModel",
            "justify_items": null,
            "grid_row": null,
            "max_height": null,
            "align_content": null,
            "visibility": null,
            "align_self": null,
            "height": null,
            "min_height": null,
            "padding": null,
            "grid_auto_rows": null,
            "grid_gap": null,
            "max_width": null,
            "order": null,
            "_view_module_version": "1.2.0",
            "grid_template_areas": null,
            "object_position": null,
            "object_fit": null,
            "grid_auto_columns": null,
            "margin": null,
            "display": null,
            "left": null
          }
        },
        "1fcf328714094f1fb8e4307bc33881b9": {
          "model_module": "@jupyter-widgets/controls",
          "model_name": "HBoxModel",
          "state": {
            "_view_name": "HBoxView",
            "_dom_classes": [],
            "_model_name": "HBoxModel",
            "_view_module": "@jupyter-widgets/controls",
            "_model_module_version": "1.5.0",
            "_view_count": null,
            "_view_module_version": "1.5.0",
            "box_style": "",
            "layout": "IPY_MODEL_df8016a2278b4b8183de5ce5cc26147c",
            "_model_module": "@jupyter-widgets/controls",
            "children": [
              "IPY_MODEL_61153aebe83a4d6e806178f5fc629e42",
              "IPY_MODEL_ef2f3b5ec5734d769091dbc222ed0dfe"
            ]
          }
        },
        "df8016a2278b4b8183de5ce5cc26147c": {
          "model_module": "@jupyter-widgets/base",
          "model_name": "LayoutModel",
          "state": {
            "_view_name": "LayoutView",
            "grid_template_rows": null,
            "right": null,
            "justify_content": null,
            "_view_module": "@jupyter-widgets/base",
            "overflow": null,
            "_model_module_version": "1.2.0",
            "_view_count": null,
            "flex_flow": null,
            "width": null,
            "min_width": null,
            "border": null,
            "align_items": null,
            "bottom": null,
            "_model_module": "@jupyter-widgets/base",
            "top": null,
            "grid_column": null,
            "overflow_y": null,
            "overflow_x": null,
            "grid_auto_flow": null,
            "grid_area": null,
            "grid_template_columns": null,
            "flex": null,
            "_model_name": "LayoutModel",
            "justify_items": null,
            "grid_row": null,
            "max_height": null,
            "align_content": null,
            "visibility": null,
            "align_self": null,
            "height": null,
            "min_height": null,
            "padding": null,
            "grid_auto_rows": null,
            "grid_gap": null,
            "max_width": null,
            "order": null,
            "_view_module_version": "1.2.0",
            "grid_template_areas": null,
            "object_position": null,
            "object_fit": null,
            "grid_auto_columns": null,
            "margin": null,
            "display": null,
            "left": null
          }
        },
        "61153aebe83a4d6e806178f5fc629e42": {
          "model_module": "@jupyter-widgets/controls",
          "model_name": "FloatProgressModel",
          "state": {
            "_view_name": "ProgressView",
            "style": "IPY_MODEL_e2a1015ef327464eb21f0c99ed5fbb51",
            "_dom_classes": [],
            "description": "100%",
            "_model_name": "FloatProgressModel",
            "bar_style": "success",
            "max": 8279,
            "_view_module": "@jupyter-widgets/controls",
            "_model_module_version": "1.5.0",
            "value": 8279,
            "_view_count": null,
            "_view_module_version": "1.5.0",
            "orientation": "horizontal",
            "min": 0,
            "description_tooltip": null,
            "_model_module": "@jupyter-widgets/controls",
            "layout": "IPY_MODEL_ed7175832a584c208d2d09d4625d0fcc"
          }
        },
        "ef2f3b5ec5734d769091dbc222ed0dfe": {
          "model_module": "@jupyter-widgets/controls",
          "model_name": "HTMLModel",
          "state": {
            "_view_name": "HTMLView",
            "style": "IPY_MODEL_e5ea7bd6c4634eac8aa25b6916877c46",
            "_dom_classes": [],
            "description": "",
            "_model_name": "HTMLModel",
            "placeholder": "​",
            "_view_module": "@jupyter-widgets/controls",
            "_model_module_version": "1.5.0",
            "value": " 8279/8279 [04:03&lt;00:00, 33.94it/s]",
            "_view_count": null,
            "_view_module_version": "1.5.0",
            "description_tooltip": null,
            "_model_module": "@jupyter-widgets/controls",
            "layout": "IPY_MODEL_17d21804f89c411194b14a9adead6b7d"
          }
        },
        "e2a1015ef327464eb21f0c99ed5fbb51": {
          "model_module": "@jupyter-widgets/controls",
          "model_name": "ProgressStyleModel",
          "state": {
            "_view_name": "StyleView",
            "_model_name": "ProgressStyleModel",
            "description_width": "initial",
            "_view_module": "@jupyter-widgets/base",
            "_model_module_version": "1.5.0",
            "_view_count": null,
            "_view_module_version": "1.2.0",
            "bar_color": null,
            "_model_module": "@jupyter-widgets/controls"
          }
        },
        "ed7175832a584c208d2d09d4625d0fcc": {
          "model_module": "@jupyter-widgets/base",
          "model_name": "LayoutModel",
          "state": {
            "_view_name": "LayoutView",
            "grid_template_rows": null,
            "right": null,
            "justify_content": null,
            "_view_module": "@jupyter-widgets/base",
            "overflow": null,
            "_model_module_version": "1.2.0",
            "_view_count": null,
            "flex_flow": null,
            "width": null,
            "min_width": null,
            "border": null,
            "align_items": null,
            "bottom": null,
            "_model_module": "@jupyter-widgets/base",
            "top": null,
            "grid_column": null,
            "overflow_y": null,
            "overflow_x": null,
            "grid_auto_flow": null,
            "grid_area": null,
            "grid_template_columns": null,
            "flex": null,
            "_model_name": "LayoutModel",
            "justify_items": null,
            "grid_row": null,
            "max_height": null,
            "align_content": null,
            "visibility": null,
            "align_self": null,
            "height": null,
            "min_height": null,
            "padding": null,
            "grid_auto_rows": null,
            "grid_gap": null,
            "max_width": null,
            "order": null,
            "_view_module_version": "1.2.0",
            "grid_template_areas": null,
            "object_position": null,
            "object_fit": null,
            "grid_auto_columns": null,
            "margin": null,
            "display": null,
            "left": null
          }
        },
        "e5ea7bd6c4634eac8aa25b6916877c46": {
          "model_module": "@jupyter-widgets/controls",
          "model_name": "DescriptionStyleModel",
          "state": {
            "_view_name": "StyleView",
            "_model_name": "DescriptionStyleModel",
            "description_width": "",
            "_view_module": "@jupyter-widgets/base",
            "_model_module_version": "1.5.0",
            "_view_count": null,
            "_view_module_version": "1.2.0",
            "_model_module": "@jupyter-widgets/controls"
          }
        },
        "17d21804f89c411194b14a9adead6b7d": {
          "model_module": "@jupyter-widgets/base",
          "model_name": "LayoutModel",
          "state": {
            "_view_name": "LayoutView",
            "grid_template_rows": null,
            "right": null,
            "justify_content": null,
            "_view_module": "@jupyter-widgets/base",
            "overflow": null,
            "_model_module_version": "1.2.0",
            "_view_count": null,
            "flex_flow": null,
            "width": null,
            "min_width": null,
            "border": null,
            "align_items": null,
            "bottom": null,
            "_model_module": "@jupyter-widgets/base",
            "top": null,
            "grid_column": null,
            "overflow_y": null,
            "overflow_x": null,
            "grid_auto_flow": null,
            "grid_area": null,
            "grid_template_columns": null,
            "flex": null,
            "_model_name": "LayoutModel",
            "justify_items": null,
            "grid_row": null,
            "max_height": null,
            "align_content": null,
            "visibility": null,
            "align_self": null,
            "height": null,
            "min_height": null,
            "padding": null,
            "grid_auto_rows": null,
            "grid_gap": null,
            "max_width": null,
            "order": null,
            "_view_module_version": "1.2.0",
            "grid_template_areas": null,
            "object_position": null,
            "object_fit": null,
            "grid_auto_columns": null,
            "margin": null,
            "display": null,
            "left": null
          }
        },
        "6b95efa8b421410289acc808be38bd10": {
          "model_module": "@jupyter-widgets/controls",
          "model_name": "HBoxModel",
          "state": {
            "_view_name": "HBoxView",
            "_dom_classes": [],
            "_model_name": "HBoxModel",
            "_view_module": "@jupyter-widgets/controls",
            "_model_module_version": "1.5.0",
            "_view_count": null,
            "_view_module_version": "1.5.0",
            "box_style": "",
            "layout": "IPY_MODEL_963c513df6f0401a9d80298295a02ff2",
            "_model_module": "@jupyter-widgets/controls",
            "children": [
              "IPY_MODEL_14ceef8b422c4c00bf5b616e5015cf83",
              "IPY_MODEL_00501a8ace10495a9264c133ae59d96a"
            ]
          }
        },
        "963c513df6f0401a9d80298295a02ff2": {
          "model_module": "@jupyter-widgets/base",
          "model_name": "LayoutModel",
          "state": {
            "_view_name": "LayoutView",
            "grid_template_rows": null,
            "right": null,
            "justify_content": null,
            "_view_module": "@jupyter-widgets/base",
            "overflow": null,
            "_model_module_version": "1.2.0",
            "_view_count": null,
            "flex_flow": null,
            "width": null,
            "min_width": null,
            "border": null,
            "align_items": null,
            "bottom": null,
            "_model_module": "@jupyter-widgets/base",
            "top": null,
            "grid_column": null,
            "overflow_y": null,
            "overflow_x": null,
            "grid_auto_flow": null,
            "grid_area": null,
            "grid_template_columns": null,
            "flex": null,
            "_model_name": "LayoutModel",
            "justify_items": null,
            "grid_row": null,
            "max_height": null,
            "align_content": null,
            "visibility": null,
            "align_self": null,
            "height": null,
            "min_height": null,
            "padding": null,
            "grid_auto_rows": null,
            "grid_gap": null,
            "max_width": null,
            "order": null,
            "_view_module_version": "1.2.0",
            "grid_template_areas": null,
            "object_position": null,
            "object_fit": null,
            "grid_auto_columns": null,
            "margin": null,
            "display": null,
            "left": null
          }
        },
        "14ceef8b422c4c00bf5b616e5015cf83": {
          "model_module": "@jupyter-widgets/controls",
          "model_name": "FloatProgressModel",
          "state": {
            "_view_name": "ProgressView",
            "style": "IPY_MODEL_311a39a22885426ca016899dab38fa3c",
            "_dom_classes": [],
            "description": "100%",
            "_model_name": "FloatProgressModel",
            "bar_style": "success",
            "max": 66227,
            "_view_module": "@jupyter-widgets/controls",
            "_model_module_version": "1.5.0",
            "value": 66227,
            "_view_count": null,
            "_view_module_version": "1.5.0",
            "orientation": "horizontal",
            "min": 0,
            "description_tooltip": null,
            "_model_module": "@jupyter-widgets/controls",
            "layout": "IPY_MODEL_306cd4816b424204ae91c4aeb712daa7"
          }
        },
        "00501a8ace10495a9264c133ae59d96a": {
          "model_module": "@jupyter-widgets/controls",
          "model_name": "HTMLModel",
          "state": {
            "_view_name": "HTMLView",
            "style": "IPY_MODEL_f84c3ddda0b04bb7a7791bd4edbdd7ff",
            "_dom_classes": [],
            "description": "",
            "_model_name": "HTMLModel",
            "placeholder": "​",
            "_view_module": "@jupyter-widgets/controls",
            "_model_module_version": "1.5.0",
            "value": " 66227/66227 [1:11:36&lt;00:00, 15.41it/s]",
            "_view_count": null,
            "_view_module_version": "1.5.0",
            "description_tooltip": null,
            "_model_module": "@jupyter-widgets/controls",
            "layout": "IPY_MODEL_85782e7c27e7476f9730b76a1612fd9f"
          }
        },
        "311a39a22885426ca016899dab38fa3c": {
          "model_module": "@jupyter-widgets/controls",
          "model_name": "ProgressStyleModel",
          "state": {
            "_view_name": "StyleView",
            "_model_name": "ProgressStyleModel",
            "description_width": "initial",
            "_view_module": "@jupyter-widgets/base",
            "_model_module_version": "1.5.0",
            "_view_count": null,
            "_view_module_version": "1.2.0",
            "bar_color": null,
            "_model_module": "@jupyter-widgets/controls"
          }
        },
        "306cd4816b424204ae91c4aeb712daa7": {
          "model_module": "@jupyter-widgets/base",
          "model_name": "LayoutModel",
          "state": {
            "_view_name": "LayoutView",
            "grid_template_rows": null,
            "right": null,
            "justify_content": null,
            "_view_module": "@jupyter-widgets/base",
            "overflow": null,
            "_model_module_version": "1.2.0",
            "_view_count": null,
            "flex_flow": null,
            "width": null,
            "min_width": null,
            "border": null,
            "align_items": null,
            "bottom": null,
            "_model_module": "@jupyter-widgets/base",
            "top": null,
            "grid_column": null,
            "overflow_y": null,
            "overflow_x": null,
            "grid_auto_flow": null,
            "grid_area": null,
            "grid_template_columns": null,
            "flex": null,
            "_model_name": "LayoutModel",
            "justify_items": null,
            "grid_row": null,
            "max_height": null,
            "align_content": null,
            "visibility": null,
            "align_self": null,
            "height": null,
            "min_height": null,
            "padding": null,
            "grid_auto_rows": null,
            "grid_gap": null,
            "max_width": null,
            "order": null,
            "_view_module_version": "1.2.0",
            "grid_template_areas": null,
            "object_position": null,
            "object_fit": null,
            "grid_auto_columns": null,
            "margin": null,
            "display": null,
            "left": null
          }
        },
        "f84c3ddda0b04bb7a7791bd4edbdd7ff": {
          "model_module": "@jupyter-widgets/controls",
          "model_name": "DescriptionStyleModel",
          "state": {
            "_view_name": "StyleView",
            "_model_name": "DescriptionStyleModel",
            "description_width": "",
            "_view_module": "@jupyter-widgets/base",
            "_model_module_version": "1.5.0",
            "_view_count": null,
            "_view_module_version": "1.2.0",
            "_model_module": "@jupyter-widgets/controls"
          }
        },
        "85782e7c27e7476f9730b76a1612fd9f": {
          "model_module": "@jupyter-widgets/base",
          "model_name": "LayoutModel",
          "state": {
            "_view_name": "LayoutView",
            "grid_template_rows": null,
            "right": null,
            "justify_content": null,
            "_view_module": "@jupyter-widgets/base",
            "overflow": null,
            "_model_module_version": "1.2.0",
            "_view_count": null,
            "flex_flow": null,
            "width": null,
            "min_width": null,
            "border": null,
            "align_items": null,
            "bottom": null,
            "_model_module": "@jupyter-widgets/base",
            "top": null,
            "grid_column": null,
            "overflow_y": null,
            "overflow_x": null,
            "grid_auto_flow": null,
            "grid_area": null,
            "grid_template_columns": null,
            "flex": null,
            "_model_name": "LayoutModel",
            "justify_items": null,
            "grid_row": null,
            "max_height": null,
            "align_content": null,
            "visibility": null,
            "align_self": null,
            "height": null,
            "min_height": null,
            "padding": null,
            "grid_auto_rows": null,
            "grid_gap": null,
            "max_width": null,
            "order": null,
            "_view_module_version": "1.2.0",
            "grid_template_areas": null,
            "object_position": null,
            "object_fit": null,
            "grid_auto_columns": null,
            "margin": null,
            "display": null,
            "left": null
          }
        },
        "8cfcc1bea615467598f8d3231ca84640": {
          "model_module": "@jupyter-widgets/controls",
          "model_name": "HBoxModel",
          "state": {
            "_view_name": "HBoxView",
            "_dom_classes": [],
            "_model_name": "HBoxModel",
            "_view_module": "@jupyter-widgets/controls",
            "_model_module_version": "1.5.0",
            "_view_count": null,
            "_view_module_version": "1.5.0",
            "box_style": "",
            "layout": "IPY_MODEL_aae867ea0e5a47cd84009a948532a4aa",
            "_model_module": "@jupyter-widgets/controls",
            "children": [
              "IPY_MODEL_8fc917e8254442979a275ed9d5d3ab35",
              "IPY_MODEL_cee3e37742a04acb97ff26aee0cb1c69"
            ]
          }
        },
        "aae867ea0e5a47cd84009a948532a4aa": {
          "model_module": "@jupyter-widgets/base",
          "model_name": "LayoutModel",
          "state": {
            "_view_name": "LayoutView",
            "grid_template_rows": null,
            "right": null,
            "justify_content": null,
            "_view_module": "@jupyter-widgets/base",
            "overflow": null,
            "_model_module_version": "1.2.0",
            "_view_count": null,
            "flex_flow": null,
            "width": null,
            "min_width": null,
            "border": null,
            "align_items": null,
            "bottom": null,
            "_model_module": "@jupyter-widgets/base",
            "top": null,
            "grid_column": null,
            "overflow_y": null,
            "overflow_x": null,
            "grid_auto_flow": null,
            "grid_area": null,
            "grid_template_columns": null,
            "flex": null,
            "_model_name": "LayoutModel",
            "justify_items": null,
            "grid_row": null,
            "max_height": null,
            "align_content": null,
            "visibility": null,
            "align_self": null,
            "height": null,
            "min_height": null,
            "padding": null,
            "grid_auto_rows": null,
            "grid_gap": null,
            "max_width": null,
            "order": null,
            "_view_module_version": "1.2.0",
            "grid_template_areas": null,
            "object_position": null,
            "object_fit": null,
            "grid_auto_columns": null,
            "margin": null,
            "display": null,
            "left": null
          }
        },
        "8fc917e8254442979a275ed9d5d3ab35": {
          "model_module": "@jupyter-widgets/controls",
          "model_name": "FloatProgressModel",
          "state": {
            "_view_name": "ProgressView",
            "style": "IPY_MODEL_e6d1de39305c41e384bcd322215915a1",
            "_dom_classes": [],
            "description": "100%",
            "_model_name": "FloatProgressModel",
            "bar_style": "success",
            "max": 8279,
            "_view_module": "@jupyter-widgets/controls",
            "_model_module_version": "1.5.0",
            "value": 8279,
            "_view_count": null,
            "_view_module_version": "1.5.0",
            "orientation": "horizontal",
            "min": 0,
            "description_tooltip": null,
            "_model_module": "@jupyter-widgets/controls",
            "layout": "IPY_MODEL_53dc4673674b46f48eb7204151dc4b97"
          }
        },
        "cee3e37742a04acb97ff26aee0cb1c69": {
          "model_module": "@jupyter-widgets/controls",
          "model_name": "HTMLModel",
          "state": {
            "_view_name": "HTMLView",
            "style": "IPY_MODEL_a6d9a6e9839e44eeb207f9a8abc20bc7",
            "_dom_classes": [],
            "description": "",
            "_model_name": "HTMLModel",
            "placeholder": "​",
            "_view_module": "@jupyter-widgets/controls",
            "_model_module_version": "1.5.0",
            "value": " 8279/8279 [04:01&lt;00:00, 34.35it/s]",
            "_view_count": null,
            "_view_module_version": "1.5.0",
            "description_tooltip": null,
            "_model_module": "@jupyter-widgets/controls",
            "layout": "IPY_MODEL_96dc36558c6f4dc6a1142d44e366e92c"
          }
        },
        "e6d1de39305c41e384bcd322215915a1": {
          "model_module": "@jupyter-widgets/controls",
          "model_name": "ProgressStyleModel",
          "state": {
            "_view_name": "StyleView",
            "_model_name": "ProgressStyleModel",
            "description_width": "initial",
            "_view_module": "@jupyter-widgets/base",
            "_model_module_version": "1.5.0",
            "_view_count": null,
            "_view_module_version": "1.2.0",
            "bar_color": null,
            "_model_module": "@jupyter-widgets/controls"
          }
        },
        "53dc4673674b46f48eb7204151dc4b97": {
          "model_module": "@jupyter-widgets/base",
          "model_name": "LayoutModel",
          "state": {
            "_view_name": "LayoutView",
            "grid_template_rows": null,
            "right": null,
            "justify_content": null,
            "_view_module": "@jupyter-widgets/base",
            "overflow": null,
            "_model_module_version": "1.2.0",
            "_view_count": null,
            "flex_flow": null,
            "width": null,
            "min_width": null,
            "border": null,
            "align_items": null,
            "bottom": null,
            "_model_module": "@jupyter-widgets/base",
            "top": null,
            "grid_column": null,
            "overflow_y": null,
            "overflow_x": null,
            "grid_auto_flow": null,
            "grid_area": null,
            "grid_template_columns": null,
            "flex": null,
            "_model_name": "LayoutModel",
            "justify_items": null,
            "grid_row": null,
            "max_height": null,
            "align_content": null,
            "visibility": null,
            "align_self": null,
            "height": null,
            "min_height": null,
            "padding": null,
            "grid_auto_rows": null,
            "grid_gap": null,
            "max_width": null,
            "order": null,
            "_view_module_version": "1.2.0",
            "grid_template_areas": null,
            "object_position": null,
            "object_fit": null,
            "grid_auto_columns": null,
            "margin": null,
            "display": null,
            "left": null
          }
        },
        "a6d9a6e9839e44eeb207f9a8abc20bc7": {
          "model_module": "@jupyter-widgets/controls",
          "model_name": "DescriptionStyleModel",
          "state": {
            "_view_name": "StyleView",
            "_model_name": "DescriptionStyleModel",
            "description_width": "",
            "_view_module": "@jupyter-widgets/base",
            "_model_module_version": "1.5.0",
            "_view_count": null,
            "_view_module_version": "1.2.0",
            "_model_module": "@jupyter-widgets/controls"
          }
        },
        "96dc36558c6f4dc6a1142d44e366e92c": {
          "model_module": "@jupyter-widgets/base",
          "model_name": "LayoutModel",
          "state": {
            "_view_name": "LayoutView",
            "grid_template_rows": null,
            "right": null,
            "justify_content": null,
            "_view_module": "@jupyter-widgets/base",
            "overflow": null,
            "_model_module_version": "1.2.0",
            "_view_count": null,
            "flex_flow": null,
            "width": null,
            "min_width": null,
            "border": null,
            "align_items": null,
            "bottom": null,
            "_model_module": "@jupyter-widgets/base",
            "top": null,
            "grid_column": null,
            "overflow_y": null,
            "overflow_x": null,
            "grid_auto_flow": null,
            "grid_area": null,
            "grid_template_columns": null,
            "flex": null,
            "_model_name": "LayoutModel",
            "justify_items": null,
            "grid_row": null,
            "max_height": null,
            "align_content": null,
            "visibility": null,
            "align_self": null,
            "height": null,
            "min_height": null,
            "padding": null,
            "grid_auto_rows": null,
            "grid_gap": null,
            "max_width": null,
            "order": null,
            "_view_module_version": "1.2.0",
            "grid_template_areas": null,
            "object_position": null,
            "object_fit": null,
            "grid_auto_columns": null,
            "margin": null,
            "display": null,
            "left": null
          }
        },
        "820cd0b089bc49849124e4a1d87ac9f0": {
          "model_module": "@jupyter-widgets/controls",
          "model_name": "HBoxModel",
          "state": {
            "_view_name": "HBoxView",
            "_dom_classes": [],
            "_model_name": "HBoxModel",
            "_view_module": "@jupyter-widgets/controls",
            "_model_module_version": "1.5.0",
            "_view_count": null,
            "_view_module_version": "1.5.0",
            "box_style": "",
            "layout": "IPY_MODEL_cc60e8f67c0e4bd1aab1a6df1e5353c8",
            "_model_module": "@jupyter-widgets/controls",
            "children": [
              "IPY_MODEL_c2d72380d18f4233b2c11ebae1540793",
              "IPY_MODEL_b4013ed6e7d94e96abcaa230f99c38c7"
            ]
          }
        },
        "cc60e8f67c0e4bd1aab1a6df1e5353c8": {
          "model_module": "@jupyter-widgets/base",
          "model_name": "LayoutModel",
          "state": {
            "_view_name": "LayoutView",
            "grid_template_rows": null,
            "right": null,
            "justify_content": null,
            "_view_module": "@jupyter-widgets/base",
            "overflow": null,
            "_model_module_version": "1.2.0",
            "_view_count": null,
            "flex_flow": null,
            "width": null,
            "min_width": null,
            "border": null,
            "align_items": null,
            "bottom": null,
            "_model_module": "@jupyter-widgets/base",
            "top": null,
            "grid_column": null,
            "overflow_y": null,
            "overflow_x": null,
            "grid_auto_flow": null,
            "grid_area": null,
            "grid_template_columns": null,
            "flex": null,
            "_model_name": "LayoutModel",
            "justify_items": null,
            "grid_row": null,
            "max_height": null,
            "align_content": null,
            "visibility": null,
            "align_self": null,
            "height": null,
            "min_height": null,
            "padding": null,
            "grid_auto_rows": null,
            "grid_gap": null,
            "max_width": null,
            "order": null,
            "_view_module_version": "1.2.0",
            "grid_template_areas": null,
            "object_position": null,
            "object_fit": null,
            "grid_auto_columns": null,
            "margin": null,
            "display": null,
            "left": null
          }
        },
        "c2d72380d18f4233b2c11ebae1540793": {
          "model_module": "@jupyter-widgets/controls",
          "model_name": "FloatProgressModel",
          "state": {
            "_view_name": "ProgressView",
            "style": "IPY_MODEL_5c3345d0dafb4d1095e20e86319a35e3",
            "_dom_classes": [],
            "description": "100%",
            "_model_name": "FloatProgressModel",
            "bar_style": "success",
            "max": 8279,
            "_view_module": "@jupyter-widgets/controls",
            "_model_module_version": "1.5.0",
            "value": 8279,
            "_view_count": null,
            "_view_module_version": "1.5.0",
            "orientation": "horizontal",
            "min": 0,
            "description_tooltip": null,
            "_model_module": "@jupyter-widgets/controls",
            "layout": "IPY_MODEL_97a061c9763c4a149cadc5309240a10f"
          }
        },
        "b4013ed6e7d94e96abcaa230f99c38c7": {
          "model_module": "@jupyter-widgets/controls",
          "model_name": "HTMLModel",
          "state": {
            "_view_name": "HTMLView",
            "style": "IPY_MODEL_e3f08993ff3844ada807341238a49144",
            "_dom_classes": [],
            "description": "",
            "_model_name": "HTMLModel",
            "placeholder": "​",
            "_view_module": "@jupyter-widgets/controls",
            "_model_module_version": "1.5.0",
            "value": " 8279/8279 [04:04&lt;00:00, 33.92it/s]",
            "_view_count": null,
            "_view_module_version": "1.5.0",
            "description_tooltip": null,
            "_model_module": "@jupyter-widgets/controls",
            "layout": "IPY_MODEL_972fead5f0ef4f4fb1996bc836162ffc"
          }
        },
        "5c3345d0dafb4d1095e20e86319a35e3": {
          "model_module": "@jupyter-widgets/controls",
          "model_name": "ProgressStyleModel",
          "state": {
            "_view_name": "StyleView",
            "_model_name": "ProgressStyleModel",
            "description_width": "initial",
            "_view_module": "@jupyter-widgets/base",
            "_model_module_version": "1.5.0",
            "_view_count": null,
            "_view_module_version": "1.2.0",
            "bar_color": null,
            "_model_module": "@jupyter-widgets/controls"
          }
        },
        "97a061c9763c4a149cadc5309240a10f": {
          "model_module": "@jupyter-widgets/base",
          "model_name": "LayoutModel",
          "state": {
            "_view_name": "LayoutView",
            "grid_template_rows": null,
            "right": null,
            "justify_content": null,
            "_view_module": "@jupyter-widgets/base",
            "overflow": null,
            "_model_module_version": "1.2.0",
            "_view_count": null,
            "flex_flow": null,
            "width": null,
            "min_width": null,
            "border": null,
            "align_items": null,
            "bottom": null,
            "_model_module": "@jupyter-widgets/base",
            "top": null,
            "grid_column": null,
            "overflow_y": null,
            "overflow_x": null,
            "grid_auto_flow": null,
            "grid_area": null,
            "grid_template_columns": null,
            "flex": null,
            "_model_name": "LayoutModel",
            "justify_items": null,
            "grid_row": null,
            "max_height": null,
            "align_content": null,
            "visibility": null,
            "align_self": null,
            "height": null,
            "min_height": null,
            "padding": null,
            "grid_auto_rows": null,
            "grid_gap": null,
            "max_width": null,
            "order": null,
            "_view_module_version": "1.2.0",
            "grid_template_areas": null,
            "object_position": null,
            "object_fit": null,
            "grid_auto_columns": null,
            "margin": null,
            "display": null,
            "left": null
          }
        },
        "e3f08993ff3844ada807341238a49144": {
          "model_module": "@jupyter-widgets/controls",
          "model_name": "DescriptionStyleModel",
          "state": {
            "_view_name": "StyleView",
            "_model_name": "DescriptionStyleModel",
            "description_width": "",
            "_view_module": "@jupyter-widgets/base",
            "_model_module_version": "1.5.0",
            "_view_count": null,
            "_view_module_version": "1.2.0",
            "_model_module": "@jupyter-widgets/controls"
          }
        },
        "972fead5f0ef4f4fb1996bc836162ffc": {
          "model_module": "@jupyter-widgets/base",
          "model_name": "LayoutModel",
          "state": {
            "_view_name": "LayoutView",
            "grid_template_rows": null,
            "right": null,
            "justify_content": null,
            "_view_module": "@jupyter-widgets/base",
            "overflow": null,
            "_model_module_version": "1.2.0",
            "_view_count": null,
            "flex_flow": null,
            "width": null,
            "min_width": null,
            "border": null,
            "align_items": null,
            "bottom": null,
            "_model_module": "@jupyter-widgets/base",
            "top": null,
            "grid_column": null,
            "overflow_y": null,
            "overflow_x": null,
            "grid_auto_flow": null,
            "grid_area": null,
            "grid_template_columns": null,
            "flex": null,
            "_model_name": "LayoutModel",
            "justify_items": null,
            "grid_row": null,
            "max_height": null,
            "align_content": null,
            "visibility": null,
            "align_self": null,
            "height": null,
            "min_height": null,
            "padding": null,
            "grid_auto_rows": null,
            "grid_gap": null,
            "max_width": null,
            "order": null,
            "_view_module_version": "1.2.0",
            "grid_template_areas": null,
            "object_position": null,
            "object_fit": null,
            "grid_auto_columns": null,
            "margin": null,
            "display": null,
            "left": null
          }
        }
      }
    },
    "accelerator": "GPU"
  },
  "cells": [
    {
      "cell_type": "code",
      "metadata": {
        "id": "EmeTloXi2axk"
      },
      "source": [
        "!pip install -q Pillow gdown"
      ],
      "execution_count": 1,
      "outputs": []
    },
    {
      "cell_type": "markdown",
      "metadata": {
        "id": "RS4ZSBDYyvzO"
      },
      "source": [
        "### Importing required libraries"
      ]
    },
    {
      "cell_type": "code",
      "metadata": {
        "id": "Ue06QGMF2ctl"
      },
      "source": [
        "import gdown\r\n",
        "from PIL import Image\r\n",
        "from PIL import ImageFile\r\n",
        "ImageFile.LOAD_TRUNCATED_IMAGES = True\r\n",
        "\r\n",
        "import json\r\n",
        "import os\r\n",
        "import shutil\r\n",
        "\r\n",
        "import torchvision\r\n",
        "import numpy as np\r\n",
        "import pandas as pd \r\n",
        "import random\r\n",
        "\r\n",
        "import torch\r\n",
        "import torch.nn as nn\r\n",
        "import torch.nn.functional as F\r\n",
        "from torch.utils.data import Dataset\r\n",
        "from tqdm.notebook import tqdm\r\n",
        "import nltk"
      ],
      "execution_count": 2,
      "outputs": []
    },
    {
      "cell_type": "code",
      "metadata": {
        "id": "uzv5Lx4KN094"
      },
      "source": [
        "def delete_files(arr):\r\n",
        "    for file_path in arr:\r\n",
        "        if os.path.exists(file_path):\r\n",
        "            os.remove(file_path)"
      ],
      "execution_count": 3,
      "outputs": []
    },
    {
      "cell_type": "code",
      "metadata": {
        "id": "rB3X-7GIN4rg"
      },
      "source": [
        "\r\n",
        "def delete_folders(arr):\r\n",
        "    for folder_path in arr:\r\n",
        "        if os.path.exists(folder_path):\r\n",
        "            shutil.rmtree(folder_path)"
      ],
      "execution_count": 4,
      "outputs": []
    },
    {
      "cell_type": "markdown",
      "metadata": {
        "id": "igvOnBEiz601"
      },
      "source": [
        "## Data downloading, preprocessing and analyzing"
      ]
    },
    {
      "cell_type": "markdown",
      "metadata": {
        "id": "_0uN4CZ16dXp"
      },
      "source": [
        "CNN Model"
      ]
    },
    {
      "cell_type": "code",
      "metadata": {
        "colab": {
          "base_uri": "https://localhost:8080/",
          "height": 35
        },
        "id": "YSJtXKslz_f0",
        "outputId": "76e2bfcc-c4f0-46fd-bf88-3a5d2ed4f0e1"
      },
      "source": [
        "gdown.download(\"https://drive.google.com/u/0/uc?export=download&confirm=X2sC&id=1TlNmpLUBw7jJEXgpliy29Am1HpHl-KNJ\", \"beheaded_inception3.py\", True)"
      ],
      "execution_count": 5,
      "outputs": [
        {
          "output_type": "execute_result",
          "data": {
            "application/vnd.google.colaboratory.intrinsic+json": {
              "type": "string"
            },
            "text/plain": [
              "'beheaded_inception3.py'"
            ]
          },
          "metadata": {
            "tags": []
          },
          "execution_count": 5
        }
      ]
    },
    {
      "cell_type": "markdown",
      "metadata": {
        "id": "vImwmfjCKcwx"
      },
      "source": [
        "### Downloading the MS COCO Dataset"
      ]
    },
    {
      "cell_type": "markdown",
      "metadata": {
        "id": "w456kVxtj-oZ"
      },
      "source": [
        "**Images download**"
      ]
    },
    {
      "cell_type": "code",
      "metadata": {
        "id": "kOek7JLuKZkc",
        "colab": {
          "base_uri": "https://localhost:8080/"
        },
        "outputId": "d4526bca-6af5-438a-9f28-b3e1fe504bd3"
      },
      "source": [
        "%%time\r\n",
        "!wget -q http://images.cocodataset.org/zips/train2014.zip\r\n",
        "print(\"Unzipping...\")\r\n",
        "!unzip -q train2014.zip"
      ],
      "execution_count": 6,
      "outputs": [
        {
          "output_type": "stream",
          "text": [
            "Unzipping...\n",
            "CPU times: user 1.09 s, sys: 204 ms, total: 1.29 s\n",
            "Wall time: 11min 35s\n"
          ],
          "name": "stdout"
        }
      ]
    },
    {
      "cell_type": "code",
      "metadata": {
        "id": "GlOHh2DbNgOH"
      },
      "source": [
        "delete_files([\"/content/train2014.zip\"])"
      ],
      "execution_count": 7,
      "outputs": []
    },
    {
      "cell_type": "markdown",
      "metadata": {
        "id": "OcG3j95fkG8x"
      },
      "source": [
        "**Captions download**"
      ]
    },
    {
      "cell_type": "code",
      "metadata": {
        "id": "duFgjN0aiPy8",
        "colab": {
          "base_uri": "https://localhost:8080/"
        },
        "outputId": "ff1e381d-cf98-4263-d454-9c00787dd50a"
      },
      "source": [
        "\r\n",
        "%%time\r\n",
        "!wget http://images.cocodataset.org/annotations/annotations_trainval2014.zip\r\n",
        "print(\"Unzipping...\")\r\n",
        "!unzip -q annotations_trainval2014.zip"
      ],
      "execution_count": 8,
      "outputs": [
        {
          "output_type": "stream",
          "text": [
            "--2021-02-13 20:43:00--  http://images.cocodataset.org/annotations/annotations_trainval2014.zip\n",
            "Resolving images.cocodataset.org (images.cocodataset.org)... 52.216.141.108\n",
            "Connecting to images.cocodataset.org (images.cocodataset.org)|52.216.141.108|:80... connected.\n",
            "HTTP request sent, awaiting response... 200 OK\n",
            "Length: 252872794 (241M) [application/zip]\n",
            "Saving to: ‘annotations_trainval2014.zip’\n",
            "\n",
            "annotations_trainva 100%[===================>] 241.16M  46.6MB/s    in 5.6s    \n",
            "\n",
            "2021-02-13 20:43:06 (43.2 MB/s) - ‘annotations_trainval2014.zip’ saved [252872794/252872794]\n",
            "\n",
            "Unzipping...\n",
            "CPU times: user 43.8 ms, sys: 27.7 ms, total: 71.5 ms\n",
            "Wall time: 13.1 s\n"
          ],
          "name": "stdout"
        }
      ]
    },
    {
      "cell_type": "code",
      "metadata": {
        "id": "aJPFgkj8OM3v"
      },
      "source": [
        "delete_files([\r\n",
        "    \"/content/annotations/instances_train2014.json\",\r\n",
        "    \"/content/annotations/instances_val2014.json\",\r\n",
        "    \"/content/annotations/person_keypoints_train2014.json\",\r\n",
        "    \"/content/annotations/person_keypoints_val2014.json\",\r\n",
        "])"
      ],
      "execution_count": 9,
      "outputs": []
    },
    {
      "cell_type": "markdown",
      "metadata": {
        "id": "jYbugOlGr6Ep"
      },
      "source": [
        "### Data preprocessing"
      ]
    },
    {
      "cell_type": "code",
      "metadata": {
        "id": "Yl2ato4p0qmS"
      },
      "source": [
        "data = json.load(open(\"/content/annotations/captions_train2014.json\"))"
      ],
      "execution_count": 10,
      "outputs": []
    },
    {
      "cell_type": "code",
      "metadata": {
        "id": "AEyJVWIqYvqA"
      },
      "source": [
        "def data_table(keys):\r\n",
        "    dataframes = []\r\n",
        "\r\n",
        "    for key in keys:\r\n",
        "\r\n",
        "        if key == img_key:\r\n",
        "            key_value = \"file_name\"\r\n",
        "            key_id = \"id\"\r\n",
        "        elif key == caption_key:\r\n",
        "            key_value = \"caption\"\r\n",
        "            key_id = \"image_id\"\r\n",
        "\r\n",
        "        data_dict = {}\r\n",
        "        data_dict[key_value] = []\r\n",
        "        data_dict[\"id\"] = []\r\n",
        "\r\n",
        "        for item in data[key]:\r\n",
        "            data_dict[key_value].append(item[key_value])\r\n",
        "            data_dict[\"id\"].append(item[key_id])\r\n",
        "\r\n",
        "        dataframes.append(pd.DataFrame(data=data_dict))\r\n",
        "\r\n",
        "    return pd.merge(dataframes[0], dataframes[1], on=(\"id\"))"
      ],
      "execution_count": 11,
      "outputs": []
    },
    {
      "cell_type": "markdown",
      "metadata": {
        "id": "dLlGNJuZy3vO"
      },
      "source": [
        "**Get rid of redundant data columns**"
      ]
    },
    {
      "cell_type": "code",
      "metadata": {
        "colab": {
          "base_uri": "https://localhost:8080/"
        },
        "id": "Sn8UojZNehyp",
        "outputId": "2646fdb4-b738-4a88-97fd-023efabac66b"
      },
      "source": [
        "%%time\r\n",
        "img_key = \"images\"\r\n",
        "caption_key = \"annotations\"\r\n",
        "\r\n",
        "df = data_table((img_key, caption_key))"
      ],
      "execution_count": 12,
      "outputs": [
        {
          "output_type": "stream",
          "text": [
            "CPU times: user 398 ms, sys: 10.7 ms, total: 408 ms\n",
            "Wall time: 474 ms\n"
          ],
          "name": "stdout"
        }
      ]
    },
    {
      "cell_type": "code",
      "metadata": {
        "id": "Sv5mkP0yhbO8"
      },
      "source": [
        "df.drop(columns=\"id\", inplace=True)\r\n",
        "df.rename(columns={\"file_name\": \"image\"}, inplace=True)"
      ],
      "execution_count": 13,
      "outputs": []
    },
    {
      "cell_type": "code",
      "metadata": {
        "colab": {
          "base_uri": "https://localhost:8080/",
          "height": 195
        },
        "id": "sExO26-jh6cU",
        "outputId": "cf2f6ef4-c9fb-4cf7-caa7-64c3f3a43591"
      },
      "source": [
        "df.head()"
      ],
      "execution_count": 14,
      "outputs": [
        {
          "output_type": "execute_result",
          "data": {
            "text/html": [
              "<div>\n",
              "<style scoped>\n",
              "    .dataframe tbody tr th:only-of-type {\n",
              "        vertical-align: middle;\n",
              "    }\n",
              "\n",
              "    .dataframe tbody tr th {\n",
              "        vertical-align: top;\n",
              "    }\n",
              "\n",
              "    .dataframe thead th {\n",
              "        text-align: right;\n",
              "    }\n",
              "</style>\n",
              "<table border=\"1\" class=\"dataframe\">\n",
              "  <thead>\n",
              "    <tr style=\"text-align: right;\">\n",
              "      <th></th>\n",
              "      <th>image</th>\n",
              "      <th>caption</th>\n",
              "    </tr>\n",
              "  </thead>\n",
              "  <tbody>\n",
              "    <tr>\n",
              "      <th>0</th>\n",
              "      <td>COCO_train2014_000000057870.jpg</td>\n",
              "      <td>A restaurant has modern wooden tables and chairs.</td>\n",
              "    </tr>\n",
              "    <tr>\n",
              "      <th>1</th>\n",
              "      <td>COCO_train2014_000000057870.jpg</td>\n",
              "      <td>A long restaurant table with rattan rounded ba...</td>\n",
              "    </tr>\n",
              "    <tr>\n",
              "      <th>2</th>\n",
              "      <td>COCO_train2014_000000057870.jpg</td>\n",
              "      <td>a long table with a plant on top of it surroun...</td>\n",
              "    </tr>\n",
              "    <tr>\n",
              "      <th>3</th>\n",
              "      <td>COCO_train2014_000000057870.jpg</td>\n",
              "      <td>A long table with a flower arrangement in the ...</td>\n",
              "    </tr>\n",
              "    <tr>\n",
              "      <th>4</th>\n",
              "      <td>COCO_train2014_000000057870.jpg</td>\n",
              "      <td>A table is adorned with wooden chairs with blu...</td>\n",
              "    </tr>\n",
              "  </tbody>\n",
              "</table>\n",
              "</div>"
            ],
            "text/plain": [
              "                             image                                            caption\n",
              "0  COCO_train2014_000000057870.jpg  A restaurant has modern wooden tables and chairs.\n",
              "1  COCO_train2014_000000057870.jpg  A long restaurant table with rattan rounded ba...\n",
              "2  COCO_train2014_000000057870.jpg  a long table with a plant on top of it surroun...\n",
              "3  COCO_train2014_000000057870.jpg  A long table with a flower arrangement in the ...\n",
              "4  COCO_train2014_000000057870.jpg  A table is adorned with wooden chairs with blu..."
            ]
          },
          "metadata": {
            "tags": []
          },
          "execution_count": 14
        }
      ]
    },
    {
      "cell_type": "code",
      "metadata": {
        "id": "HpAd2b0r1AvJ"
      },
      "source": [
        "df = df[df['image'].isin(os.listdir(\"/content/train2014\"))]\r\n",
        "df.reset_index(drop=True, inplace=True)"
      ],
      "execution_count": 15,
      "outputs": []
    },
    {
      "cell_type": "code",
      "metadata": {
        "colab": {
          "base_uri": "https://localhost:8080/",
          "height": 402
        },
        "id": "r3srKXkW1oMX",
        "outputId": "f3627001-d58a-4cf6-9a20-c6eff298e927"
      },
      "source": [
        "df"
      ],
      "execution_count": 16,
      "outputs": [
        {
          "output_type": "execute_result",
          "data": {
            "text/html": [
              "<div>\n",
              "<style scoped>\n",
              "    .dataframe tbody tr th:only-of-type {\n",
              "        vertical-align: middle;\n",
              "    }\n",
              "\n",
              "    .dataframe tbody tr th {\n",
              "        vertical-align: top;\n",
              "    }\n",
              "\n",
              "    .dataframe thead th {\n",
              "        text-align: right;\n",
              "    }\n",
              "</style>\n",
              "<table border=\"1\" class=\"dataframe\">\n",
              "  <thead>\n",
              "    <tr style=\"text-align: right;\">\n",
              "      <th></th>\n",
              "      <th>image</th>\n",
              "      <th>caption</th>\n",
              "    </tr>\n",
              "  </thead>\n",
              "  <tbody>\n",
              "    <tr>\n",
              "      <th>0</th>\n",
              "      <td>COCO_train2014_000000057870.jpg</td>\n",
              "      <td>A restaurant has modern wooden tables and chairs.</td>\n",
              "    </tr>\n",
              "    <tr>\n",
              "      <th>1</th>\n",
              "      <td>COCO_train2014_000000057870.jpg</td>\n",
              "      <td>A long restaurant table with rattan rounded ba...</td>\n",
              "    </tr>\n",
              "    <tr>\n",
              "      <th>2</th>\n",
              "      <td>COCO_train2014_000000057870.jpg</td>\n",
              "      <td>a long table with a plant on top of it surroun...</td>\n",
              "    </tr>\n",
              "    <tr>\n",
              "      <th>3</th>\n",
              "      <td>COCO_train2014_000000057870.jpg</td>\n",
              "      <td>A long table with a flower arrangement in the ...</td>\n",
              "    </tr>\n",
              "    <tr>\n",
              "      <th>4</th>\n",
              "      <td>COCO_train2014_000000057870.jpg</td>\n",
              "      <td>A table is adorned with wooden chairs with blu...</td>\n",
              "    </tr>\n",
              "    <tr>\n",
              "      <th>...</th>\n",
              "      <td>...</td>\n",
              "      <td>...</td>\n",
              "    </tr>\n",
              "    <tr>\n",
              "      <th>414108</th>\n",
              "      <td>COCO_train2014_000000475546.jpg</td>\n",
              "      <td>The patrons enjoy their beverages at the bar.</td>\n",
              "    </tr>\n",
              "    <tr>\n",
              "      <th>414109</th>\n",
              "      <td>COCO_train2014_000000475546.jpg</td>\n",
              "      <td>People having a drink in a basement bar.</td>\n",
              "    </tr>\n",
              "    <tr>\n",
              "      <th>414110</th>\n",
              "      <td>COCO_train2014_000000475546.jpg</td>\n",
              "      <td>A group of friends enjoys a drink while sittin...</td>\n",
              "    </tr>\n",
              "    <tr>\n",
              "      <th>414111</th>\n",
              "      <td>COCO_train2014_000000475546.jpg</td>\n",
              "      <td>Group of people drinking wine at a public loca...</td>\n",
              "    </tr>\n",
              "    <tr>\n",
              "      <th>414112</th>\n",
              "      <td>COCO_train2014_000000475546.jpg</td>\n",
              "      <td>Three women and a man are sitting at a bar</td>\n",
              "    </tr>\n",
              "  </tbody>\n",
              "</table>\n",
              "<p>414113 rows × 2 columns</p>\n",
              "</div>"
            ],
            "text/plain": [
              "                                  image                                            caption\n",
              "0       COCO_train2014_000000057870.jpg  A restaurant has modern wooden tables and chairs.\n",
              "1       COCO_train2014_000000057870.jpg  A long restaurant table with rattan rounded ba...\n",
              "2       COCO_train2014_000000057870.jpg  a long table with a plant on top of it surroun...\n",
              "3       COCO_train2014_000000057870.jpg  A long table with a flower arrangement in the ...\n",
              "4       COCO_train2014_000000057870.jpg  A table is adorned with wooden chairs with blu...\n",
              "...                                 ...                                                ...\n",
              "414108  COCO_train2014_000000475546.jpg      The patrons enjoy their beverages at the bar.\n",
              "414109  COCO_train2014_000000475546.jpg           People having a drink in a basement bar.\n",
              "414110  COCO_train2014_000000475546.jpg  A group of friends enjoys a drink while sittin...\n",
              "414111  COCO_train2014_000000475546.jpg  Group of people drinking wine at a public loca...\n",
              "414112  COCO_train2014_000000475546.jpg         Three women and a man are sitting at a bar\n",
              "\n",
              "[414113 rows x 2 columns]"
            ]
          },
          "metadata": {
            "tags": []
          },
          "execution_count": 16
        }
      ]
    },
    {
      "cell_type": "markdown",
      "metadata": {
        "id": "8luBEi02p-mg"
      },
      "source": [
        "-- Empty table data check --"
      ]
    },
    {
      "cell_type": "code",
      "metadata": {
        "colab": {
          "base_uri": "https://localhost:8080/"
        },
        "id": "X7xSxI7Nh8G3",
        "outputId": "e1267c96-dab6-4972-b427-7021446de319"
      },
      "source": [
        "df.isna().any()"
      ],
      "execution_count": 17,
      "outputs": [
        {
          "output_type": "execute_result",
          "data": {
            "text/plain": [
              "image      False\n",
              "caption    False\n",
              "dtype: bool"
            ]
          },
          "metadata": {
            "tags": []
          },
          "execution_count": 17
        }
      ]
    },
    {
      "cell_type": "markdown",
      "metadata": {
        "id": "_HOkIWEJzOeT"
      },
      "source": [
        "## Creating datasets, iterators"
      ]
    },
    {
      "cell_type": "code",
      "metadata": {
        "id": "SozVMqs62jhb"
      },
      "source": [
        "IMAGE_COL_LABEL = df.columns[0]\r\n",
        "CAPTION_COL_LABEL = df.columns[1]"
      ],
      "execution_count": 18,
      "outputs": []
    },
    {
      "cell_type": "code",
      "metadata": {
        "id": "7OPHdzGms4k-"
      },
      "source": [
        "import string\r\n",
        "\r\n",
        "class TextDataset(Dataset):\r\n",
        "    \r\n",
        "    BOS = \"<BOS>\"\r\n",
        "    EOS = \"<EOS>\"\r\n",
        "    PAD = \"<PAD>\"\r\n",
        "\r\n",
        "    def __init__(self, text_data: pd.Series, min_word_freq=None, max_word_freq=None, max_sentence_len=20, lower=True):\r\n",
        "\r\n",
        "        if min_word_freq is None:\r\n",
        "            self.min_word_freq = -np.inf\r\n",
        "        else:\r\n",
        "            self.min_word_freq = min_word_freq\r\n",
        "\r\n",
        "        if max_word_freq is None:\r\n",
        "            self.max_word_freq = np.inf\r\n",
        "        else:\r\n",
        "            self.max_word_freq = max_word_freq\r\n",
        "\r\n",
        "\r\n",
        "        self.max_sentence_len = max_sentence_len\r\n",
        "        self.lower = lower\r\n",
        "\r\n",
        "        self.tokenizer = nltk.WordPunctTokenizer()\r\n",
        "        self.additional_tokens = set([self.BOS, self.EOS, self.PAD])\r\n",
        "        self.token2idx = {self.BOS: 1, self.EOS: 2, self.PAD: 0}\r\n",
        "\r\n",
        "        self.vocab = set(self.append_words(text_data))\r\n",
        "        self.token2idx.update({token:num + len(self.additional_tokens) for num, token in enumerate(self.vocab) if token not in self.additional_tokens})\r\n",
        "\r\n",
        "        self.idx2token = {num: token for token, num in self.token2idx.items()}\r\n",
        "        self.vocab = self.additional_tokens.union(self.vocab)\r\n",
        "\r\n",
        "    def __len__(self):\r\n",
        "        return len(self.vocab)\r\n",
        "\r\n",
        "    def __getitem__(self, text):            \r\n",
        "        tokens = self.__tokenize(text)\r\n",
        "        text_ids = [token for token in tokens if token in self.vocab]\r\n",
        "        text_ids = self.pad_sequence(text_ids)        \r\n",
        "        text_ids = [self.token2idx[token] for token in text_ids]\r\n",
        "        return text_ids\r\n",
        "\r\n",
        "    def __tokenize(self, row):\r\n",
        "        cut_edge = self.max_sentence_len - 2\r\n",
        "\r\n",
        "        row = row.lower() if self.lower else row\r\n",
        "        tokens = self.tokenizer.tokenize(row)\r\n",
        "        tokens = [token for token in tokens if token not in string.punctuation]\r\n",
        "        tokens = tokens[:cut_edge]\r\n",
        "        tokens = [self.BOS] + tokens + [self.EOS]\r\n",
        "        tokens = self.pad_sequence(tokens)\r\n",
        "        return tokens\r\n",
        "\r\n",
        "    def pad_sequence(self, tokens):\r\n",
        "        padded_sequence = tokens + (self.max_sentence_len - len(tokens)) * [self.PAD]\r\n",
        "        return padded_sequence\r\n",
        "\r\n",
        "    def append_words(self, text: pd.Series):\r\n",
        "        counted_words = text.str.lower().str.split().explode().value_counts()\r\n",
        "        append_list =  [key for key, val in dict(counted_words).items() \r\n",
        "                        if (val > self.min_word_freq and val < self.max_word_freq) and (key not in self.additional_tokens)]\r\n",
        "\r\n",
        "        return append_list"
      ],
      "execution_count": 19,
      "outputs": []
    },
    {
      "cell_type": "code",
      "metadata": {
        "colab": {
          "base_uri": "https://localhost:8080/"
        },
        "id": "zDWz_t8mZnTL",
        "outputId": "55a2e09b-7d4f-4898-fe50-88cbbccfb1eb"
      },
      "source": [
        "%%time\r\n",
        "text_data = df.iloc[:, 1]\r\n",
        "text_dataset = TextDataset(text_data=text_data, min_word_freq=5, max_sentence_len=12, lower=True)"
      ],
      "execution_count": 20,
      "outputs": [
        {
          "output_type": "stream",
          "text": [
            "CPU times: user 3.06 s, sys: 113 ms, total: 3.18 s\n",
            "Wall time: 3.21 s\n"
          ],
          "name": "stdout"
        }
      ]
    },
    {
      "cell_type": "markdown",
      "metadata": {
        "id": "LqNQuZIKySFc"
      },
      "source": [
        "### Creating text dataset"
      ]
    },
    {
      "cell_type": "markdown",
      "metadata": {
        "id": "VzIvYnxnyLqV"
      },
      "source": [
        "### Applying tokenization for data captions"
      ]
    },
    {
      "cell_type": "code",
      "metadata": {
        "id": "Auu1UEJo3_3V"
      },
      "source": [
        "df[CAPTION_COL_LABEL] = df[CAPTION_COL_LABEL].apply(lambda x: text_dataset[x])"
      ],
      "execution_count": 21,
      "outputs": []
    },
    {
      "cell_type": "markdown",
      "metadata": {
        "id": "JpOOhVu1yDvA"
      },
      "source": [
        "### BatchIterator class for creating data iterators"
      ]
    },
    {
      "cell_type": "code",
      "metadata": {
        "id": "MkV5xezMnaGi"
      },
      "source": [
        "class BatchIterator:\r\n",
        "    def __init__(self, dataframe, image_col_label, caption_col_label, batch_size, image_transformer, main_img_path, shuffle=False):\r\n",
        "        self.dataframe = dataframe\r\n",
        "        self.unique_images = np.unique(dataframe[image_col_label])\r\n",
        "        self.image_col = image_col_label\r\n",
        "        self.caption_col = caption_col_label\r\n",
        "        self.image_transformer = image_transformer\r\n",
        "        self.main_img_path = main_img_path\r\n",
        "\r\n",
        "        self.num_samples = len(self.unique_images)\r\n",
        "        self.batch_size = batch_size\r\n",
        "        self.batches_count =  self.num_samples // self.batch_size\r\n",
        "        self.shuffle = shuffle\r\n",
        "\r\n",
        "    def __len__(self):\r\n",
        "        return self.batches_count\r\n",
        "\r\n",
        "    def __iter__(self):\r\n",
        "        indices = np.arange(self.num_samples)\r\n",
        "\r\n",
        "        if self.shuffle:\r\n",
        "            np.random.shuffle(indices)\r\n",
        "\r\n",
        "        for start in range(0, self.num_samples, self.batch_size):\r\n",
        "            end = min(start + self.batch_size, self.num_samples)\r\n",
        "\r\n",
        "            batch_indices = indices[start:end]\r\n",
        "            batch_images = []\r\n",
        "            batch_captions = []\r\n",
        "\r\n",
        "            for idx in batch_indices:\r\n",
        "                image_name = self.unique_images[idx]\r\n",
        "\r\n",
        "                image = self.__get_image_matrix(image_name)                \r\n",
        "                caption = self.__get_caption(image_name)\r\n",
        "\r\n",
        "                batch_images.append(image)\r\n",
        "                batch_captions.append(caption)\r\n",
        "\r\n",
        "            yield {\r\n",
        "                \"images\": batch_images,\r\n",
        "                \"captions\": torch.tensor(batch_captions)\r\n",
        "            }\r\n",
        "\r\n",
        "    def __get_image_matrix(self, image_name):\r\n",
        "        image = Image.open(os.path.join(self.main_img_path, image_name))\r\n",
        "        image = image.convert(\"RGB\")\r\n",
        "        return self.image_transformer(image)\r\n",
        "\r\n",
        "    def __get_caption(self, image_name):\r\n",
        "        all_captions = np.array(\r\n",
        "                        self.dataframe[self.dataframe[self.image_col] == image_name][self.caption_col]\r\n",
        "                      )\r\n",
        "        return random.choice(all_captions)"
      ],
      "execution_count": 22,
      "outputs": []
    },
    {
      "cell_type": "code",
      "metadata": {
        "id": "nI31TXLTt5nN"
      },
      "source": [
        "def split_data(dataframe, ratios):\r\n",
        "    data_len = dataframe.shape[0]\r\n",
        "\r\n",
        "    lengths = [int(data_len * ratio) for ratio in ratios]\r\n",
        "    if np.sum(lengths) != data_len:\r\n",
        "        lengths[-1] = data_len - np.sum(lengths[:-1])\r\n",
        "    \r\n",
        "    split_indices = [np.sum(lengths[:i+1]) for i in range(len(lengths))]\r\n",
        "    return np.split(df, split_indices)[:len(lengths)]"
      ],
      "execution_count": 23,
      "outputs": []
    },
    {
      "cell_type": "markdown",
      "metadata": {
        "id": "vR7Jmne6x9-2"
      },
      "source": [
        "### Spliting the data"
      ]
    },
    {
      "cell_type": "code",
      "metadata": {
        "id": "UeRZwaiAhdCg"
      },
      "source": [
        "train_data, valid_data, test_data = split_data(df, [0.8, 0.1, 0.1])"
      ],
      "execution_count": 24,
      "outputs": []
    },
    {
      "cell_type": "markdown",
      "metadata": {
        "id": "bpnhls2Qt7qw"
      },
      "source": [
        "### Creating data iterators"
      ]
    },
    {
      "cell_type": "code",
      "metadata": {
        "id": "3I45lfuF2PMM"
      },
      "source": [
        "image_transformer = torchvision.transforms.Compose([\r\n",
        "                          torchvision.transforms.ToTensor(),\r\n",
        "                          torchvision.transforms.Resize((299, 299)),\r\n",
        "                          torchvision.transforms.Normalize([0.485, 0.456, 0.406],\r\n",
        "                                                           [0.229, 0.224, 0.225])\r\n",
        "                    ])"
      ],
      "execution_count": 25,
      "outputs": []
    },
    {
      "cell_type": "code",
      "metadata": {
        "id": "R5PhGf-20hH0"
      },
      "source": [
        "BATCH_SIZE = 1\r\n",
        "main_img_path = \"/content/train2014\""
      ],
      "execution_count": 26,
      "outputs": []
    },
    {
      "cell_type": "code",
      "metadata": {
        "id": "lu1eyytEqymx"
      },
      "source": [
        "train_iterator = BatchIterator(train_data, IMAGE_COL_LABEL, CAPTION_COL_LABEL, BATCH_SIZE, image_transformer, main_img_path)\r\n",
        "valid_iterator = BatchIterator(valid_data, IMAGE_COL_LABEL, CAPTION_COL_LABEL, BATCH_SIZE, image_transformer, main_img_path)\r\n",
        "test_iterator = BatchIterator(test_data, IMAGE_COL_LABEL, CAPTION_COL_LABEL, BATCH_SIZE, image_transformer, main_img_path)"
      ],
      "execution_count": 27,
      "outputs": []
    },
    {
      "cell_type": "markdown",
      "metadata": {
        "id": "zu69FBZQYOzL"
      },
      "source": [
        "# Main Part"
      ]
    },
    {
      "cell_type": "markdown",
      "metadata": {
        "id": "J1QT-hjLzsWD"
      },
      "source": [
        "### Models"
      ]
    },
    {
      "cell_type": "markdown",
      "metadata": {
        "id": "3fo19dru1bh1"
      },
      "source": [
        "**ENCODER**"
      ]
    },
    {
      "cell_type": "code",
      "metadata": {
        "id": "ypRxw45XJqwC"
      },
      "source": [
        "class Encoder(nn.Module):\r\n",
        "    def __init__(self, cnn_model, embedding_size, deny_train_cnn=True):\r\n",
        "        super().__init__()\r\n",
        "        self.cnn_model = cnn_model\r\n",
        "\r\n",
        "        if deny_train_cnn:\r\n",
        "            for param in self.cnn_model.parameters():\r\n",
        "                param.requires_grad = False\r\n",
        "\r\n",
        "        self.fc = nn.Linear(self.cnn_model.fc.in_features, embedding_size)\r\n",
        "\r\n",
        "    def forward(self, images):\r\n",
        "        _, features, _ = self.cnn_model(images)\r\n",
        "        features = self.fc(features)\r\n",
        "        return features "
      ],
      "execution_count": 28,
      "outputs": []
    },
    {
      "cell_type": "markdown",
      "metadata": {
        "id": "UstfHFbjkcwt"
      },
      "source": [
        "**DECODER**"
      ]
    },
    {
      "cell_type": "code",
      "metadata": {
        "id": "azMNeYk2jXl7"
      },
      "source": [
        "class Decoder(nn.Module):\r\n",
        "    def __init__(self, vocab_size, embedding_dim, hidden_dim, rnn_dropout=0.3, num_layers=2, bidirectional=True):\r\n",
        "        super().__init__()\r\n",
        "\r\n",
        "        num_directions = 2 if bidirectional else 1\r\n",
        "        assert hidden_dim % num_directions == 0\r\n",
        "        rnn_hidden_dim = hidden_dim // num_directions\r\n",
        "\r\n",
        "        self.vocab_size = vocab_size\r\n",
        "        self.embedding_layer = nn.Embedding(vocab_size, embedding_dim)\r\n",
        "        self.rnn = nn.LSTM(embedding_dim, rnn_hidden_dim, num_layers=num_layers,\r\n",
        "                           dropout=rnn_dropout, bidirectional=bidirectional, batch_first=True)\r\n",
        "        \r\n",
        "        self.fc = nn.Linear(hidden_dim, vocab_size)\r\n",
        "\r\n",
        "    def forward(self, image_vectors, captions):\r\n",
        "        captions = captions[:, :-1]\r\n",
        "\r\n",
        "        embedded = self.embedding_layer(captions)\r\n",
        "        concated_data = torch.cat((image_vectors.unsqueeze(1), embedded), dim=1)\r\n",
        "        rnn_output, _ = self.rnn(concated_data)\r\n",
        "        logits = self.fc(rnn_output)\r\n",
        "        return logits "
      ],
      "execution_count": 29,
      "outputs": []
    },
    {
      "cell_type": "markdown",
      "metadata": {
        "id": "cyeX5kVtKXd9"
      },
      "source": [
        "### **SEQ-2-SEQ**"
      ]
    },
    {
      "cell_type": "code",
      "metadata": {
        "id": "7oGjQUedEgYM"
      },
      "source": [
        "class CaptionNet(nn.Module):\r\n",
        "    def __init__(self, encoder, decoder, device):\r\n",
        "        super().__init__()\r\n",
        "\r\n",
        "        self.encoder = encoder\r\n",
        "        self.decoder = decoder\r\n",
        "        self.device = device\r\n",
        "\r\n",
        "    def forward(self, images, captions):\r\n",
        "        features = self.encoder(images)\r\n",
        "        outputs = self.decoder(features, captions)\r\n",
        "        return outputs\r\n",
        "\r\n",
        "    def generate_caption(self, image, max_sent_length=30):\r\n",
        "        image.unsqueeze_(0)\r\n",
        "        input = self.encoder(image)\r\n",
        "        input.unsqueeze_(0)\r\n",
        "\r\n",
        "        outputs = torch.zeros(max_sent_length, self.decoder.vocab_size)\r\n",
        "        h_state = None\r\n",
        "\r\n",
        "        for i in range(max_sent_length):\r\n",
        "            output, h_state = self.decoder.rnn(input, h_state)\r\n",
        "            output = self.decoder.fc(output)\r\n",
        "\r\n",
        "            outputs[i, :] = output\r\n",
        "\r\n",
        "            max_pick = output.max(2)[1]\r\n",
        "            input = self.decoder.embedding_layer(max_pick)\r\n",
        "\r\n",
        "        return outputs"
      ],
      "execution_count": 30,
      "outputs": []
    },
    {
      "cell_type": "code",
      "metadata": {
        "colab": {
          "base_uri": "https://localhost:8080/"
        },
        "id": "fX1k_gJdQw9L",
        "outputId": "0c0def41-597b-49f3-d722-babceeac46d5"
      },
      "source": [
        "#@title Hyperparameters { run: \"auto\" }\r\n",
        "\r\n",
        "device = torch.device(\"cuda\" if torch.cuda.is_available() else \"cpu\")\r\n",
        "print(\"Device: \", device)\r\n",
        "\r\n",
        "VOCAB_SIZE = len(text_dataset)\r\n",
        "EMBEDDING_DIM = 300 #@param {type:\"slider\", min:100, max:1000, step:50}\r\n",
        "HIDDEN_DIM = 512 #@param [\"64\", \"128\", \"256\", \"512\", \"1024\", \"2048\"] {type:\"raw\"}\r\n",
        "RNN_DROPOUT = 0.3 #@param {type:\"slider\", min:0, max:1, step:0.1}\r\n",
        "NUM_LAYERS = 2 #@param {type:\"slider\", min:1, max:10, step:1}\r\n",
        "BIDIRECTIONAL = False #@param {type:\"boolean\"}"
      ],
      "execution_count": 32,
      "outputs": [
        {
          "output_type": "stream",
          "text": [
            "Device:  cuda\n"
          ],
          "name": "stdout"
        }
      ]
    },
    {
      "cell_type": "markdown",
      "metadata": {
        "id": "xERVY_VfcP_A"
      },
      "source": [
        "Inception model loading"
      ]
    },
    {
      "cell_type": "code",
      "metadata": {
        "colab": {
          "base_uri": "https://localhost:8080/",
          "height": 170,
          "referenced_widgets": [
            "af1922cfcaec4df48527e7c0da702fea",
            "532c16d2856140f08c85fad4faf5f85d",
            "fe0aca915ed343efa898b755af69c96c",
            "5c42e65d242f45c78d0320f0609d2969",
            "7594a42ec9ab438688d6c80102058a52",
            "7f572381e1df4a75b4b30c63013cfe69",
            "b47ec85b64e54b86a4418fc29ffb346e",
            "1e1133a0796f4be6aa1c1ee5c867e565"
          ]
        },
        "id": "4ZSuJel6cKs7",
        "outputId": "f9689fd4-2d9c-48eb-8ce2-c4336f66b840"
      },
      "source": [
        "%%time\r\n",
        "from beheaded_inception3 import beheaded_inception_v3\r\n",
        "inception = beheaded_inception_v3().train(False)"
      ],
      "execution_count": 33,
      "outputs": [
        {
          "output_type": "stream",
          "text": [
            "/usr/local/lib/python3.6/dist-packages/torchvision/models/inception.py:77: FutureWarning: The default weight initialization of inception_v3 will be changed in future releases of torchvision. If you wish to keep the old behavior (which leads to long initialization times due to scipy/scipy#11299), please set init_weights=True.\n",
            "  ' due to scipy/scipy#11299), please set init_weights=True.', FutureWarning)\n",
            "Downloading: \"https://download.pytorch.org/models/inception_v3_google-1a9a5a14.pth\" to /root/.cache/torch/hub/checkpoints/inception_v3_google-1a9a5a14.pth\n"
          ],
          "name": "stderr"
        },
        {
          "output_type": "display_data",
          "data": {
            "application/vnd.jupyter.widget-view+json": {
              "model_id": "af1922cfcaec4df48527e7c0da702fea",
              "version_minor": 0,
              "version_major": 2
            },
            "text/plain": [
              "HBox(children=(FloatProgress(value=0.0, max=108857766.0), HTML(value='')))"
            ]
          },
          "metadata": {
            "tags": []
          }
        },
        {
          "output_type": "stream",
          "text": [
            "\n",
            "CPU times: user 3min 45s, sys: 543 ms, total: 3min 46s\n",
            "Wall time: 3min 47s\n"
          ],
          "name": "stdout"
        }
      ]
    },
    {
      "cell_type": "code",
      "metadata": {
        "id": "armn4FjEYrAP"
      },
      "source": [
        "encoder = Encoder(inception, EMBEDDING_DIM).to(device)\r\n",
        "decoder = Decoder(VOCAB_SIZE, EMBEDDING_DIM, HIDDEN_DIM, RNN_DROPOUT, NUM_LAYERS, BIDIRECTIONAL).to(device)\r\n",
        "captionNet = CaptionNet(encoder, decoder, device).to(device)"
      ],
      "execution_count": 34,
      "outputs": []
    },
    {
      "cell_type": "code",
      "metadata": {
        "colab": {
          "base_uri": "https://localhost:8080/"
        },
        "id": "ajGSNly1N3ek",
        "outputId": "9e48bab1-9d11-4a49-fce3-405f1bc6f111"
      },
      "source": [
        "def count_parameters(model):\r\n",
        "    return np.sum([param.numel() for param in model.parameters() if param.requires_grad])\r\n",
        "\r\n",
        "print(f'The model has {count_parameters(captionNet):,} trainable parameters')"
      ],
      "execution_count": 35,
      "outputs": [
        {
          "output_type": "stream",
          "text": [
            "The model has 13,221,956 trainable parameters\n"
          ],
          "name": "stdout"
        }
      ]
    },
    {
      "cell_type": "code",
      "metadata": {
        "id": "RRt_2KeOg1Z7"
      },
      "source": [
        "optimizer = torch.optim.Adam(captionNet.parameters(), lr=1e-5)\r\n",
        "criterion = nn.CrossEntropyLoss(ignore_index=0).to(device)"
      ],
      "execution_count": 36,
      "outputs": []
    },
    {
      "cell_type": "code",
      "metadata": {
        "id": "nWpsLmnogEwD"
      },
      "source": [
        "#@title {run: \"auto\" }\r\n",
        "\r\n",
        "EPOCHS = 2 #@param {type:\"slider\", min:1, max:20, step:1}\r\n",
        "CLIP = 1 #@param {type:\"slider\", min:1, max:10, step:1}"
      ],
      "execution_count": 37,
      "outputs": []
    },
    {
      "cell_type": "markdown",
      "metadata": {
        "id": "LxE6vTE4dxXi"
      },
      "source": [
        "### Training"
      ]
    },
    {
      "cell_type": "code",
      "metadata": {
        "id": "V4zt3rsFb9e9"
      },
      "source": [
        "def iterate_model(mode, model, iterator, optimizer=None, criterion=None, device=None, clip=None):\r\n",
        "    if mode == \"train\":\r\n",
        "        model.train()\r\n",
        "    elif mode in (\"valid\", \"test\"):\r\n",
        "        model.eval()\r\n",
        "    else:\r\n",
        "      raise ValueError(\"Invalid mode, must be 'train', 'valid' or 'test'\")\r\n",
        "\r\n",
        "    epoch_loss = 0\r\n",
        "\r\n",
        "    history = []\r\n",
        "    for iteration, batch in tqdm(enumerate(iterator), total=len(iterator)):\r\n",
        "\r\n",
        "        images = torch.stack(batch[\"images\"]).to(device)\r\n",
        "        captions = batch[\"captions\"].to(device)\r\n",
        "\r\n",
        "        output = model(images, captions)\r\n",
        "        loss = criterion(output.view(-1, output.shape[2]), captions.view(-1))\r\n",
        "\r\n",
        "        if mode == \"train\":\r\n",
        "            optimizer.zero_grad()\r\n",
        "            loss.backward()\r\n",
        "            torch.nn.utils.clip_grad_norm_(model.parameters(), clip)\r\n",
        "            optimizer.step()\r\n",
        "\r\n",
        "        epoch_loss += loss.item()\r\n",
        "\r\n",
        "    epoch_loss /= len(iterator)\r\n",
        "\r\n",
        "    return epoch_loss"
      ],
      "execution_count": 38,
      "outputs": []
    },
    {
      "cell_type": "code",
      "metadata": {
        "id": "ABuLojdttF37"
      },
      "source": [
        "def train(epochs, model, train_iterator, valid_iterator, optimizer, criterion, device, clip, patience, save_epoch):\r\n",
        "    MIN_LOSS = np.inf\r\n",
        "    CUR_PATIENCE = 0\r\n",
        "\r\n",
        "    for epoch in range(epochs):\r\n",
        "            \r\n",
        "        train_loss = iterate_model(\"train\", model, train_iterator, optimizer, criterion, device, clip)\r\n",
        "        valid_loss = iterate_model(\"valid\", model, valid_iterator, criterion=criterion, device=device)\r\n",
        "        \r\n",
        "        if valid_loss < MIN_LOSS:\r\n",
        "            MIN_LOSS = valid_loss\r\n",
        "            best_model = model.state_dict()\r\n",
        "        else:\r\n",
        "            CUR_PATIENCE += 1\r\n",
        "            if CUR_PATIENCE == patience:\r\n",
        "                CUR_PATIENCE = 0\r\n",
        "                break\r\n",
        "\r\n",
        "        if (epoch + 1) % save_epoch == 0:\r\n",
        "            torch.save(best_model, 'best-model.pt')\r\n",
        "\r\n",
        "        print(f\"Train loss: {train_loss} | Train perplexity: {np.exp(train_loss)}\")\r\n",
        "        print(f\"Valid loss: {valid_loss} | Valid perplexity: {np.exp(valid_loss)}\")\r\n",
        "        print(\"\\n\")"
      ],
      "execution_count": 39,
      "outputs": []
    },
    {
      "cell_type": "code",
      "metadata": {
        "id": "twzC_viAPSUJ"
      },
      "source": [
        "PATIENCE = 2\r\n",
        "SAVE_EPOCH = 1"
      ],
      "execution_count": 40,
      "outputs": []
    },
    {
      "cell_type": "code",
      "metadata": {
        "id": "dBjZv2crBi7i",
        "colab": {
          "base_uri": "https://localhost:8080/",
          "height": 346,
          "referenced_widgets": [
            "795c66f5354b41398aa1d034706c24a8",
            "e2322ba0df05439ea0f758fdab7adc95",
            "0c57b799909f486abad2b5452a5fc8b5",
            "e64b4aff81d4465c9ba3a93325ca9124",
            "13985d9c48e6454295a81d589c0cfbb4",
            "b5ff9cfcc0b745258ff3f01bd7e9fa54",
            "fddd083869ba4416912df3976ec57517",
            "974a37b50c99409f9af75b2200438b9b",
            "1fcf328714094f1fb8e4307bc33881b9",
            "df8016a2278b4b8183de5ce5cc26147c",
            "61153aebe83a4d6e806178f5fc629e42",
            "ef2f3b5ec5734d769091dbc222ed0dfe",
            "e2a1015ef327464eb21f0c99ed5fbb51",
            "ed7175832a584c208d2d09d4625d0fcc",
            "e5ea7bd6c4634eac8aa25b6916877c46",
            "17d21804f89c411194b14a9adead6b7d",
            "6b95efa8b421410289acc808be38bd10",
            "963c513df6f0401a9d80298295a02ff2",
            "14ceef8b422c4c00bf5b616e5015cf83",
            "00501a8ace10495a9264c133ae59d96a",
            "311a39a22885426ca016899dab38fa3c",
            "306cd4816b424204ae91c4aeb712daa7",
            "f84c3ddda0b04bb7a7791bd4edbdd7ff",
            "85782e7c27e7476f9730b76a1612fd9f",
            "8cfcc1bea615467598f8d3231ca84640",
            "aae867ea0e5a47cd84009a948532a4aa",
            "8fc917e8254442979a275ed9d5d3ab35",
            "cee3e37742a04acb97ff26aee0cb1c69",
            "e6d1de39305c41e384bcd322215915a1",
            "53dc4673674b46f48eb7204151dc4b97",
            "a6d9a6e9839e44eeb207f9a8abc20bc7",
            "96dc36558c6f4dc6a1142d44e366e92c"
          ]
        },
        "outputId": "a2baa3b2-5552-4764-a3c1-e71b1ff0bf17"
      },
      "source": [
        "train(EPOCHS, captionNet, train_iterator, valid_iterator, optimizer, criterion, device, CLIP, PATIENCE, SAVE_EPOCH)"
      ],
      "execution_count": 41,
      "outputs": [
        {
          "output_type": "display_data",
          "data": {
            "application/vnd.jupyter.widget-view+json": {
              "model_id": "795c66f5354b41398aa1d034706c24a8",
              "version_minor": 0,
              "version_major": 2
            },
            "text/plain": [
              "HBox(children=(FloatProgress(value=0.0, max=66227.0), HTML(value='')))"
            ]
          },
          "metadata": {
            "tags": []
          }
        },
        {
          "output_type": "stream",
          "text": [
            "\n"
          ],
          "name": "stdout"
        },
        {
          "output_type": "display_data",
          "data": {
            "application/vnd.jupyter.widget-view+json": {
              "model_id": "1fcf328714094f1fb8e4307bc33881b9",
              "version_minor": 0,
              "version_major": 2
            },
            "text/plain": [
              "HBox(children=(FloatProgress(value=0.0, max=8279.0), HTML(value='')))"
            ]
          },
          "metadata": {
            "tags": []
          }
        },
        {
          "output_type": "stream",
          "text": [
            "\n",
            "Train loss: 4.128834691333078 | Train perplexity: 62.10550866295755\n",
            "Valid loss: 3.722003421600292 | Valid perplexity: 41.347146953831\n",
            "\n",
            "\n"
          ],
          "name": "stdout"
        },
        {
          "output_type": "display_data",
          "data": {
            "application/vnd.jupyter.widget-view+json": {
              "model_id": "6b95efa8b421410289acc808be38bd10",
              "version_minor": 0,
              "version_major": 2
            },
            "text/plain": [
              "HBox(children=(FloatProgress(value=0.0, max=66227.0), HTML(value='')))"
            ]
          },
          "metadata": {
            "tags": []
          }
        },
        {
          "output_type": "stream",
          "text": [
            "\n"
          ],
          "name": "stdout"
        },
        {
          "output_type": "display_data",
          "data": {
            "application/vnd.jupyter.widget-view+json": {
              "model_id": "8cfcc1bea615467598f8d3231ca84640",
              "version_minor": 0,
              "version_major": 2
            },
            "text/plain": [
              "HBox(children=(FloatProgress(value=0.0, max=8279.0), HTML(value='')))"
            ]
          },
          "metadata": {
            "tags": []
          }
        },
        {
          "output_type": "stream",
          "text": [
            "\n",
            "Train loss: 3.58915190121739 | Train perplexity: 36.20335887818101\n",
            "Valid loss: 3.4372603796662764 | Valid perplexity: 31.101634673921083\n",
            "\n",
            "\n"
          ],
          "name": "stdout"
        }
      ]
    },
    {
      "cell_type": "markdown",
      "metadata": {
        "id": "kiRZ2QD2Tvwd"
      },
      "source": [
        "### Loading the model"
      ]
    },
    {
      "cell_type": "code",
      "metadata": {
        "colab": {
          "base_uri": "https://localhost:8080/",
          "height": 35
        },
        "id": "oCyfsiNKIk8I",
        "outputId": "cbaa1e1d-40ed-4e11-a307-85e77285c4ee"
      },
      "source": [
        "# gdown.download(\"https://drive.google.com/u/0/uc?export=download&confirm=NgTP&id=1mmG3iopC2t33J2TLZjlJbe8Xorc7RR-a\", \"best-model.pt\", True)"
      ],
      "execution_count": null,
      "outputs": [
        {
          "output_type": "execute_result",
          "data": {
            "application/vnd.google.colaboratory.intrinsic+json": {
              "type": "string"
            },
            "text/plain": [
              "'best-model.pt'"
            ]
          },
          "metadata": {
            "tags": []
          },
          "execution_count": 42
        }
      ]
    },
    {
      "cell_type": "code",
      "metadata": {
        "id": "0-wsjCGuo5da",
        "colab": {
          "base_uri": "https://localhost:8080/"
        },
        "outputId": "28b2def5-a0ee-47dc-b229-f6fa1198cc63"
      },
      "source": [
        "model_path = \"/content/best-model.pt\"\r\n",
        "\r\n",
        "encoder = Encoder(inception, EMBEDDING_DIM).to(device)\r\n",
        "decoder = Decoder(VOCAB_SIZE, EMBEDDING_DIM, HIDDEN_DIM, RNN_DROPOUT, NUM_LAYERS, BIDIRECTIONAL).to(device)\r\n",
        "captionNet = CaptionNet(encoder, decoder, device).to(device)\r\n",
        "\r\n",
        "captionNet.load_state_dict(torch.load(model_path))"
      ],
      "execution_count": 44,
      "outputs": [
        {
          "output_type": "execute_result",
          "data": {
            "text/plain": [
              "<All keys matched successfully>"
            ]
          },
          "metadata": {
            "tags": []
          },
          "execution_count": 44
        }
      ]
    },
    {
      "cell_type": "markdown",
      "metadata": {
        "id": "OLxtDydeTXqP"
      },
      "source": [
        "### Testing"
      ]
    },
    {
      "cell_type": "code",
      "metadata": {
        "id": "VenDjpnmRghp"
      },
      "source": [
        "def test(model, test_iterator, criterion, device):\r\n",
        "    test_loss = iterate_model(\"test\", model, test_iterator, criterion=criterion, device=device)\r\n",
        "    print(f\"Test loss: {test_loss} | Test perplexity: {np.exp(test_loss)}\")  "
      ],
      "execution_count": 45,
      "outputs": []
    },
    {
      "cell_type": "code",
      "metadata": {
        "colab": {
          "base_uri": "https://localhost:8080/",
          "height": 82,
          "referenced_widgets": [
            "820cd0b089bc49849124e4a1d87ac9f0",
            "cc60e8f67c0e4bd1aab1a6df1e5353c8",
            "c2d72380d18f4233b2c11ebae1540793",
            "b4013ed6e7d94e96abcaa230f99c38c7",
            "5c3345d0dafb4d1095e20e86319a35e3",
            "97a061c9763c4a149cadc5309240a10f",
            "e3f08993ff3844ada807341238a49144",
            "972fead5f0ef4f4fb1996bc836162ffc"
          ]
        },
        "id": "UhaxP8oHTQUJ",
        "outputId": "27d903fc-9c9c-43d4-a832-470167e02497"
      },
      "source": [
        "test(captionNet, test_iterator, criterion, device)"
      ],
      "execution_count": 46,
      "outputs": [
        {
          "output_type": "display_data",
          "data": {
            "application/vnd.jupyter.widget-view+json": {
              "model_id": "820cd0b089bc49849124e4a1d87ac9f0",
              "version_minor": 0,
              "version_major": 2
            },
            "text/plain": [
              "HBox(children=(FloatProgress(value=0.0, max=8279.0), HTML(value='')))"
            ]
          },
          "metadata": {
            "tags": []
          }
        },
        {
          "output_type": "stream",
          "text": [
            "\n",
            "Test loss: 3.452462588413166 | Test perplexity: 31.578060402881494\n"
          ],
          "name": "stdout"
        }
      ]
    },
    {
      "cell_type": "markdown",
      "metadata": {
        "id": "AVoc8Kwhz78n"
      },
      "source": [
        "### Predicting"
      ]
    },
    {
      "cell_type": "code",
      "metadata": {
        "id": "96kseko953NL"
      },
      "source": [
        "import matplotlib.pyplot as plt"
      ],
      "execution_count": 47,
      "outputs": []
    },
    {
      "cell_type": "code",
      "metadata": {
        "id": "Bqvizl09Xm66"
      },
      "source": [
        "def predict_caption(model, image_path, max_seq_length=30) -> None: \r\n",
        "    image = Image.open(image_path)\r\n",
        "    image = image.convert(\"RGB\")\r\n",
        "    transformed_image = image_transformer(image).to(device)\r\n",
        "\r\n",
        "    sample_ids = model.generate_caption(transformed_image, max_seq_length)\r\n",
        "    sample_ids = torch.softmax(sample_ids, 1)\r\n",
        "    sample_ids = torch.argmax(sample_ids, 1).numpy()\r\n",
        "\r\n",
        "    sentence = []\r\n",
        "    for idx in sample_ids:\r\n",
        "        sentence.append(text_dataset.idx2token[idx])\r\n",
        "\r\n",
        "    plt.imshow(image)\r\n",
        "    print(f\"Caption: {' '.join(sentence)}\")"
      ],
      "execution_count": 52,
      "outputs": []
    },
    {
      "cell_type": "markdown",
      "metadata": {
        "id": "hu4qxnpdJ4yo"
      },
      "source": [
        "### Something went wrong :("
      ]
    },
    {
      "cell_type": "code",
      "metadata": {
        "colab": {
          "base_uri": "https://localhost:8080/",
          "height": 286
        },
        "id": "8BryT7pEvoxy",
        "outputId": "14797e5e-9cac-406b-a149-8439f8764f5d"
      },
      "source": [
        "img_name = random.choice(os.listdir(\"/content/train2014\"))\r\n",
        "image_path = os.path.join(main_img_path, img_name)\r\n",
        "predict_caption(captionNet, image_path)"
      ],
      "execution_count": 53,
      "outputs": [
        {
          "output_type": "stream",
          "text": [
            "Caption: <BOS> a man is standing on a skateboard in the snow <EOS> <EOS> <EOS> <EOS> <EOS> <EOS> <EOS> <EOS> <EOS> <EOS> <EOS> <EOS> <EOS> <EOS> <EOS> <EOS> <EOS> <EOS> <EOS>\n"
          ],
          "name": "stdout"
        },
        {
          "output_type": "display_data",
          "data": {
            "image/png": "[encoded data removed]",
            "text/plain": [
              "<Figure size 432x288 with 1 Axes>"
            ]
          },
          "metadata": {
            "tags": [],
            "needs_background": "light"
          }
        }
      ]
    },
    {
      "cell_type": "code",
      "metadata": {
        "id": "AuBnvQX6Jxv_",
        "colab": {
          "base_uri": "https://localhost:8080/",
          "height": 286
        },
        "outputId": "ab94fa4a-d952-4aea-cdaf-311a79732262"
      },
      "source": [
        "img_name = random.choice(os.listdir(\"/content/train2014\"))\r\n",
        "image_path = os.path.join(main_img_path, img_name)\r\n",
        "\r\n",
        "predict_caption(captionNet, image_path)"
      ],
      "execution_count": 54,
      "outputs": [
        {
          "output_type": "stream",
          "text": [
            "Caption: <BOS> a man is standing on a skateboard in the snow <EOS> <EOS> <EOS> <EOS> <EOS> <EOS> <EOS> <EOS> <EOS> <EOS> <EOS> <EOS> <EOS> <EOS> <EOS> <EOS> <EOS> <EOS> <EOS>\n"
          ],
          "name": "stdout"
        },
        {
          "output_type": "display_data",
          "data": {
            "image/png": "[encoded data removed]",
            "text/plain": [
              "<Figure size 432x288 with 1 Axes>"
            ]
          },
          "metadata": {
            "tags": [],
            "needs_background": "light"
          }
        }
      ]
    },
    {
      "cell_type": "code",
      "metadata": {
        "id": "sAO-Baw2qe6Q"
      },
      "source": [
        ""
      ],
      "execution_count": null,
      "outputs": []
    }
  ]
}